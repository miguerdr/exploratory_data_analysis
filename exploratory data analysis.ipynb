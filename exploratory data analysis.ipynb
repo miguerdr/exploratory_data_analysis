{
 "cells": [
  {
   "cell_type": "markdown",
   "id": "1e26360d",
   "metadata": {},
   "source": [
    "## Inicialización"
   ]
  },
  {
   "cell_type": "markdown",
   "id": "63e72d9a",
   "metadata": {},
   "source": [
    "### Cargar datos"
   ]
  },
  {
   "cell_type": "code",
   "execution_count": 1,
   "id": "754b7fd2",
   "metadata": {},
   "outputs": [],
   "source": [
    "# Cargar todas las librerías\n",
    "import pandas as pd\n",
    "import numpy as np\n",
    "import matplotlib.pyplot as plt"
   ]
  },
  {
   "cell_type": "code",
   "execution_count": 2,
   "id": "461a1061",
   "metadata": {},
   "outputs": [],
   "source": [
    "# Carga el archivo de datos en un DataFrame\n",
    "try:\n",
    "    df = pd.read_csv('vehicles_us.csv')\n",
    "except: \n",
    "    df = pd.read_csv('/datasets/vehicles_us.csv')"
   ]
  },
  {
   "cell_type": "code",
   "execution_count": 3,
   "id": "a314519e",
   "metadata": {},
   "outputs": [
    {
     "name": "stdout",
     "output_type": "stream",
     "text": [
      "<class 'pandas.core.frame.DataFrame'>\n",
      "RangeIndex: 51525 entries, 0 to 51524\n",
      "Data columns (total 13 columns):\n",
      " #   Column        Non-Null Count  Dtype  \n",
      "---  ------        --------------  -----  \n",
      " 0   price         51525 non-null  int64  \n",
      " 1   model_year    47906 non-null  float64\n",
      " 2   model         51525 non-null  object \n",
      " 3   condition     51525 non-null  object \n",
      " 4   cylinders     46265 non-null  float64\n",
      " 5   fuel          51525 non-null  object \n",
      " 6   odometer      43633 non-null  float64\n",
      " 7   transmission  51525 non-null  object \n",
      " 8   type          51525 non-null  object \n",
      " 9   paint_color   42258 non-null  object \n",
      " 10  is_4wd        25572 non-null  float64\n",
      " 11  date_posted   51525 non-null  object \n",
      " 12  days_listed   51525 non-null  int64  \n",
      "dtypes: float64(4), int64(2), object(7)\n",
      "memory usage: 5.1+ MB\n"
     ]
    }
   ],
   "source": [
    "# imprime la información general/resumida sobre el DataFrame\n",
    "df.info()"
   ]
  },
  {
   "cell_type": "code",
   "execution_count": 4,
   "id": "a57214f8",
   "metadata": {},
   "outputs": [
    {
     "data": {
      "text/html": [
       "<div>\n",
       "<style scoped>\n",
       "    .dataframe tbody tr th:only-of-type {\n",
       "        vertical-align: middle;\n",
       "    }\n",
       "\n",
       "    .dataframe tbody tr th {\n",
       "        vertical-align: top;\n",
       "    }\n",
       "\n",
       "    .dataframe thead th {\n",
       "        text-align: right;\n",
       "    }\n",
       "</style>\n",
       "<table border=\"1\" class=\"dataframe\">\n",
       "  <thead>\n",
       "    <tr style=\"text-align: right;\">\n",
       "      <th></th>\n",
       "      <th>price</th>\n",
       "      <th>model_year</th>\n",
       "      <th>model</th>\n",
       "      <th>condition</th>\n",
       "      <th>cylinders</th>\n",
       "      <th>fuel</th>\n",
       "      <th>odometer</th>\n",
       "      <th>transmission</th>\n",
       "      <th>type</th>\n",
       "      <th>paint_color</th>\n",
       "      <th>is_4wd</th>\n",
       "      <th>date_posted</th>\n",
       "      <th>days_listed</th>\n",
       "    </tr>\n",
       "  </thead>\n",
       "  <tbody>\n",
       "    <tr>\n",
       "      <th>0</th>\n",
       "      <td>9400</td>\n",
       "      <td>2011.0</td>\n",
       "      <td>bmw x5</td>\n",
       "      <td>good</td>\n",
       "      <td>6.0</td>\n",
       "      <td>gas</td>\n",
       "      <td>145000.0</td>\n",
       "      <td>automatic</td>\n",
       "      <td>SUV</td>\n",
       "      <td>NaN</td>\n",
       "      <td>1.0</td>\n",
       "      <td>2018-06-23</td>\n",
       "      <td>19</td>\n",
       "    </tr>\n",
       "    <tr>\n",
       "      <th>1</th>\n",
       "      <td>25500</td>\n",
       "      <td>NaN</td>\n",
       "      <td>ford f-150</td>\n",
       "      <td>good</td>\n",
       "      <td>6.0</td>\n",
       "      <td>gas</td>\n",
       "      <td>88705.0</td>\n",
       "      <td>automatic</td>\n",
       "      <td>pickup</td>\n",
       "      <td>white</td>\n",
       "      <td>1.0</td>\n",
       "      <td>2018-10-19</td>\n",
       "      <td>50</td>\n",
       "    </tr>\n",
       "    <tr>\n",
       "      <th>2</th>\n",
       "      <td>5500</td>\n",
       "      <td>2013.0</td>\n",
       "      <td>hyundai sonata</td>\n",
       "      <td>like new</td>\n",
       "      <td>4.0</td>\n",
       "      <td>gas</td>\n",
       "      <td>110000.0</td>\n",
       "      <td>automatic</td>\n",
       "      <td>sedan</td>\n",
       "      <td>red</td>\n",
       "      <td>NaN</td>\n",
       "      <td>2019-02-07</td>\n",
       "      <td>79</td>\n",
       "    </tr>\n",
       "    <tr>\n",
       "      <th>3</th>\n",
       "      <td>1500</td>\n",
       "      <td>2003.0</td>\n",
       "      <td>ford f-150</td>\n",
       "      <td>fair</td>\n",
       "      <td>8.0</td>\n",
       "      <td>gas</td>\n",
       "      <td>NaN</td>\n",
       "      <td>automatic</td>\n",
       "      <td>pickup</td>\n",
       "      <td>NaN</td>\n",
       "      <td>NaN</td>\n",
       "      <td>2019-03-22</td>\n",
       "      <td>9</td>\n",
       "    </tr>\n",
       "    <tr>\n",
       "      <th>4</th>\n",
       "      <td>14900</td>\n",
       "      <td>2017.0</td>\n",
       "      <td>chrysler 200</td>\n",
       "      <td>excellent</td>\n",
       "      <td>4.0</td>\n",
       "      <td>gas</td>\n",
       "      <td>80903.0</td>\n",
       "      <td>automatic</td>\n",
       "      <td>sedan</td>\n",
       "      <td>black</td>\n",
       "      <td>NaN</td>\n",
       "      <td>2019-04-02</td>\n",
       "      <td>28</td>\n",
       "    </tr>\n",
       "    <tr>\n",
       "      <th>5</th>\n",
       "      <td>14990</td>\n",
       "      <td>2014.0</td>\n",
       "      <td>chrysler 300</td>\n",
       "      <td>excellent</td>\n",
       "      <td>6.0</td>\n",
       "      <td>gas</td>\n",
       "      <td>57954.0</td>\n",
       "      <td>automatic</td>\n",
       "      <td>sedan</td>\n",
       "      <td>black</td>\n",
       "      <td>1.0</td>\n",
       "      <td>2018-06-20</td>\n",
       "      <td>15</td>\n",
       "    </tr>\n",
       "    <tr>\n",
       "      <th>6</th>\n",
       "      <td>12990</td>\n",
       "      <td>2015.0</td>\n",
       "      <td>toyota camry</td>\n",
       "      <td>excellent</td>\n",
       "      <td>4.0</td>\n",
       "      <td>gas</td>\n",
       "      <td>79212.0</td>\n",
       "      <td>automatic</td>\n",
       "      <td>sedan</td>\n",
       "      <td>white</td>\n",
       "      <td>NaN</td>\n",
       "      <td>2018-12-27</td>\n",
       "      <td>73</td>\n",
       "    </tr>\n",
       "    <tr>\n",
       "      <th>7</th>\n",
       "      <td>15990</td>\n",
       "      <td>2013.0</td>\n",
       "      <td>honda pilot</td>\n",
       "      <td>excellent</td>\n",
       "      <td>6.0</td>\n",
       "      <td>gas</td>\n",
       "      <td>109473.0</td>\n",
       "      <td>automatic</td>\n",
       "      <td>SUV</td>\n",
       "      <td>black</td>\n",
       "      <td>1.0</td>\n",
       "      <td>2019-01-07</td>\n",
       "      <td>68</td>\n",
       "    </tr>\n",
       "    <tr>\n",
       "      <th>8</th>\n",
       "      <td>11500</td>\n",
       "      <td>2012.0</td>\n",
       "      <td>kia sorento</td>\n",
       "      <td>excellent</td>\n",
       "      <td>4.0</td>\n",
       "      <td>gas</td>\n",
       "      <td>104174.0</td>\n",
       "      <td>automatic</td>\n",
       "      <td>SUV</td>\n",
       "      <td>NaN</td>\n",
       "      <td>1.0</td>\n",
       "      <td>2018-07-16</td>\n",
       "      <td>19</td>\n",
       "    </tr>\n",
       "    <tr>\n",
       "      <th>9</th>\n",
       "      <td>9200</td>\n",
       "      <td>2008.0</td>\n",
       "      <td>honda pilot</td>\n",
       "      <td>excellent</td>\n",
       "      <td>NaN</td>\n",
       "      <td>gas</td>\n",
       "      <td>147191.0</td>\n",
       "      <td>automatic</td>\n",
       "      <td>SUV</td>\n",
       "      <td>blue</td>\n",
       "      <td>1.0</td>\n",
       "      <td>2019-02-15</td>\n",
       "      <td>17</td>\n",
       "    </tr>\n",
       "  </tbody>\n",
       "</table>\n",
       "</div>"
      ],
      "text/plain": [
       "   price  model_year           model  condition  cylinders fuel  odometer  \\\n",
       "0   9400      2011.0          bmw x5       good        6.0  gas  145000.0   \n",
       "1  25500         NaN      ford f-150       good        6.0  gas   88705.0   \n",
       "2   5500      2013.0  hyundai sonata   like new        4.0  gas  110000.0   \n",
       "3   1500      2003.0      ford f-150       fair        8.0  gas       NaN   \n",
       "4  14900      2017.0    chrysler 200  excellent        4.0  gas   80903.0   \n",
       "5  14990      2014.0    chrysler 300  excellent        6.0  gas   57954.0   \n",
       "6  12990      2015.0    toyota camry  excellent        4.0  gas   79212.0   \n",
       "7  15990      2013.0     honda pilot  excellent        6.0  gas  109473.0   \n",
       "8  11500      2012.0     kia sorento  excellent        4.0  gas  104174.0   \n",
       "9   9200      2008.0     honda pilot  excellent        NaN  gas  147191.0   \n",
       "\n",
       "  transmission    type paint_color  is_4wd date_posted  days_listed  \n",
       "0    automatic     SUV         NaN     1.0  2018-06-23           19  \n",
       "1    automatic  pickup       white     1.0  2018-10-19           50  \n",
       "2    automatic   sedan         red     NaN  2019-02-07           79  \n",
       "3    automatic  pickup         NaN     NaN  2019-03-22            9  \n",
       "4    automatic   sedan       black     NaN  2019-04-02           28  \n",
       "5    automatic   sedan       black     1.0  2018-06-20           15  \n",
       "6    automatic   sedan       white     NaN  2018-12-27           73  \n",
       "7    automatic     SUV       black     1.0  2019-01-07           68  \n",
       "8    automatic     SUV         NaN     1.0  2018-07-16           19  \n",
       "9    automatic     SUV        blue     1.0  2019-02-15           17  "
      ]
     },
     "execution_count": 4,
     "metadata": {},
     "output_type": "execute_result"
    }
   ],
   "source": [
    "# imprimir una muestra de datos\n",
    "df.head(10)"
   ]
  },
  {
   "cell_type": "markdown",
   "id": "d6d0319d",
   "metadata": {},
   "source": [
    "- En la muestra podemos observar valores ausentes en las columnas model_year, cylinders, odometer, paint_color, is_4wd\n",
    "- Podemos ver que los valores para model_year, date_posted, no estan en el formato correcto.\n",
    "- Podemos ver en la columna is_4wd, no esta en un formato booleano.\n",
    "- La columna cylinders no esta en el formato de int."
   ]
  },
  {
   "cell_type": "markdown",
   "id": "92d62324",
   "metadata": {},
   "source": [
    "## Tratar los valores ausentes (si hay)"
   ]
  },
  {
   "cell_type": "code",
   "execution_count": 5,
   "id": "ea1fed26",
   "metadata": {},
   "outputs": [
    {
     "data": {
      "text/plain": [
       "price            0.000000\n",
       "model_year       7.023775\n",
       "model            0.000000\n",
       "condition        0.000000\n",
       "cylinders       10.208637\n",
       "fuel             0.000000\n",
       "odometer        15.316836\n",
       "transmission     0.000000\n",
       "type             0.000000\n",
       "paint_color     17.985444\n",
       "is_4wd          50.369723\n",
       "date_posted      0.000000\n",
       "days_listed      0.000000\n",
       "dtype: float64"
      ]
     },
     "execution_count": 5,
     "metadata": {},
     "output_type": "execute_result"
    }
   ],
   "source": [
    "# Veamos la tabla filtrada con valores ausentes\n",
    "porcent_table = (df.isna().sum()/len(df) )*100\n",
    "porcent_table"
   ]
  },
  {
   "cell_type": "markdown",
   "id": "855551fe",
   "metadata": {},
   "source": [
    "### Empezaremos con la columna is_4wd, donde solo hay el valor True o False"
   ]
  },
  {
   "cell_type": "code",
   "execution_count": 6,
   "id": "e003277e",
   "metadata": {},
   "outputs": [
    {
     "data": {
      "text/plain": [
       "1.0    25572\n",
       "Name: is_4wd, dtype: int64"
      ]
     },
     "execution_count": 6,
     "metadata": {},
     "output_type": "execute_result"
    }
   ],
   "source": [
    "df['is_4wd'].value_counts()"
   ]
  },
  {
   "cell_type": "markdown",
   "id": "c7aa920a",
   "metadata": {},
   "source": [
    "Podemos observar que solo se registran valores 1, ya que solo hay dos tipos de valores (1, 0) podemos suponer que los valores faltantes son 0, y los sustituiremos por ese valor"
   ]
  },
  {
   "cell_type": "code",
   "execution_count": 7,
   "id": "0c6257f5",
   "metadata": {},
   "outputs": [
    {
     "name": "stdout",
     "output_type": "stream",
     "text": [
      "<class 'pandas.core.frame.DataFrame'>\n",
      "RangeIndex: 51525 entries, 0 to 51524\n",
      "Data columns (total 13 columns):\n",
      " #   Column        Non-Null Count  Dtype  \n",
      "---  ------        --------------  -----  \n",
      " 0   price         51525 non-null  int64  \n",
      " 1   model_year    47906 non-null  float64\n",
      " 2   model         51525 non-null  object \n",
      " 3   condition     51525 non-null  object \n",
      " 4   cylinders     46265 non-null  float64\n",
      " 5   fuel          51525 non-null  object \n",
      " 6   odometer      43633 non-null  float64\n",
      " 7   transmission  51525 non-null  object \n",
      " 8   type          51525 non-null  object \n",
      " 9   paint_color   42258 non-null  object \n",
      " 10  is_4wd        51525 non-null  float64\n",
      " 11  date_posted   51525 non-null  object \n",
      " 12  days_listed   51525 non-null  int64  \n",
      "dtypes: float64(4), int64(2), object(7)\n",
      "memory usage: 5.1+ MB\n"
     ]
    }
   ],
   "source": [
    "df['is_4wd'] = df['is_4wd'].fillna(0)\n",
    "df.info()"
   ]
  },
  {
   "cell_type": "markdown",
   "id": "515677cd",
   "metadata": {},
   "source": [
    "Podemos observar que ya no tenemos valores ausentes en la columna is_4wd"
   ]
  },
  {
   "cell_type": "markdown",
   "id": "1cfee6aa",
   "metadata": {},
   "source": [
    "`creamos un nuevo DataFrame sin valores ausentes, le pasamos la funcion value_counts para saber la frecuencia relativa en cada columna, hacemos lo mismo con el DataFrame con valores ausentes `"
   ]
  },
  {
   "cell_type": "code",
   "execution_count": 8,
   "id": "d35dfa0b",
   "metadata": {},
   "outputs": [
    {
     "name": "stdout",
     "output_type": "stream",
     "text": [
      "<class 'pandas.core.frame.DataFrame'>\n",
      "Int64Index: 29916 entries, 2 to 51523\n",
      "Data columns (total 13 columns):\n",
      " #   Column        Non-Null Count  Dtype  \n",
      "---  ------        --------------  -----  \n",
      " 0   price         29916 non-null  int64  \n",
      " 1   model_year    29916 non-null  float64\n",
      " 2   model         29916 non-null  object \n",
      " 3   condition     29916 non-null  object \n",
      " 4   cylinders     29916 non-null  float64\n",
      " 5   fuel          29916 non-null  object \n",
      " 6   odometer      29916 non-null  float64\n",
      " 7   transmission  29916 non-null  object \n",
      " 8   type          29916 non-null  object \n",
      " 9   paint_color   29916 non-null  object \n",
      " 10  is_4wd        29916 non-null  float64\n",
      " 11  date_posted   29916 non-null  object \n",
      " 12  days_listed   29916 non-null  int64  \n",
      "dtypes: float64(4), int64(2), object(7)\n",
      "memory usage: 3.2+ MB\n"
     ]
    }
   ],
   "source": [
    "#DataFrame sin valores ausentes\n",
    "df_without_nan = df.dropna()\n",
    "df_without_nan.info()"
   ]
  },
  {
   "cell_type": "markdown",
   "id": "becbe58a",
   "metadata": {},
   "source": [
    "### Trabajaremos con los valores ausentes en model_year\n",
    "\n",
    "Podemos ver que el porcentaje de valores ausentes es del 7.023775%, determinaremos si los valores ausentes presentan un patrón, es decir, si su aparición en el conjunto de datos es aleatoria o no."
   ]
  },
  {
   "cell_type": "code",
   "execution_count": 9,
   "id": "befb7592",
   "metadata": {},
   "outputs": [
    {
     "name": "stdout",
     "output_type": "stream",
     "text": [
      "1908.0    0.800675\n",
      "1929.0         NaN\n",
      "1936.0    1.601350\n",
      "1948.0    1.601350\n",
      "1949.0         NaN\n",
      "            ...   \n",
      "2015.0    0.991748\n",
      "2016.0    0.996372\n",
      "2017.0    1.002913\n",
      "2018.0    1.023024\n",
      "2019.0    1.002951\n",
      "Name: model_year, Length: 68, dtype: float64\n",
      "False    65\n",
      "True      3\n",
      "Name: model_year, dtype: int64\n"
     ]
    }
   ],
   "source": [
    "# Comprobación de la distribución en model_year\n",
    "difference_model_year = df_without_nan['model_year'].value_counts(normalize = True) / df['model_year'].value_counts(normalize = True)\n",
    "print(difference_model_year)\n",
    "print(difference_model_year.isnull().value_counts())"
   ]
  },
  {
   "cell_type": "markdown",
   "id": "a9440d5d",
   "metadata": {},
   "source": [
    "Ya que con esta información no podemos sacar conclusiones, buscaremos un patron con la columna model"
   ]
  },
  {
   "cell_type": "code",
   "execution_count": 10,
   "id": "45407cc0",
   "metadata": {},
   "outputs": [
    {
     "data": {
      "text/html": [
       "<div>\n",
       "<style scoped>\n",
       "    .dataframe tbody tr th:only-of-type {\n",
       "        vertical-align: middle;\n",
       "    }\n",
       "\n",
       "    .dataframe tbody tr th {\n",
       "        vertical-align: top;\n",
       "    }\n",
       "\n",
       "    .dataframe thead tr th {\n",
       "        text-align: left;\n",
       "    }\n",
       "\n",
       "    .dataframe thead tr:last-of-type th {\n",
       "        text-align: right;\n",
       "    }\n",
       "</style>\n",
       "<table border=\"1\" class=\"dataframe\">\n",
       "  <thead>\n",
       "    <tr>\n",
       "      <th></th>\n",
       "      <th>median</th>\n",
       "      <th>mean</th>\n",
       "    </tr>\n",
       "    <tr>\n",
       "      <th></th>\n",
       "      <th>model_year</th>\n",
       "      <th>model_year</th>\n",
       "    </tr>\n",
       "    <tr>\n",
       "      <th>model</th>\n",
       "      <th></th>\n",
       "      <th></th>\n",
       "    </tr>\n",
       "  </thead>\n",
       "  <tbody>\n",
       "    <tr>\n",
       "      <th>acura tl</th>\n",
       "      <td>2007.0</td>\n",
       "      <td>2007.517857</td>\n",
       "    </tr>\n",
       "    <tr>\n",
       "      <th>bmw x5</th>\n",
       "      <td>2010.0</td>\n",
       "      <td>2008.991870</td>\n",
       "    </tr>\n",
       "    <tr>\n",
       "      <th>buick enclave</th>\n",
       "      <td>2012.0</td>\n",
       "      <td>2012.194553</td>\n",
       "    </tr>\n",
       "    <tr>\n",
       "      <th>cadillac escalade</th>\n",
       "      <td>2009.0</td>\n",
       "      <td>2008.508475</td>\n",
       "    </tr>\n",
       "    <tr>\n",
       "      <th>chevrolet camaro</th>\n",
       "      <td>2013.0</td>\n",
       "      <td>2008.397959</td>\n",
       "    </tr>\n",
       "    <tr>\n",
       "      <th>...</th>\n",
       "      <td>...</td>\n",
       "      <td>...</td>\n",
       "    </tr>\n",
       "    <tr>\n",
       "      <th>toyota sienna</th>\n",
       "      <td>2008.0</td>\n",
       "      <td>2008.584416</td>\n",
       "    </tr>\n",
       "    <tr>\n",
       "      <th>toyota tacoma</th>\n",
       "      <td>2010.0</td>\n",
       "      <td>2009.331599</td>\n",
       "    </tr>\n",
       "    <tr>\n",
       "      <th>toyota tundra</th>\n",
       "      <td>2009.0</td>\n",
       "      <td>2009.350352</td>\n",
       "    </tr>\n",
       "    <tr>\n",
       "      <th>volkswagen jetta</th>\n",
       "      <td>2012.0</td>\n",
       "      <td>2010.779381</td>\n",
       "    </tr>\n",
       "    <tr>\n",
       "      <th>volkswagen passat</th>\n",
       "      <td>2013.0</td>\n",
       "      <td>2011.253086</td>\n",
       "    </tr>\n",
       "  </tbody>\n",
       "</table>\n",
       "<p>100 rows × 2 columns</p>\n",
       "</div>"
      ],
      "text/plain": [
       "                      median         mean\n",
       "                  model_year   model_year\n",
       "model                                    \n",
       "acura tl              2007.0  2007.517857\n",
       "bmw x5                2010.0  2008.991870\n",
       "buick enclave         2012.0  2012.194553\n",
       "cadillac escalade     2009.0  2008.508475\n",
       "chevrolet camaro      2013.0  2008.397959\n",
       "...                      ...          ...\n",
       "toyota sienna         2008.0  2008.584416\n",
       "toyota tacoma         2010.0  2009.331599\n",
       "toyota tundra         2009.0  2009.350352\n",
       "volkswagen jetta      2012.0  2010.779381\n",
       "volkswagen passat     2013.0  2011.253086\n",
       "\n",
       "[100 rows x 2 columns]"
      ]
     },
     "execution_count": 10,
     "metadata": {},
     "output_type": "execute_result"
    }
   ],
   "source": [
    "#Realizamos una tabla dinamica para asociar el model con model_year y asi poder rellenar los valores en los modelos que faltan\n",
    "table_model_year = df.pivot_table(index = 'model', values = 'model_year', aggfunc = ['median', 'mean'])\n",
    "model_year_median = df.pivot_table(index = 'model', values = 'model_year', aggfunc = 'median')\n",
    "table_model_year"
   ]
  },
  {
   "cell_type": "markdown",
   "id": "fac6d20f",
   "metadata": {},
   "source": [
    "Tomamos los valores de mediana ya que no puede haber numeros de coma flotante para el año y sustituimos los valores ausentes "
   ]
  },
  {
   "cell_type": "code",
   "execution_count": 11,
   "id": "8cacc2f9",
   "metadata": {},
   "outputs": [],
   "source": [
    "# Usaremos una funcion para completar los valores ausentes\n",
    "\n",
    "def model_year(row):\n",
    "    model = row['model']\n",
    "    model_year = row['model_year']\n",
    "    if pd.isna(model_year):\n",
    "        return model_year_median['model_year'][model]\n",
    "    return model_year"
   ]
  },
  {
   "cell_type": "code",
   "execution_count": 12,
   "id": "775d48e8",
   "metadata": {
    "scrolled": true
   },
   "outputs": [
    {
     "data": {
      "text/plain": [
       "2011.0"
      ]
     },
     "execution_count": 12,
     "metadata": {},
     "output_type": "execute_result"
    }
   ],
   "source": [
    "#comprobar la funcioncion \n",
    "row_values = [np.nan, \"ford f-150\"]  \n",
    "row_columns = ['model_year', 'model']\n",
    "row = pd.Series(data=row_values, index=row_columns)\n",
    "model_year(row)"
   ]
  },
  {
   "cell_type": "code",
   "execution_count": 13,
   "id": "8e193383",
   "metadata": {},
   "outputs": [],
   "source": [
    "# Reemplazar los valores ausentes si hay algún error\n",
    "df['model_year'] = df.apply(model_year, axis=1)"
   ]
  },
  {
   "cell_type": "code",
   "execution_count": 14,
   "id": "f39ad19f",
   "metadata": {},
   "outputs": [
    {
     "name": "stdout",
     "output_type": "stream",
     "text": [
      "<class 'pandas.core.frame.DataFrame'>\n",
      "RangeIndex: 51525 entries, 0 to 51524\n",
      "Data columns (total 13 columns):\n",
      " #   Column        Non-Null Count  Dtype  \n",
      "---  ------        --------------  -----  \n",
      " 0   price         51525 non-null  int64  \n",
      " 1   model_year    51525 non-null  float64\n",
      " 2   model         51525 non-null  object \n",
      " 3   condition     51525 non-null  object \n",
      " 4   cylinders     46265 non-null  float64\n",
      " 5   fuel          51525 non-null  object \n",
      " 6   odometer      43633 non-null  float64\n",
      " 7   transmission  51525 non-null  object \n",
      " 8   type          51525 non-null  object \n",
      " 9   paint_color   42258 non-null  object \n",
      " 10  is_4wd        51525 non-null  float64\n",
      " 11  date_posted   51525 non-null  object \n",
      " 12  days_listed   51525 non-null  int64  \n",
      "dtypes: float64(4), int64(2), object(7)\n",
      "memory usage: 5.1+ MB\n"
     ]
    },
    {
     "data": {
      "text/plain": [
       "False    51525\n",
       "Name: model_year, dtype: int64"
      ]
     },
     "execution_count": 14,
     "metadata": {},
     "output_type": "execute_result"
    }
   ],
   "source": [
    "#comprobando los datos en el DataFrame\n",
    "df.info()\n",
    "df['model_year'].isnull().value_counts()"
   ]
  },
  {
   "cell_type": "markdown",
   "id": "9e5638c5",
   "metadata": {},
   "source": [
    "### Trabajaremos con los valores ausentes en cylinders\n",
    "\n",
    "Podemos ver que el porcentaje de valores ausentes es del 10.208637%, determinaremos si los valores ausentes presentan un patrón, es decir, si su aparición en el conjunto de datos es aleatoria o no."
   ]
  },
  {
   "cell_type": "code",
   "execution_count": 15,
   "id": "165f4250",
   "metadata": {
    "scrolled": true
   },
   "outputs": [
    {
     "name": "stdout",
     "output_type": "stream",
     "text": [
      "8.0     1.003993\n",
      "6.0     1.002859\n",
      "4.0     0.990320\n",
      "10.0    1.022547\n",
      "5.0     1.040474\n",
      "3.0     1.091645\n",
      "12.0    0.773248\n",
      "Name: cylinders, dtype: float64\n"
     ]
    }
   ],
   "source": [
    "# Comprobación de la distribución en cylinders\n",
    "difference_cylinders = df_without_nan['cylinders'].value_counts(normalize = True) / df['cylinders'].value_counts(normalize = True)\n",
    "print(difference_cylinders)"
   ]
  },
  {
   "cell_type": "markdown",
   "id": "839629db",
   "metadata": {},
   "source": [
    "Ya que con esta información no podemos sacar conclusiones, buscaremos un patron con la columna model"
   ]
  },
  {
   "cell_type": "code",
   "execution_count": 16,
   "id": "8b049e72",
   "metadata": {},
   "outputs": [
    {
     "data": {
      "text/html": [
       "<div>\n",
       "<style scoped>\n",
       "    .dataframe tbody tr th:only-of-type {\n",
       "        vertical-align: middle;\n",
       "    }\n",
       "\n",
       "    .dataframe tbody tr th {\n",
       "        vertical-align: top;\n",
       "    }\n",
       "\n",
       "    .dataframe thead tr th {\n",
       "        text-align: left;\n",
       "    }\n",
       "\n",
       "    .dataframe thead tr:last-of-type th {\n",
       "        text-align: right;\n",
       "    }\n",
       "</style>\n",
       "<table border=\"1\" class=\"dataframe\">\n",
       "  <thead>\n",
       "    <tr>\n",
       "      <th></th>\n",
       "      <th>median</th>\n",
       "      <th>mean</th>\n",
       "    </tr>\n",
       "    <tr>\n",
       "      <th></th>\n",
       "      <th>cylinders</th>\n",
       "      <th>cylinders</th>\n",
       "    </tr>\n",
       "    <tr>\n",
       "      <th>model</th>\n",
       "      <th></th>\n",
       "      <th></th>\n",
       "    </tr>\n",
       "  </thead>\n",
       "  <tbody>\n",
       "    <tr>\n",
       "      <th>acura tl</th>\n",
       "      <td>6.0</td>\n",
       "      <td>5.971564</td>\n",
       "    </tr>\n",
       "    <tr>\n",
       "      <th>bmw x5</th>\n",
       "      <td>6.0</td>\n",
       "      <td>6.406375</td>\n",
       "    </tr>\n",
       "    <tr>\n",
       "      <th>buick enclave</th>\n",
       "      <td>6.0</td>\n",
       "      <td>6.000000</td>\n",
       "    </tr>\n",
       "    <tr>\n",
       "      <th>cadillac escalade</th>\n",
       "      <td>8.0</td>\n",
       "      <td>7.986395</td>\n",
       "    </tr>\n",
       "    <tr>\n",
       "      <th>chevrolet camaro</th>\n",
       "      <td>6.0</td>\n",
       "      <td>6.887097</td>\n",
       "    </tr>\n",
       "    <tr>\n",
       "      <th>...</th>\n",
       "      <td>...</td>\n",
       "      <td>...</td>\n",
       "    </tr>\n",
       "    <tr>\n",
       "      <th>toyota sienna</th>\n",
       "      <td>6.0</td>\n",
       "      <td>5.952381</td>\n",
       "    </tr>\n",
       "    <tr>\n",
       "      <th>toyota tacoma</th>\n",
       "      <td>6.0</td>\n",
       "      <td>5.345205</td>\n",
       "    </tr>\n",
       "    <tr>\n",
       "      <th>toyota tundra</th>\n",
       "      <td>8.0</td>\n",
       "      <td>7.919561</td>\n",
       "    </tr>\n",
       "    <tr>\n",
       "      <th>volkswagen jetta</th>\n",
       "      <td>4.0</td>\n",
       "      <td>4.281116</td>\n",
       "    </tr>\n",
       "    <tr>\n",
       "      <th>volkswagen passat</th>\n",
       "      <td>4.0</td>\n",
       "      <td>4.325949</td>\n",
       "    </tr>\n",
       "  </tbody>\n",
       "</table>\n",
       "<p>100 rows × 2 columns</p>\n",
       "</div>"
      ],
      "text/plain": [
       "                     median      mean\n",
       "                  cylinders cylinders\n",
       "model                                \n",
       "acura tl                6.0  5.971564\n",
       "bmw x5                  6.0  6.406375\n",
       "buick enclave           6.0  6.000000\n",
       "cadillac escalade       8.0  7.986395\n",
       "chevrolet camaro        6.0  6.887097\n",
       "...                     ...       ...\n",
       "toyota sienna           6.0  5.952381\n",
       "toyota tacoma           6.0  5.345205\n",
       "toyota tundra           8.0  7.919561\n",
       "volkswagen jetta        4.0  4.281116\n",
       "volkswagen passat       4.0  4.325949\n",
       "\n",
       "[100 rows x 2 columns]"
      ]
     },
     "execution_count": 16,
     "metadata": {},
     "output_type": "execute_result"
    }
   ],
   "source": [
    "table_cylinders = df.pivot_table(index = 'model', values = 'cylinders', aggfunc = ['median', 'mean'])\n",
    "cylinders_median = df.pivot_table(index = 'model', values = 'cylinders', aggfunc = 'median')\n",
    "table_cylinders"
   ]
  },
  {
   "cell_type": "markdown",
   "id": "a330ee6a",
   "metadata": {},
   "source": [
    "Ya que el numero de cilindro depende del modelo del auto, sustituiremos los valores ausentes dependiendo de la mediana del modelo del auto"
   ]
  },
  {
   "cell_type": "code",
   "execution_count": 17,
   "id": "c61d9138",
   "metadata": {},
   "outputs": [],
   "source": [
    "# Usaremos una funcion para completar los valores ausentes\n",
    "\n",
    "def cylinders_model(row):\n",
    "    model = row['model']\n",
    "    cylinders = row['cylinders']\n",
    "    if pd.isna(cylinders):\n",
    "        return cylinders_median['cylinders'][model]\n",
    "    return cylinders"
   ]
  },
  {
   "cell_type": "code",
   "execution_count": 18,
   "id": "8fd229ca",
   "metadata": {},
   "outputs": [
    {
     "data": {
      "text/plain": [
       "8.0"
      ]
     },
     "execution_count": 18,
     "metadata": {},
     "output_type": "execute_result"
    }
   ],
   "source": [
    "#comprobar la funcioncion \n",
    "row_values = [np.nan, \"cadillac escalade\"]  \n",
    "row_columns = ['cylinders', 'model']\n",
    "row = pd.Series(data=row_values, index=row_columns)\n",
    "cylinders_model(row)"
   ]
  },
  {
   "cell_type": "code",
   "execution_count": 19,
   "id": "a1762a37",
   "metadata": {},
   "outputs": [],
   "source": [
    "# Reemplazar los valores ausentes si hay algún error\n",
    "df['cylinders'] = df.apply(cylinders_model, axis=1)"
   ]
  },
  {
   "cell_type": "code",
   "execution_count": 20,
   "id": "64080c33",
   "metadata": {},
   "outputs": [
    {
     "name": "stdout",
     "output_type": "stream",
     "text": [
      "<class 'pandas.core.frame.DataFrame'>\n",
      "RangeIndex: 51525 entries, 0 to 51524\n",
      "Data columns (total 13 columns):\n",
      " #   Column        Non-Null Count  Dtype  \n",
      "---  ------        --------------  -----  \n",
      " 0   price         51525 non-null  int64  \n",
      " 1   model_year    51525 non-null  float64\n",
      " 2   model         51525 non-null  object \n",
      " 3   condition     51525 non-null  object \n",
      " 4   cylinders     51525 non-null  float64\n",
      " 5   fuel          51525 non-null  object \n",
      " 6   odometer      43633 non-null  float64\n",
      " 7   transmission  51525 non-null  object \n",
      " 8   type          51525 non-null  object \n",
      " 9   paint_color   42258 non-null  object \n",
      " 10  is_4wd        51525 non-null  float64\n",
      " 11  date_posted   51525 non-null  object \n",
      " 12  days_listed   51525 non-null  int64  \n",
      "dtypes: float64(4), int64(2), object(7)\n",
      "memory usage: 5.1+ MB\n"
     ]
    },
    {
     "data": {
      "text/plain": [
       "False    51525\n",
       "Name: cylinders, dtype: int64"
      ]
     },
     "execution_count": 20,
     "metadata": {},
     "output_type": "execute_result"
    }
   ],
   "source": [
    "#comprobando los datos en el DataFrame\n",
    "df.info()\n",
    "df['cylinders'].isnull().value_counts()"
   ]
  },
  {
   "cell_type": "markdown",
   "id": "795f45d1",
   "metadata": {},
   "source": [
    "### Trabajaremos con los valores ausentes en odometer\n",
    "\n",
    "Podemos ver que el porcentaje de valores ausentes es del 15.316836%, determinaremos si los valores ausentes presentan un patrón, es decir, si su aparición en el conjunto de datos es aleatoria o no."
   ]
  },
  {
   "cell_type": "code",
   "execution_count": 21,
   "id": "e7c0fcfe",
   "metadata": {},
   "outputs": [
    {
     "data": {
      "text/plain": [
       "0.0         1.009136\n",
       "1.0         1.041798\n",
       "2.0         0.729259\n",
       "3.0         1.458517\n",
       "5.0         1.296460\n",
       "              ...   \n",
       "840000.0    0.729259\n",
       "866000.0    1.458517\n",
       "920000.0    1.458517\n",
       "980000.0         NaN\n",
       "990000.0    0.729259\n",
       "Name: odometer, Length: 17762, dtype: float64"
      ]
     },
     "execution_count": 21,
     "metadata": {},
     "output_type": "execute_result"
    }
   ],
   "source": [
    "# Comprobación de la distribución en odometer\n",
    "difference_odometer = df_without_nan['odometer'].value_counts(normalize = True) / df['odometer'].value_counts(normalize = True)\n",
    "difference_odometer"
   ]
  },
  {
   "cell_type": "markdown",
   "id": "41bb0449",
   "metadata": {},
   "source": [
    "Con esta información no podemos sacar conclusiones, ya que el Km se puede relacionar con el año en que salio el modelo, buscaremos un patron"
   ]
  },
  {
   "cell_type": "code",
   "execution_count": 22,
   "id": "204bf206",
   "metadata": {},
   "outputs": [
    {
     "data": {
      "image/png": "[encoded data removed]",
      "text/plain": [
       "<Figure size 432x288 with 1 Axes>"
      ]
     },
     "metadata": {
      "needs_background": "light"
     },
     "output_type": "display_data"
    }
   ],
   "source": [
    "my_plot = df.plot(\"model_year\", \"odometer\", kind=\"scatter\")"
   ]
  },
  {
   "cell_type": "markdown",
   "id": "f90c3157",
   "metadata": {},
   "source": [
    "Ya que no hay valores atípicos significativos, aplicaremos la media del año del modelo, para rellenar valores ausentes"
   ]
  },
  {
   "cell_type": "code",
   "execution_count": 23,
   "id": "370a1f50",
   "metadata": {
    "scrolled": true
   },
   "outputs": [
    {
     "data": {
      "text/html": [
       "<div>\n",
       "<style scoped>\n",
       "    .dataframe tbody tr th:only-of-type {\n",
       "        vertical-align: middle;\n",
       "    }\n",
       "\n",
       "    .dataframe tbody tr th {\n",
       "        vertical-align: top;\n",
       "    }\n",
       "\n",
       "    .dataframe thead th {\n",
       "        text-align: right;\n",
       "    }\n",
       "</style>\n",
       "<table border=\"1\" class=\"dataframe\">\n",
       "  <thead>\n",
       "    <tr style=\"text-align: right;\">\n",
       "      <th></th>\n",
       "      <th>odometer</th>\n",
       "    </tr>\n",
       "    <tr>\n",
       "      <th>model_year</th>\n",
       "      <th></th>\n",
       "    </tr>\n",
       "  </thead>\n",
       "  <tbody>\n",
       "    <tr>\n",
       "      <th>1908.0</th>\n",
       "      <td>169328.000000</td>\n",
       "    </tr>\n",
       "    <tr>\n",
       "      <th>1936.0</th>\n",
       "      <td>30000.000000</td>\n",
       "    </tr>\n",
       "    <tr>\n",
       "      <th>1948.0</th>\n",
       "      <td>4000.000000</td>\n",
       "    </tr>\n",
       "    <tr>\n",
       "      <th>1949.0</th>\n",
       "      <td>1800.000000</td>\n",
       "    </tr>\n",
       "    <tr>\n",
       "      <th>1954.0</th>\n",
       "      <td>3565.000000</td>\n",
       "    </tr>\n",
       "    <tr>\n",
       "      <th>...</th>\n",
       "      <td>...</td>\n",
       "    </tr>\n",
       "    <tr>\n",
       "      <th>2015.0</th>\n",
       "      <td>82503.819348</td>\n",
       "    </tr>\n",
       "    <tr>\n",
       "      <th>2016.0</th>\n",
       "      <td>61244.992120</td>\n",
       "    </tr>\n",
       "    <tr>\n",
       "      <th>2017.0</th>\n",
       "      <td>47317.910506</td>\n",
       "    </tr>\n",
       "    <tr>\n",
       "      <th>2018.0</th>\n",
       "      <td>25309.197445</td>\n",
       "    </tr>\n",
       "    <tr>\n",
       "      <th>2019.0</th>\n",
       "      <td>17076.810976</td>\n",
       "    </tr>\n",
       "  </tbody>\n",
       "</table>\n",
       "<p>69 rows × 1 columns</p>\n",
       "</div>"
      ],
      "text/plain": [
       "                 odometer\n",
       "model_year               \n",
       "1908.0      169328.000000\n",
       "1936.0       30000.000000\n",
       "1948.0        4000.000000\n",
       "1949.0        1800.000000\n",
       "1954.0        3565.000000\n",
       "...                   ...\n",
       "2015.0       82503.819348\n",
       "2016.0       61244.992120\n",
       "2017.0       47317.910506\n",
       "2018.0       25309.197445\n",
       "2019.0       17076.810976\n",
       "\n",
       "[69 rows x 1 columns]"
      ]
     },
     "execution_count": 23,
     "metadata": {},
     "output_type": "execute_result"
    }
   ],
   "source": [
    "odometer_avg = df.pivot_table(index = 'model_year', values = 'odometer')\n",
    "odometer_avg"
   ]
  },
  {
   "cell_type": "code",
   "execution_count": 24,
   "id": "8e044b11",
   "metadata": {},
   "outputs": [],
   "source": [
    "# Usaremos una funcion para completar los valores ausentes\n",
    "def odometer_year(row):\n",
    "    model_year = row['model_year']\n",
    "    odometer = row['odometer']\n",
    "    if pd.isna(odometer):\n",
    "        return odometer_avg['odometer'][model_year]\n",
    "    return odometer"
   ]
  },
  {
   "cell_type": "code",
   "execution_count": 25,
   "id": "20d7ab2e",
   "metadata": {},
   "outputs": [
    {
     "data": {
      "text/plain": [
       "162071.751023751"
      ]
     },
     "execution_count": 25,
     "metadata": {},
     "output_type": "execute_result"
    }
   ],
   "source": [
    "#comprobar la funcioncion \n",
    "row_values = [np.nan, 2003.0]  \n",
    "row_columns = ['odometer', 'model_year']\n",
    "row = pd.Series(data=row_values, index=row_columns)\n",
    "odometer_year(row)"
   ]
  },
  {
   "cell_type": "markdown",
   "id": "c26fb57d",
   "metadata": {},
   "source": [
    "`Podemos ver que hay un error en el año 1929`"
   ]
  },
  {
   "cell_type": "code",
   "execution_count": 26,
   "id": "7b4ea8e7",
   "metadata": {},
   "outputs": [],
   "source": [
    "#lo cambiamos manualmente \n",
    "df.loc[df['model_year'] == 1929, 'odometer'] = 30000"
   ]
  },
  {
   "cell_type": "code",
   "execution_count": 27,
   "id": "75665847",
   "metadata": {},
   "outputs": [],
   "source": [
    "# Reemplazar los valores ausentes si hay algún error\n",
    "df['odometer'] = df.apply(odometer_year, axis=1)"
   ]
  },
  {
   "cell_type": "code",
   "execution_count": 28,
   "id": "2b84dd4f",
   "metadata": {
    "scrolled": true
   },
   "outputs": [
    {
     "data": {
      "text/html": [
       "<div>\n",
       "<style scoped>\n",
       "    .dataframe tbody tr th:only-of-type {\n",
       "        vertical-align: middle;\n",
       "    }\n",
       "\n",
       "    .dataframe tbody tr th {\n",
       "        vertical-align: top;\n",
       "    }\n",
       "\n",
       "    .dataframe thead th {\n",
       "        text-align: right;\n",
       "    }\n",
       "</style>\n",
       "<table border=\"1\" class=\"dataframe\">\n",
       "  <thead>\n",
       "    <tr style=\"text-align: right;\">\n",
       "      <th></th>\n",
       "      <th>price</th>\n",
       "      <th>model_year</th>\n",
       "      <th>model</th>\n",
       "      <th>condition</th>\n",
       "      <th>cylinders</th>\n",
       "      <th>fuel</th>\n",
       "      <th>odometer</th>\n",
       "      <th>transmission</th>\n",
       "      <th>type</th>\n",
       "      <th>paint_color</th>\n",
       "      <th>is_4wd</th>\n",
       "      <th>date_posted</th>\n",
       "      <th>days_listed</th>\n",
       "    </tr>\n",
       "  </thead>\n",
       "  <tbody>\n",
       "    <tr>\n",
       "      <th>0</th>\n",
       "      <td>9400</td>\n",
       "      <td>2011.0</td>\n",
       "      <td>bmw x5</td>\n",
       "      <td>good</td>\n",
       "      <td>6.0</td>\n",
       "      <td>gas</td>\n",
       "      <td>145000.000000</td>\n",
       "      <td>automatic</td>\n",
       "      <td>SUV</td>\n",
       "      <td>NaN</td>\n",
       "      <td>1.0</td>\n",
       "      <td>2018-06-23</td>\n",
       "      <td>19</td>\n",
       "    </tr>\n",
       "    <tr>\n",
       "      <th>1</th>\n",
       "      <td>25500</td>\n",
       "      <td>2011.0</td>\n",
       "      <td>ford f-150</td>\n",
       "      <td>good</td>\n",
       "      <td>6.0</td>\n",
       "      <td>gas</td>\n",
       "      <td>88705.000000</td>\n",
       "      <td>automatic</td>\n",
       "      <td>pickup</td>\n",
       "      <td>white</td>\n",
       "      <td>1.0</td>\n",
       "      <td>2018-10-19</td>\n",
       "      <td>50</td>\n",
       "    </tr>\n",
       "    <tr>\n",
       "      <th>2</th>\n",
       "      <td>5500</td>\n",
       "      <td>2013.0</td>\n",
       "      <td>hyundai sonata</td>\n",
       "      <td>like new</td>\n",
       "      <td>4.0</td>\n",
       "      <td>gas</td>\n",
       "      <td>110000.000000</td>\n",
       "      <td>automatic</td>\n",
       "      <td>sedan</td>\n",
       "      <td>red</td>\n",
       "      <td>0.0</td>\n",
       "      <td>2019-02-07</td>\n",
       "      <td>79</td>\n",
       "    </tr>\n",
       "    <tr>\n",
       "      <th>3</th>\n",
       "      <td>1500</td>\n",
       "      <td>2003.0</td>\n",
       "      <td>ford f-150</td>\n",
       "      <td>fair</td>\n",
       "      <td>8.0</td>\n",
       "      <td>gas</td>\n",
       "      <td>162071.751024</td>\n",
       "      <td>automatic</td>\n",
       "      <td>pickup</td>\n",
       "      <td>NaN</td>\n",
       "      <td>0.0</td>\n",
       "      <td>2019-03-22</td>\n",
       "      <td>9</td>\n",
       "    </tr>\n",
       "    <tr>\n",
       "      <th>4</th>\n",
       "      <td>14900</td>\n",
       "      <td>2017.0</td>\n",
       "      <td>chrysler 200</td>\n",
       "      <td>excellent</td>\n",
       "      <td>4.0</td>\n",
       "      <td>gas</td>\n",
       "      <td>80903.000000</td>\n",
       "      <td>automatic</td>\n",
       "      <td>sedan</td>\n",
       "      <td>black</td>\n",
       "      <td>0.0</td>\n",
       "      <td>2019-04-02</td>\n",
       "      <td>28</td>\n",
       "    </tr>\n",
       "  </tbody>\n",
       "</table>\n",
       "</div>"
      ],
      "text/plain": [
       "   price  model_year           model  condition  cylinders fuel  \\\n",
       "0   9400      2011.0          bmw x5       good        6.0  gas   \n",
       "1  25500      2011.0      ford f-150       good        6.0  gas   \n",
       "2   5500      2013.0  hyundai sonata   like new        4.0  gas   \n",
       "3   1500      2003.0      ford f-150       fair        8.0  gas   \n",
       "4  14900      2017.0    chrysler 200  excellent        4.0  gas   \n",
       "\n",
       "        odometer transmission    type paint_color  is_4wd date_posted  \\\n",
       "0  145000.000000    automatic     SUV         NaN     1.0  2018-06-23   \n",
       "1   88705.000000    automatic  pickup       white     1.0  2018-10-19   \n",
       "2  110000.000000    automatic   sedan         red     0.0  2019-02-07   \n",
       "3  162071.751024    automatic  pickup         NaN     0.0  2019-03-22   \n",
       "4   80903.000000    automatic   sedan       black     0.0  2019-04-02   \n",
       "\n",
       "   days_listed  \n",
       "0           19  \n",
       "1           50  \n",
       "2           79  \n",
       "3            9  \n",
       "4           28  "
      ]
     },
     "execution_count": 28,
     "metadata": {},
     "output_type": "execute_result"
    }
   ],
   "source": [
    "#verificamos la fila\n",
    "df[df['model_year'] == 1929]\n",
    "df.head()"
   ]
  },
  {
   "cell_type": "code",
   "execution_count": 29,
   "id": "69737d30",
   "metadata": {},
   "outputs": [
    {
     "name": "stdout",
     "output_type": "stream",
     "text": [
      "<class 'pandas.core.frame.DataFrame'>\n",
      "RangeIndex: 51525 entries, 0 to 51524\n",
      "Data columns (total 13 columns):\n",
      " #   Column        Non-Null Count  Dtype  \n",
      "---  ------        --------------  -----  \n",
      " 0   price         51525 non-null  int64  \n",
      " 1   model_year    51525 non-null  float64\n",
      " 2   model         51525 non-null  object \n",
      " 3   condition     51525 non-null  object \n",
      " 4   cylinders     51525 non-null  float64\n",
      " 5   fuel          51525 non-null  object \n",
      " 6   odometer      51525 non-null  float64\n",
      " 7   transmission  51525 non-null  object \n",
      " 8   type          51525 non-null  object \n",
      " 9   paint_color   42258 non-null  object \n",
      " 10  is_4wd        51525 non-null  float64\n",
      " 11  date_posted   51525 non-null  object \n",
      " 12  days_listed   51525 non-null  int64  \n",
      "dtypes: float64(4), int64(2), object(7)\n",
      "memory usage: 5.1+ MB\n"
     ]
    },
    {
     "data": {
      "text/plain": [
       "False    51525\n",
       "Name: odometer, dtype: int64"
      ]
     },
     "execution_count": 29,
     "metadata": {},
     "output_type": "execute_result"
    }
   ],
   "source": [
    "#comprobando los datos en el DataFrame\n",
    "df.info()\n",
    "df['odometer'].isnull().value_counts()"
   ]
  },
  {
   "cell_type": "markdown",
   "id": "24781b66",
   "metadata": {},
   "source": [
    "### Trabajaremos con los valores ausentes en paint_color\n",
    "\n",
    "Podemos ver que el porcentaje de valores ausentes es del 17.985444%, determinaremos si los valores ausentes presentan un patrón, es decir, si su aparición en el conjunto de datos es aleatoria o no."
   ]
  },
  {
   "cell_type": "code",
   "execution_count": 30,
   "id": "e38f9bef",
   "metadata": {},
   "outputs": [
    {
     "name": "stdout",
     "output_type": "stream",
     "text": [
      "black     0.997530\n",
      "blue      0.994944\n",
      "brown     0.984053\n",
      "custom    1.010718\n",
      "green     0.961266\n",
      "grey      0.999193\n",
      "orange    0.990623\n",
      "purple    0.983249\n",
      "red       1.015723\n",
      "silver    0.997204\n",
      "white     1.005648\n",
      "yellow    1.008177\n",
      "Name: paint_color, dtype: float64\n"
     ]
    }
   ],
   "source": [
    "# Comprobación de la distribución en paint_color\n",
    "difference_paint_color = df_without_nan['paint_color'].value_counts(normalize = True) / df['paint_color'].value_counts(normalize = True)\n",
    "print(difference_paint_color)"
   ]
  },
  {
   "cell_type": "markdown",
   "id": "a12d99f0",
   "metadata": {},
   "source": [
    "Ya que la diferencia no se aleja de 1, podemos asumir que valores ausentes son del tipo aleatorio\n",
    "- Los valores ausentes pueden deverse al desconocimiento del color, estos los llenaremos con el valor Other, ya que no hay un patron entre el color del carro y algun otro factor"
   ]
  },
  {
   "cell_type": "code",
   "execution_count": 31,
   "id": "63d397f9",
   "metadata": {},
   "outputs": [
    {
     "data": {
      "text/plain": [
       "white     10029\n",
       "Other      9267\n",
       "black      7692\n",
       "silver     6244\n",
       "grey       5037\n",
       "blue       4475\n",
       "red        4421\n",
       "green      1396\n",
       "brown      1223\n",
       "custom     1153\n",
       "yellow      255\n",
       "orange      231\n",
       "purple      102\n",
       "Name: paint_color, dtype: int64"
      ]
     },
     "execution_count": 31,
     "metadata": {},
     "output_type": "execute_result"
    }
   ],
   "source": [
    "df['paint_color'] = df['paint_color'].fillna('Other')\n",
    "df['paint_color'].value_counts()"
   ]
  },
  {
   "cell_type": "code",
   "execution_count": 32,
   "id": "90464377",
   "metadata": {},
   "outputs": [
    {
     "name": "stdout",
     "output_type": "stream",
     "text": [
      "<class 'pandas.core.frame.DataFrame'>\n",
      "RangeIndex: 51525 entries, 0 to 51524\n",
      "Data columns (total 13 columns):\n",
      " #   Column        Non-Null Count  Dtype  \n",
      "---  ------        --------------  -----  \n",
      " 0   price         51525 non-null  int64  \n",
      " 1   model_year    51525 non-null  float64\n",
      " 2   model         51525 non-null  object \n",
      " 3   condition     51525 non-null  object \n",
      " 4   cylinders     51525 non-null  float64\n",
      " 5   fuel          51525 non-null  object \n",
      " 6   odometer      51525 non-null  float64\n",
      " 7   transmission  51525 non-null  object \n",
      " 8   type          51525 non-null  object \n",
      " 9   paint_color   51525 non-null  object \n",
      " 10  is_4wd        51525 non-null  float64\n",
      " 11  date_posted   51525 non-null  object \n",
      " 12  days_listed   51525 non-null  int64  \n",
      "dtypes: float64(4), int64(2), object(7)\n",
      "memory usage: 5.1+ MB\n"
     ]
    },
    {
     "data": {
      "text/plain": [
       "0"
      ]
     },
     "execution_count": 32,
     "metadata": {},
     "output_type": "execute_result"
    }
   ],
   "source": [
    "df.info()\n",
    "df['paint_color'].isna().sum()"
   ]
  },
  {
   "cell_type": "markdown",
   "id": "9a3740c7",
   "metadata": {},
   "source": [
    "### Conclusiones de los valores ausentes \n",
    "\n",
    "- En la columna is_4wd, en los valores de tipo booleano solo existen 2 respuestas (0, 1), en el DataFrame solo encontramos el valor 1, eso quiere decir que el valor ausente es 0\n",
    "- En la columna model_year, se aplico la mediana de cada modelo de auto, ya que la media nos arroja un valor de punto flotante\n",
    "- En la columna de cylinders, se ocupa la mediana de los cylindros que tiene cada modelo de auto\n",
    "- En la columna Odometer, buscamos valores atipicos significativos, al no encontrar se ocupo la media de odometer para el modelo de cada año\n",
    "- En esta coluumna encontramos un error en la columna 1929 y se realizo el cambio manualmente\n",
    "- En la columna paint_color, los datos ausentes son de tipo aleatorio, los datos ausentes se cambian por Other, ya que no hay un patron para el color y el auto\n",
    "\n",
    "### Proximos pasos\n",
    "\n"
   ]
  },
  {
   "cell_type": "markdown",
   "id": "6f34c804",
   "metadata": {},
   "source": [
    "## Corregir los tipos de datos"
   ]
  },
  {
   "cell_type": "markdown",
   "id": "922fcdbd",
   "metadata": {},
   "source": [
    "### Cambiamos los siguientes tipos de datos\n",
    "- model_year a fecha\n",
    "- cylinders a int\n",
    "- is_4wd a int\n",
    "- date_posted a fecha "
   ]
  },
  {
   "cell_type": "code",
   "execution_count": 33,
   "id": "d3eead9c",
   "metadata": {},
   "outputs": [],
   "source": [
    "df['model_year']= pd.to_datetime(df['model_year'], format='%Y')\n",
    "df['cylinders'] = df['cylinders'].astype('int')\n",
    "df['is_4wd'] = df['is_4wd'].astype('int')\n",
    "df['date_posted']= pd.to_datetime(df['date_posted'], format='%Y.%m.%d')"
   ]
  },
  {
   "cell_type": "code",
   "execution_count": 34,
   "id": "1709a817",
   "metadata": {
    "scrolled": true
   },
   "outputs": [
    {
     "name": "stdout",
     "output_type": "stream",
     "text": [
      "<class 'pandas.core.frame.DataFrame'>\n",
      "RangeIndex: 51525 entries, 0 to 51524\n",
      "Data columns (total 13 columns):\n",
      " #   Column        Non-Null Count  Dtype         \n",
      "---  ------        --------------  -----         \n",
      " 0   price         51525 non-null  int64         \n",
      " 1   model_year    51525 non-null  datetime64[ns]\n",
      " 2   model         51525 non-null  object        \n",
      " 3   condition     51525 non-null  object        \n",
      " 4   cylinders     51525 non-null  int64         \n",
      " 5   fuel          51525 non-null  object        \n",
      " 6   odometer      51525 non-null  float64       \n",
      " 7   transmission  51525 non-null  object        \n",
      " 8   type          51525 non-null  object        \n",
      " 9   paint_color   51525 non-null  object        \n",
      " 10  is_4wd        51525 non-null  int64         \n",
      " 11  date_posted   51525 non-null  datetime64[ns]\n",
      " 12  days_listed   51525 non-null  int64         \n",
      "dtypes: datetime64[ns](2), float64(1), int64(4), object(6)\n",
      "memory usage: 5.1+ MB\n"
     ]
    },
    {
     "data": {
      "text/html": [
       "<div>\n",
       "<style scoped>\n",
       "    .dataframe tbody tr th:only-of-type {\n",
       "        vertical-align: middle;\n",
       "    }\n",
       "\n",
       "    .dataframe tbody tr th {\n",
       "        vertical-align: top;\n",
       "    }\n",
       "\n",
       "    .dataframe thead th {\n",
       "        text-align: right;\n",
       "    }\n",
       "</style>\n",
       "<table border=\"1\" class=\"dataframe\">\n",
       "  <thead>\n",
       "    <tr style=\"text-align: right;\">\n",
       "      <th></th>\n",
       "      <th>price</th>\n",
       "      <th>model_year</th>\n",
       "      <th>model</th>\n",
       "      <th>condition</th>\n",
       "      <th>cylinders</th>\n",
       "      <th>fuel</th>\n",
       "      <th>odometer</th>\n",
       "      <th>transmission</th>\n",
       "      <th>type</th>\n",
       "      <th>paint_color</th>\n",
       "      <th>is_4wd</th>\n",
       "      <th>date_posted</th>\n",
       "      <th>days_listed</th>\n",
       "    </tr>\n",
       "  </thead>\n",
       "  <tbody>\n",
       "    <tr>\n",
       "      <th>0</th>\n",
       "      <td>9400</td>\n",
       "      <td>2011-01-01</td>\n",
       "      <td>bmw x5</td>\n",
       "      <td>good</td>\n",
       "      <td>6</td>\n",
       "      <td>gas</td>\n",
       "      <td>145000.000000</td>\n",
       "      <td>automatic</td>\n",
       "      <td>SUV</td>\n",
       "      <td>Other</td>\n",
       "      <td>1</td>\n",
       "      <td>2018-06-23</td>\n",
       "      <td>19</td>\n",
       "    </tr>\n",
       "    <tr>\n",
       "      <th>1</th>\n",
       "      <td>25500</td>\n",
       "      <td>2011-01-01</td>\n",
       "      <td>ford f-150</td>\n",
       "      <td>good</td>\n",
       "      <td>6</td>\n",
       "      <td>gas</td>\n",
       "      <td>88705.000000</td>\n",
       "      <td>automatic</td>\n",
       "      <td>pickup</td>\n",
       "      <td>white</td>\n",
       "      <td>1</td>\n",
       "      <td>2018-10-19</td>\n",
       "      <td>50</td>\n",
       "    </tr>\n",
       "    <tr>\n",
       "      <th>2</th>\n",
       "      <td>5500</td>\n",
       "      <td>2013-01-01</td>\n",
       "      <td>hyundai sonata</td>\n",
       "      <td>like new</td>\n",
       "      <td>4</td>\n",
       "      <td>gas</td>\n",
       "      <td>110000.000000</td>\n",
       "      <td>automatic</td>\n",
       "      <td>sedan</td>\n",
       "      <td>red</td>\n",
       "      <td>0</td>\n",
       "      <td>2019-02-07</td>\n",
       "      <td>79</td>\n",
       "    </tr>\n",
       "    <tr>\n",
       "      <th>3</th>\n",
       "      <td>1500</td>\n",
       "      <td>2003-01-01</td>\n",
       "      <td>ford f-150</td>\n",
       "      <td>fair</td>\n",
       "      <td>8</td>\n",
       "      <td>gas</td>\n",
       "      <td>162071.751024</td>\n",
       "      <td>automatic</td>\n",
       "      <td>pickup</td>\n",
       "      <td>Other</td>\n",
       "      <td>0</td>\n",
       "      <td>2019-03-22</td>\n",
       "      <td>9</td>\n",
       "    </tr>\n",
       "    <tr>\n",
       "      <th>4</th>\n",
       "      <td>14900</td>\n",
       "      <td>2017-01-01</td>\n",
       "      <td>chrysler 200</td>\n",
       "      <td>excellent</td>\n",
       "      <td>4</td>\n",
       "      <td>gas</td>\n",
       "      <td>80903.000000</td>\n",
       "      <td>automatic</td>\n",
       "      <td>sedan</td>\n",
       "      <td>black</td>\n",
       "      <td>0</td>\n",
       "      <td>2019-04-02</td>\n",
       "      <td>28</td>\n",
       "    </tr>\n",
       "    <tr>\n",
       "      <th>...</th>\n",
       "      <td>...</td>\n",
       "      <td>...</td>\n",
       "      <td>...</td>\n",
       "      <td>...</td>\n",
       "      <td>...</td>\n",
       "      <td>...</td>\n",
       "      <td>...</td>\n",
       "      <td>...</td>\n",
       "      <td>...</td>\n",
       "      <td>...</td>\n",
       "      <td>...</td>\n",
       "      <td>...</td>\n",
       "      <td>...</td>\n",
       "    </tr>\n",
       "    <tr>\n",
       "      <th>51520</th>\n",
       "      <td>9249</td>\n",
       "      <td>2013-01-01</td>\n",
       "      <td>nissan maxima</td>\n",
       "      <td>like new</td>\n",
       "      <td>6</td>\n",
       "      <td>gas</td>\n",
       "      <td>88136.000000</td>\n",
       "      <td>automatic</td>\n",
       "      <td>sedan</td>\n",
       "      <td>black</td>\n",
       "      <td>0</td>\n",
       "      <td>2018-10-03</td>\n",
       "      <td>37</td>\n",
       "    </tr>\n",
       "    <tr>\n",
       "      <th>51521</th>\n",
       "      <td>2700</td>\n",
       "      <td>2002-01-01</td>\n",
       "      <td>honda civic</td>\n",
       "      <td>salvage</td>\n",
       "      <td>4</td>\n",
       "      <td>gas</td>\n",
       "      <td>181500.000000</td>\n",
       "      <td>automatic</td>\n",
       "      <td>sedan</td>\n",
       "      <td>white</td>\n",
       "      <td>0</td>\n",
       "      <td>2018-11-14</td>\n",
       "      <td>22</td>\n",
       "    </tr>\n",
       "    <tr>\n",
       "      <th>51522</th>\n",
       "      <td>3950</td>\n",
       "      <td>2009-01-01</td>\n",
       "      <td>hyundai sonata</td>\n",
       "      <td>excellent</td>\n",
       "      <td>4</td>\n",
       "      <td>gas</td>\n",
       "      <td>128000.000000</td>\n",
       "      <td>automatic</td>\n",
       "      <td>sedan</td>\n",
       "      <td>blue</td>\n",
       "      <td>0</td>\n",
       "      <td>2018-11-15</td>\n",
       "      <td>32</td>\n",
       "    </tr>\n",
       "    <tr>\n",
       "      <th>51523</th>\n",
       "      <td>7455</td>\n",
       "      <td>2013-01-01</td>\n",
       "      <td>toyota corolla</td>\n",
       "      <td>good</td>\n",
       "      <td>4</td>\n",
       "      <td>gas</td>\n",
       "      <td>139573.000000</td>\n",
       "      <td>automatic</td>\n",
       "      <td>sedan</td>\n",
       "      <td>black</td>\n",
       "      <td>0</td>\n",
       "      <td>2018-07-02</td>\n",
       "      <td>71</td>\n",
       "    </tr>\n",
       "    <tr>\n",
       "      <th>51524</th>\n",
       "      <td>6300</td>\n",
       "      <td>2014-01-01</td>\n",
       "      <td>nissan altima</td>\n",
       "      <td>good</td>\n",
       "      <td>4</td>\n",
       "      <td>gas</td>\n",
       "      <td>93648.703319</td>\n",
       "      <td>automatic</td>\n",
       "      <td>sedan</td>\n",
       "      <td>Other</td>\n",
       "      <td>0</td>\n",
       "      <td>2018-06-05</td>\n",
       "      <td>10</td>\n",
       "    </tr>\n",
       "  </tbody>\n",
       "</table>\n",
       "<p>51525 rows × 13 columns</p>\n",
       "</div>"
      ],
      "text/plain": [
       "       price model_year           model  condition  cylinders fuel  \\\n",
       "0       9400 2011-01-01          bmw x5       good          6  gas   \n",
       "1      25500 2011-01-01      ford f-150       good          6  gas   \n",
       "2       5500 2013-01-01  hyundai sonata   like new          4  gas   \n",
       "3       1500 2003-01-01      ford f-150       fair          8  gas   \n",
       "4      14900 2017-01-01    chrysler 200  excellent          4  gas   \n",
       "...      ...        ...             ...        ...        ...  ...   \n",
       "51520   9249 2013-01-01   nissan maxima   like new          6  gas   \n",
       "51521   2700 2002-01-01     honda civic    salvage          4  gas   \n",
       "51522   3950 2009-01-01  hyundai sonata  excellent          4  gas   \n",
       "51523   7455 2013-01-01  toyota corolla       good          4  gas   \n",
       "51524   6300 2014-01-01   nissan altima       good          4  gas   \n",
       "\n",
       "            odometer transmission    type paint_color  is_4wd date_posted  \\\n",
       "0      145000.000000    automatic     SUV       Other       1  2018-06-23   \n",
       "1       88705.000000    automatic  pickup       white       1  2018-10-19   \n",
       "2      110000.000000    automatic   sedan         red       0  2019-02-07   \n",
       "3      162071.751024    automatic  pickup       Other       0  2019-03-22   \n",
       "4       80903.000000    automatic   sedan       black       0  2019-04-02   \n",
       "...              ...          ...     ...         ...     ...         ...   \n",
       "51520   88136.000000    automatic   sedan       black       0  2018-10-03   \n",
       "51521  181500.000000    automatic   sedan       white       0  2018-11-14   \n",
       "51522  128000.000000    automatic   sedan        blue       0  2018-11-15   \n",
       "51523  139573.000000    automatic   sedan       black       0  2018-07-02   \n",
       "51524   93648.703319    automatic   sedan       Other       0  2018-06-05   \n",
       "\n",
       "       days_listed  \n",
       "0               19  \n",
       "1               50  \n",
       "2               79  \n",
       "3                9  \n",
       "4               28  \n",
       "...            ...  \n",
       "51520           37  \n",
       "51521           22  \n",
       "51522           32  \n",
       "51523           71  \n",
       "51524           10  \n",
       "\n",
       "[51525 rows x 13 columns]"
      ]
     },
     "execution_count": 34,
     "metadata": {},
     "output_type": "execute_result"
    }
   ],
   "source": [
    "df.info()\n",
    "df"
   ]
  },
  {
   "cell_type": "markdown",
   "id": "fe3a4914",
   "metadata": {},
   "source": [
    "## Enriquecer datos"
   ]
  },
  {
   "cell_type": "code",
   "execution_count": 35,
   "id": "36bfed94",
   "metadata": {
    "scrolled": false
   },
   "outputs": [
    {
     "data": {
      "text/html": [
       "<div>\n",
       "<style scoped>\n",
       "    .dataframe tbody tr th:only-of-type {\n",
       "        vertical-align: middle;\n",
       "    }\n",
       "\n",
       "    .dataframe tbody tr th {\n",
       "        vertical-align: top;\n",
       "    }\n",
       "\n",
       "    .dataframe thead th {\n",
       "        text-align: right;\n",
       "    }\n",
       "</style>\n",
       "<table border=\"1\" class=\"dataframe\">\n",
       "  <thead>\n",
       "    <tr style=\"text-align: right;\">\n",
       "      <th></th>\n",
       "      <th>price</th>\n",
       "      <th>model_year</th>\n",
       "      <th>model</th>\n",
       "      <th>condition</th>\n",
       "      <th>cylinders</th>\n",
       "      <th>fuel</th>\n",
       "      <th>odometer</th>\n",
       "      <th>transmission</th>\n",
       "      <th>type</th>\n",
       "      <th>paint_color</th>\n",
       "      <th>is_4wd</th>\n",
       "      <th>date_posted</th>\n",
       "      <th>days_listed</th>\n",
       "      <th>date_end_posted</th>\n",
       "    </tr>\n",
       "  </thead>\n",
       "  <tbody>\n",
       "    <tr>\n",
       "      <th>0</th>\n",
       "      <td>9400</td>\n",
       "      <td>2011-01-01</td>\n",
       "      <td>bmw x5</td>\n",
       "      <td>good</td>\n",
       "      <td>6</td>\n",
       "      <td>gas</td>\n",
       "      <td>145000.000000</td>\n",
       "      <td>automatic</td>\n",
       "      <td>SUV</td>\n",
       "      <td>Other</td>\n",
       "      <td>1</td>\n",
       "      <td>2018-06-23</td>\n",
       "      <td>19</td>\n",
       "      <td>2018-07-12</td>\n",
       "    </tr>\n",
       "    <tr>\n",
       "      <th>1</th>\n",
       "      <td>25500</td>\n",
       "      <td>2011-01-01</td>\n",
       "      <td>ford f-150</td>\n",
       "      <td>good</td>\n",
       "      <td>6</td>\n",
       "      <td>gas</td>\n",
       "      <td>88705.000000</td>\n",
       "      <td>automatic</td>\n",
       "      <td>pickup</td>\n",
       "      <td>white</td>\n",
       "      <td>1</td>\n",
       "      <td>2018-10-19</td>\n",
       "      <td>50</td>\n",
       "      <td>2018-12-08</td>\n",
       "    </tr>\n",
       "    <tr>\n",
       "      <th>2</th>\n",
       "      <td>5500</td>\n",
       "      <td>2013-01-01</td>\n",
       "      <td>hyundai sonata</td>\n",
       "      <td>like new</td>\n",
       "      <td>4</td>\n",
       "      <td>gas</td>\n",
       "      <td>110000.000000</td>\n",
       "      <td>automatic</td>\n",
       "      <td>sedan</td>\n",
       "      <td>red</td>\n",
       "      <td>0</td>\n",
       "      <td>2019-02-07</td>\n",
       "      <td>79</td>\n",
       "      <td>2019-04-27</td>\n",
       "    </tr>\n",
       "    <tr>\n",
       "      <th>3</th>\n",
       "      <td>1500</td>\n",
       "      <td>2003-01-01</td>\n",
       "      <td>ford f-150</td>\n",
       "      <td>fair</td>\n",
       "      <td>8</td>\n",
       "      <td>gas</td>\n",
       "      <td>162071.751024</td>\n",
       "      <td>automatic</td>\n",
       "      <td>pickup</td>\n",
       "      <td>Other</td>\n",
       "      <td>0</td>\n",
       "      <td>2019-03-22</td>\n",
       "      <td>9</td>\n",
       "      <td>2019-03-31</td>\n",
       "    </tr>\n",
       "    <tr>\n",
       "      <th>4</th>\n",
       "      <td>14900</td>\n",
       "      <td>2017-01-01</td>\n",
       "      <td>chrysler 200</td>\n",
       "      <td>excellent</td>\n",
       "      <td>4</td>\n",
       "      <td>gas</td>\n",
       "      <td>80903.000000</td>\n",
       "      <td>automatic</td>\n",
       "      <td>sedan</td>\n",
       "      <td>black</td>\n",
       "      <td>0</td>\n",
       "      <td>2019-04-02</td>\n",
       "      <td>28</td>\n",
       "      <td>2019-04-30</td>\n",
       "    </tr>\n",
       "  </tbody>\n",
       "</table>\n",
       "</div>"
      ],
      "text/plain": [
       "   price model_year           model  condition  cylinders fuel       odometer  \\\n",
       "0   9400 2011-01-01          bmw x5       good          6  gas  145000.000000   \n",
       "1  25500 2011-01-01      ford f-150       good          6  gas   88705.000000   \n",
       "2   5500 2013-01-01  hyundai sonata   like new          4  gas  110000.000000   \n",
       "3   1500 2003-01-01      ford f-150       fair          8  gas  162071.751024   \n",
       "4  14900 2017-01-01    chrysler 200  excellent          4  gas   80903.000000   \n",
       "\n",
       "  transmission    type paint_color  is_4wd date_posted  days_listed  \\\n",
       "0    automatic     SUV       Other       1  2018-06-23           19   \n",
       "1    automatic  pickup       white       1  2018-10-19           50   \n",
       "2    automatic   sedan         red       0  2019-02-07           79   \n",
       "3    automatic  pickup       Other       0  2019-03-22            9   \n",
       "4    automatic   sedan       black       0  2019-04-02           28   \n",
       "\n",
       "  date_end_posted  \n",
       "0      2018-07-12  \n",
       "1      2018-12-08  \n",
       "2      2019-04-27  \n",
       "3      2019-03-31  \n",
       "4      2019-04-30  "
      ]
     },
     "execution_count": 35,
     "metadata": {},
     "output_type": "execute_result"
    }
   ],
   "source": [
    "# Agrega valores de fecha y hora para cuando se colocó el anuncio\n",
    "df['date_end_posted'] = df['date_posted'] + pd.to_timedelta(df['days_listed'], unit='D')\n",
    "df.head()"
   ]
  },
  {
   "cell_type": "markdown",
   "id": "fed35ce8",
   "metadata": {},
   "source": [
    "- agragamos la columna date_end_posted, que nos indica la fecha en que el anuncio fue eliminado "
   ]
  },
  {
   "cell_type": "code",
   "execution_count": 36,
   "id": "4bceb033",
   "metadata": {
    "scrolled": true
   },
   "outputs": [
    {
     "data": {
      "text/html": [
       "<div>\n",
       "<style scoped>\n",
       "    .dataframe tbody tr th:only-of-type {\n",
       "        vertical-align: middle;\n",
       "    }\n",
       "\n",
       "    .dataframe tbody tr th {\n",
       "        vertical-align: top;\n",
       "    }\n",
       "\n",
       "    .dataframe thead th {\n",
       "        text-align: right;\n",
       "    }\n",
       "</style>\n",
       "<table border=\"1\" class=\"dataframe\">\n",
       "  <thead>\n",
       "    <tr style=\"text-align: right;\">\n",
       "      <th></th>\n",
       "      <th>price</th>\n",
       "      <th>model_year</th>\n",
       "      <th>model</th>\n",
       "      <th>condition</th>\n",
       "      <th>cylinders</th>\n",
       "      <th>fuel</th>\n",
       "      <th>odometer</th>\n",
       "      <th>transmission</th>\n",
       "      <th>type</th>\n",
       "      <th>paint_color</th>\n",
       "      <th>is_4wd</th>\n",
       "      <th>date_posted</th>\n",
       "      <th>days_listed</th>\n",
       "      <th>date_end_posted</th>\n",
       "      <th>model_year_posted</th>\n",
       "    </tr>\n",
       "  </thead>\n",
       "  <tbody>\n",
       "    <tr>\n",
       "      <th>0</th>\n",
       "      <td>9400</td>\n",
       "      <td>2011-01-01</td>\n",
       "      <td>bmw x5</td>\n",
       "      <td>good</td>\n",
       "      <td>6</td>\n",
       "      <td>gas</td>\n",
       "      <td>145000.000000</td>\n",
       "      <td>automatic</td>\n",
       "      <td>SUV</td>\n",
       "      <td>Other</td>\n",
       "      <td>1</td>\n",
       "      <td>2018-06-23</td>\n",
       "      <td>19</td>\n",
       "      <td>2018-07-12</td>\n",
       "      <td>7</td>\n",
       "    </tr>\n",
       "    <tr>\n",
       "      <th>1</th>\n",
       "      <td>25500</td>\n",
       "      <td>2011-01-01</td>\n",
       "      <td>ford f-150</td>\n",
       "      <td>good</td>\n",
       "      <td>6</td>\n",
       "      <td>gas</td>\n",
       "      <td>88705.000000</td>\n",
       "      <td>automatic</td>\n",
       "      <td>pickup</td>\n",
       "      <td>white</td>\n",
       "      <td>1</td>\n",
       "      <td>2018-10-19</td>\n",
       "      <td>50</td>\n",
       "      <td>2018-12-08</td>\n",
       "      <td>7</td>\n",
       "    </tr>\n",
       "    <tr>\n",
       "      <th>2</th>\n",
       "      <td>5500</td>\n",
       "      <td>2013-01-01</td>\n",
       "      <td>hyundai sonata</td>\n",
       "      <td>like new</td>\n",
       "      <td>4</td>\n",
       "      <td>gas</td>\n",
       "      <td>110000.000000</td>\n",
       "      <td>automatic</td>\n",
       "      <td>sedan</td>\n",
       "      <td>red</td>\n",
       "      <td>0</td>\n",
       "      <td>2019-02-07</td>\n",
       "      <td>79</td>\n",
       "      <td>2019-04-27</td>\n",
       "      <td>6</td>\n",
       "    </tr>\n",
       "    <tr>\n",
       "      <th>3</th>\n",
       "      <td>1500</td>\n",
       "      <td>2003-01-01</td>\n",
       "      <td>ford f-150</td>\n",
       "      <td>fair</td>\n",
       "      <td>8</td>\n",
       "      <td>gas</td>\n",
       "      <td>162071.751024</td>\n",
       "      <td>automatic</td>\n",
       "      <td>pickup</td>\n",
       "      <td>Other</td>\n",
       "      <td>0</td>\n",
       "      <td>2019-03-22</td>\n",
       "      <td>9</td>\n",
       "      <td>2019-03-31</td>\n",
       "      <td>16</td>\n",
       "    </tr>\n",
       "    <tr>\n",
       "      <th>4</th>\n",
       "      <td>14900</td>\n",
       "      <td>2017-01-01</td>\n",
       "      <td>chrysler 200</td>\n",
       "      <td>excellent</td>\n",
       "      <td>4</td>\n",
       "      <td>gas</td>\n",
       "      <td>80903.000000</td>\n",
       "      <td>automatic</td>\n",
       "      <td>sedan</td>\n",
       "      <td>black</td>\n",
       "      <td>0</td>\n",
       "      <td>2019-04-02</td>\n",
       "      <td>28</td>\n",
       "      <td>2019-04-30</td>\n",
       "      <td>2</td>\n",
       "    </tr>\n",
       "  </tbody>\n",
       "</table>\n",
       "</div>"
      ],
      "text/plain": [
       "   price model_year           model  condition  cylinders fuel       odometer  \\\n",
       "0   9400 2011-01-01          bmw x5       good          6  gas  145000.000000   \n",
       "1  25500 2011-01-01      ford f-150       good          6  gas   88705.000000   \n",
       "2   5500 2013-01-01  hyundai sonata   like new          4  gas  110000.000000   \n",
       "3   1500 2003-01-01      ford f-150       fair          8  gas  162071.751024   \n",
       "4  14900 2017-01-01    chrysler 200  excellent          4  gas   80903.000000   \n",
       "\n",
       "  transmission    type paint_color  is_4wd date_posted  days_listed  \\\n",
       "0    automatic     SUV       Other       1  2018-06-23           19   \n",
       "1    automatic  pickup       white       1  2018-10-19           50   \n",
       "2    automatic   sedan         red       0  2019-02-07           79   \n",
       "3    automatic  pickup       Other       0  2019-03-22            9   \n",
       "4    automatic   sedan       black       0  2019-04-02           28   \n",
       "\n",
       "  date_end_posted  model_year_posted  \n",
       "0      2018-07-12                  7  \n",
       "1      2018-12-08                  7  \n",
       "2      2019-04-27                  6  \n",
       "3      2019-03-31                 16  \n",
       "4      2019-04-30                  2  "
      ]
     },
     "execution_count": 36,
     "metadata": {},
     "output_type": "execute_result"
    }
   ],
   "source": [
    "# Agrega los años del vehículo cuando el anuncio se colocó\n",
    "df['model_year_posted'] = df['date_posted'].dt.year - df['model_year'].dt.year\n",
    "df.head()"
   ]
  },
  {
   "cell_type": "markdown",
   "id": "9dd77cf0",
   "metadata": {},
   "source": [
    "- Agregamos la columna model_year_posted, que nos indica los años que el vehiculo tiene cuando se posteo el anuncio"
   ]
  },
  {
   "cell_type": "code",
   "execution_count": 37,
   "id": "3228c87a",
   "metadata": {
    "scrolled": false
   },
   "outputs": [
    {
     "data": {
      "text/html": [
       "<div>\n",
       "<style scoped>\n",
       "    .dataframe tbody tr th:only-of-type {\n",
       "        vertical-align: middle;\n",
       "    }\n",
       "\n",
       "    .dataframe tbody tr th {\n",
       "        vertical-align: top;\n",
       "    }\n",
       "\n",
       "    .dataframe thead th {\n",
       "        text-align: right;\n",
       "    }\n",
       "</style>\n",
       "<table border=\"1\" class=\"dataframe\">\n",
       "  <thead>\n",
       "    <tr style=\"text-align: right;\">\n",
       "      <th></th>\n",
       "      <th>price</th>\n",
       "      <th>model_year</th>\n",
       "      <th>model</th>\n",
       "      <th>condition</th>\n",
       "      <th>cylinders</th>\n",
       "      <th>fuel</th>\n",
       "      <th>odometer</th>\n",
       "      <th>transmission</th>\n",
       "      <th>type</th>\n",
       "      <th>paint_color</th>\n",
       "      <th>is_4wd</th>\n",
       "      <th>date_posted</th>\n",
       "      <th>days_listed</th>\n",
       "      <th>date_end_posted</th>\n",
       "      <th>model_year_posted</th>\n",
       "      <th>odometerforyear</th>\n",
       "    </tr>\n",
       "  </thead>\n",
       "  <tbody>\n",
       "    <tr>\n",
       "      <th>0</th>\n",
       "      <td>9400</td>\n",
       "      <td>2011-01-01</td>\n",
       "      <td>bmw x5</td>\n",
       "      <td>good</td>\n",
       "      <td>6</td>\n",
       "      <td>gas</td>\n",
       "      <td>145000.000000</td>\n",
       "      <td>automatic</td>\n",
       "      <td>SUV</td>\n",
       "      <td>Other</td>\n",
       "      <td>1</td>\n",
       "      <td>2018-06-23</td>\n",
       "      <td>19</td>\n",
       "      <td>2018-07-12</td>\n",
       "      <td>7</td>\n",
       "      <td>20714.285714</td>\n",
       "    </tr>\n",
       "    <tr>\n",
       "      <th>1</th>\n",
       "      <td>25500</td>\n",
       "      <td>2011-01-01</td>\n",
       "      <td>ford f-150</td>\n",
       "      <td>good</td>\n",
       "      <td>6</td>\n",
       "      <td>gas</td>\n",
       "      <td>88705.000000</td>\n",
       "      <td>automatic</td>\n",
       "      <td>pickup</td>\n",
       "      <td>white</td>\n",
       "      <td>1</td>\n",
       "      <td>2018-10-19</td>\n",
       "      <td>50</td>\n",
       "      <td>2018-12-08</td>\n",
       "      <td>7</td>\n",
       "      <td>12672.142857</td>\n",
       "    </tr>\n",
       "    <tr>\n",
       "      <th>2</th>\n",
       "      <td>5500</td>\n",
       "      <td>2013-01-01</td>\n",
       "      <td>hyundai sonata</td>\n",
       "      <td>like new</td>\n",
       "      <td>4</td>\n",
       "      <td>gas</td>\n",
       "      <td>110000.000000</td>\n",
       "      <td>automatic</td>\n",
       "      <td>sedan</td>\n",
       "      <td>red</td>\n",
       "      <td>0</td>\n",
       "      <td>2019-02-07</td>\n",
       "      <td>79</td>\n",
       "      <td>2019-04-27</td>\n",
       "      <td>6</td>\n",
       "      <td>18333.333333</td>\n",
       "    </tr>\n",
       "    <tr>\n",
       "      <th>3</th>\n",
       "      <td>1500</td>\n",
       "      <td>2003-01-01</td>\n",
       "      <td>ford f-150</td>\n",
       "      <td>fair</td>\n",
       "      <td>8</td>\n",
       "      <td>gas</td>\n",
       "      <td>162071.751024</td>\n",
       "      <td>automatic</td>\n",
       "      <td>pickup</td>\n",
       "      <td>Other</td>\n",
       "      <td>0</td>\n",
       "      <td>2019-03-22</td>\n",
       "      <td>9</td>\n",
       "      <td>2019-03-31</td>\n",
       "      <td>16</td>\n",
       "      <td>10129.484439</td>\n",
       "    </tr>\n",
       "    <tr>\n",
       "      <th>4</th>\n",
       "      <td>14900</td>\n",
       "      <td>2017-01-01</td>\n",
       "      <td>chrysler 200</td>\n",
       "      <td>excellent</td>\n",
       "      <td>4</td>\n",
       "      <td>gas</td>\n",
       "      <td>80903.000000</td>\n",
       "      <td>automatic</td>\n",
       "      <td>sedan</td>\n",
       "      <td>black</td>\n",
       "      <td>0</td>\n",
       "      <td>2019-04-02</td>\n",
       "      <td>28</td>\n",
       "      <td>2019-04-30</td>\n",
       "      <td>2</td>\n",
       "      <td>40451.500000</td>\n",
       "    </tr>\n",
       "    <tr>\n",
       "      <th>...</th>\n",
       "      <td>...</td>\n",
       "      <td>...</td>\n",
       "      <td>...</td>\n",
       "      <td>...</td>\n",
       "      <td>...</td>\n",
       "      <td>...</td>\n",
       "      <td>...</td>\n",
       "      <td>...</td>\n",
       "      <td>...</td>\n",
       "      <td>...</td>\n",
       "      <td>...</td>\n",
       "      <td>...</td>\n",
       "      <td>...</td>\n",
       "      <td>...</td>\n",
       "      <td>...</td>\n",
       "      <td>...</td>\n",
       "    </tr>\n",
       "    <tr>\n",
       "      <th>51520</th>\n",
       "      <td>9249</td>\n",
       "      <td>2013-01-01</td>\n",
       "      <td>nissan maxima</td>\n",
       "      <td>like new</td>\n",
       "      <td>6</td>\n",
       "      <td>gas</td>\n",
       "      <td>88136.000000</td>\n",
       "      <td>automatic</td>\n",
       "      <td>sedan</td>\n",
       "      <td>black</td>\n",
       "      <td>0</td>\n",
       "      <td>2018-10-03</td>\n",
       "      <td>37</td>\n",
       "      <td>2018-11-09</td>\n",
       "      <td>5</td>\n",
       "      <td>17627.200000</td>\n",
       "    </tr>\n",
       "    <tr>\n",
       "      <th>51521</th>\n",
       "      <td>2700</td>\n",
       "      <td>2002-01-01</td>\n",
       "      <td>honda civic</td>\n",
       "      <td>salvage</td>\n",
       "      <td>4</td>\n",
       "      <td>gas</td>\n",
       "      <td>181500.000000</td>\n",
       "      <td>automatic</td>\n",
       "      <td>sedan</td>\n",
       "      <td>white</td>\n",
       "      <td>0</td>\n",
       "      <td>2018-11-14</td>\n",
       "      <td>22</td>\n",
       "      <td>2018-12-06</td>\n",
       "      <td>16</td>\n",
       "      <td>11343.750000</td>\n",
       "    </tr>\n",
       "    <tr>\n",
       "      <th>51522</th>\n",
       "      <td>3950</td>\n",
       "      <td>2009-01-01</td>\n",
       "      <td>hyundai sonata</td>\n",
       "      <td>excellent</td>\n",
       "      <td>4</td>\n",
       "      <td>gas</td>\n",
       "      <td>128000.000000</td>\n",
       "      <td>automatic</td>\n",
       "      <td>sedan</td>\n",
       "      <td>blue</td>\n",
       "      <td>0</td>\n",
       "      <td>2018-11-15</td>\n",
       "      <td>32</td>\n",
       "      <td>2018-12-17</td>\n",
       "      <td>9</td>\n",
       "      <td>14222.222222</td>\n",
       "    </tr>\n",
       "    <tr>\n",
       "      <th>51523</th>\n",
       "      <td>7455</td>\n",
       "      <td>2013-01-01</td>\n",
       "      <td>toyota corolla</td>\n",
       "      <td>good</td>\n",
       "      <td>4</td>\n",
       "      <td>gas</td>\n",
       "      <td>139573.000000</td>\n",
       "      <td>automatic</td>\n",
       "      <td>sedan</td>\n",
       "      <td>black</td>\n",
       "      <td>0</td>\n",
       "      <td>2018-07-02</td>\n",
       "      <td>71</td>\n",
       "      <td>2018-09-11</td>\n",
       "      <td>5</td>\n",
       "      <td>27914.600000</td>\n",
       "    </tr>\n",
       "    <tr>\n",
       "      <th>51524</th>\n",
       "      <td>6300</td>\n",
       "      <td>2014-01-01</td>\n",
       "      <td>nissan altima</td>\n",
       "      <td>good</td>\n",
       "      <td>4</td>\n",
       "      <td>gas</td>\n",
       "      <td>93648.703319</td>\n",
       "      <td>automatic</td>\n",
       "      <td>sedan</td>\n",
       "      <td>Other</td>\n",
       "      <td>0</td>\n",
       "      <td>2018-06-05</td>\n",
       "      <td>10</td>\n",
       "      <td>2018-06-15</td>\n",
       "      <td>4</td>\n",
       "      <td>23412.175830</td>\n",
       "    </tr>\n",
       "  </tbody>\n",
       "</table>\n",
       "<p>51525 rows × 16 columns</p>\n",
       "</div>"
      ],
      "text/plain": [
       "       price model_year           model  condition  cylinders fuel  \\\n",
       "0       9400 2011-01-01          bmw x5       good          6  gas   \n",
       "1      25500 2011-01-01      ford f-150       good          6  gas   \n",
       "2       5500 2013-01-01  hyundai sonata   like new          4  gas   \n",
       "3       1500 2003-01-01      ford f-150       fair          8  gas   \n",
       "4      14900 2017-01-01    chrysler 200  excellent          4  gas   \n",
       "...      ...        ...             ...        ...        ...  ...   \n",
       "51520   9249 2013-01-01   nissan maxima   like new          6  gas   \n",
       "51521   2700 2002-01-01     honda civic    salvage          4  gas   \n",
       "51522   3950 2009-01-01  hyundai sonata  excellent          4  gas   \n",
       "51523   7455 2013-01-01  toyota corolla       good          4  gas   \n",
       "51524   6300 2014-01-01   nissan altima       good          4  gas   \n",
       "\n",
       "            odometer transmission    type paint_color  is_4wd date_posted  \\\n",
       "0      145000.000000    automatic     SUV       Other       1  2018-06-23   \n",
       "1       88705.000000    automatic  pickup       white       1  2018-10-19   \n",
       "2      110000.000000    automatic   sedan         red       0  2019-02-07   \n",
       "3      162071.751024    automatic  pickup       Other       0  2019-03-22   \n",
       "4       80903.000000    automatic   sedan       black       0  2019-04-02   \n",
       "...              ...          ...     ...         ...     ...         ...   \n",
       "51520   88136.000000    automatic   sedan       black       0  2018-10-03   \n",
       "51521  181500.000000    automatic   sedan       white       0  2018-11-14   \n",
       "51522  128000.000000    automatic   sedan        blue       0  2018-11-15   \n",
       "51523  139573.000000    automatic   sedan       black       0  2018-07-02   \n",
       "51524   93648.703319    automatic   sedan       Other       0  2018-06-05   \n",
       "\n",
       "       days_listed date_end_posted  model_year_posted  odometerforyear  \n",
       "0               19      2018-07-12                  7     20714.285714  \n",
       "1               50      2018-12-08                  7     12672.142857  \n",
       "2               79      2019-04-27                  6     18333.333333  \n",
       "3                9      2019-03-31                 16     10129.484439  \n",
       "4               28      2019-04-30                  2     40451.500000  \n",
       "...            ...             ...                ...              ...  \n",
       "51520           37      2018-11-09                  5     17627.200000  \n",
       "51521           22      2018-12-06                 16     11343.750000  \n",
       "51522           32      2018-12-17                  9     14222.222222  \n",
       "51523           71      2018-09-11                  5     27914.600000  \n",
       "51524           10      2018-06-15                  4     23412.175830  \n",
       "\n",
       "[51525 rows x 16 columns]"
      ]
     },
     "execution_count": 37,
     "metadata": {},
     "output_type": "execute_result"
    }
   ],
   "source": [
    "# Agrega el millaje promedio del vehículo por año\n",
    "def odometerforyear(row):\n",
    "    model_year_posted = row['model_year_posted']\n",
    "    if model_year_posted > 0:\n",
    "        return row['odometer'] / row['model_year_posted']\n",
    "    return row['odometer']\n",
    "#probando la funciòn \n",
    "row_values = [0]  \n",
    "row_columns = ['model_year_posted']\n",
    "row = pd.Series(data=row_values, index=row_columns)\n",
    "# Crear una nueva columna basada en la función\n",
    "df['odometer_for_year'] = df.apply(odometerforyear, axis = 1)\n",
    "df"
   ]
  },
  {
   "cell_type": "markdown",
   "id": "8f24fa16",
   "metadata": {},
   "source": [
    "- Agregamos la columna odometerforyear, que nos indica el el millaje por año del vehiculo"
   ]
  },
  {
   "cell_type": "code",
   "execution_count": 38,
   "id": "e200e3ed",
   "metadata": {},
   "outputs": [
    {
     "data": {
      "text/plain": [
       "excellent    24773\n",
       "good         20145\n",
       "like new      4742\n",
       "fair          1607\n",
       "new            143\n",
       "salvage        115\n",
       "Name: condition, dtype: int64"
      ]
     },
     "execution_count": 38,
     "metadata": {},
     "output_type": "execute_result"
    }
   ],
   "source": [
    "df['condition'].value_counts()"
   ]
  },
  {
   "cell_type": "code",
   "execution_count": 39,
   "id": "10c80eb2",
   "metadata": {},
   "outputs": [],
   "source": [
    "# Podría ser útil reemplazar los valores de condición con algo que se pueda manipular más fácilmente\n",
    "df.loc[df['condition'] == 'new', 'condition'] = 5\n",
    "df.loc[df['condition'] == 'like new', 'condition'] = 4\n",
    "df.loc[df['condition'] == 'excellent', 'condition'] = 3\n",
    "df.loc[df['condition'] == 'good', 'condition'] = 2\n",
    "df.loc[df['condition'] == 'fair', 'condition'] = 1\n",
    "df.loc[df['condition'] == 'salvage', 'condition'] = 0\n",
    "df['condition'] = df['condition'].astype('int')"
   ]
  },
  {
   "cell_type": "markdown",
   "id": "763d4ff8",
   "metadata": {},
   "source": [
    "- Sustituimos los valores de la columna condition, por valores numericos mas facil de indentificar \n",
    "    + new = 5\n",
    "    + like new = 4\n",
    "    + excellent = 3\n",
    "    + good = 2\n",
    "    + fair = 1\n",
    "    + salvage = 0"
   ]
  },
  {
   "cell_type": "code",
   "execution_count": 40,
   "id": "f6f31272",
   "metadata": {},
   "outputs": [
    {
     "data": {
      "text/plain": [
       "3    24773\n",
       "2    20145\n",
       "4     4742\n",
       "1     1607\n",
       "5      143\n",
       "0      115\n",
       "Name: condition, dtype: int64"
      ]
     },
     "execution_count": 40,
     "metadata": {},
     "output_type": "execute_result"
    }
   ],
   "source": [
    "df['condition'].value_counts()"
   ]
  },
  {
   "cell_type": "markdown",
   "id": "fcabd628",
   "metadata": {},
   "source": [
    "## Comprobar datos limpios"
   ]
  },
  {
   "cell_type": "code",
   "execution_count": 41,
   "id": "d27cc6f7",
   "metadata": {},
   "outputs": [
    {
     "name": "stdout",
     "output_type": "stream",
     "text": [
      "<class 'pandas.core.frame.DataFrame'>\n",
      "RangeIndex: 51525 entries, 0 to 51524\n",
      "Data columns (total 16 columns):\n",
      " #   Column             Non-Null Count  Dtype         \n",
      "---  ------             --------------  -----         \n",
      " 0   price              51525 non-null  int64         \n",
      " 1   model_year         51525 non-null  datetime64[ns]\n",
      " 2   model              51525 non-null  object        \n",
      " 3   condition          51525 non-null  int64         \n",
      " 4   cylinders          51525 non-null  int64         \n",
      " 5   fuel               51525 non-null  object        \n",
      " 6   odometer           51525 non-null  float64       \n",
      " 7   transmission       51525 non-null  object        \n",
      " 8   type               51525 non-null  object        \n",
      " 9   paint_color        51525 non-null  object        \n",
      " 10  is_4wd             51525 non-null  int64         \n",
      " 11  date_posted        51525 non-null  datetime64[ns]\n",
      " 12  days_listed        51525 non-null  int64         \n",
      " 13  date_end_posted    51525 non-null  datetime64[ns]\n",
      " 14  model_year_posted  51525 non-null  int64         \n",
      " 15  odometerforyear    51523 non-null  float64       \n",
      "dtypes: datetime64[ns](3), float64(2), int64(6), object(5)\n",
      "memory usage: 6.3+ MB\n"
     ]
    }
   ],
   "source": [
    "# imprime la información general/resumida sobre el DataFrame\n",
    "df.info()"
   ]
  },
  {
   "cell_type": "code",
   "execution_count": 42,
   "id": "8a2e7ba9",
   "metadata": {},
   "outputs": [
    {
     "data": {
      "text/html": [
       "<div>\n",
       "<style scoped>\n",
       "    .dataframe tbody tr th:only-of-type {\n",
       "        vertical-align: middle;\n",
       "    }\n",
       "\n",
       "    .dataframe tbody tr th {\n",
       "        vertical-align: top;\n",
       "    }\n",
       "\n",
       "    .dataframe thead th {\n",
       "        text-align: right;\n",
       "    }\n",
       "</style>\n",
       "<table border=\"1\" class=\"dataframe\">\n",
       "  <thead>\n",
       "    <tr style=\"text-align: right;\">\n",
       "      <th></th>\n",
       "      <th>price</th>\n",
       "      <th>model_year</th>\n",
       "      <th>model</th>\n",
       "      <th>condition</th>\n",
       "      <th>cylinders</th>\n",
       "      <th>fuel</th>\n",
       "      <th>odometer</th>\n",
       "      <th>transmission</th>\n",
       "      <th>type</th>\n",
       "      <th>paint_color</th>\n",
       "      <th>is_4wd</th>\n",
       "      <th>date_posted</th>\n",
       "      <th>days_listed</th>\n",
       "      <th>date_end_posted</th>\n",
       "      <th>model_year_posted</th>\n",
       "      <th>odometerforyear</th>\n",
       "    </tr>\n",
       "  </thead>\n",
       "  <tbody>\n",
       "    <tr>\n",
       "      <th>0</th>\n",
       "      <td>9400</td>\n",
       "      <td>2011-01-01</td>\n",
       "      <td>bmw x5</td>\n",
       "      <td>2</td>\n",
       "      <td>6</td>\n",
       "      <td>gas</td>\n",
       "      <td>145000.000000</td>\n",
       "      <td>automatic</td>\n",
       "      <td>SUV</td>\n",
       "      <td>Other</td>\n",
       "      <td>1</td>\n",
       "      <td>2018-06-23</td>\n",
       "      <td>19</td>\n",
       "      <td>2018-07-12</td>\n",
       "      <td>7</td>\n",
       "      <td>20714.285714</td>\n",
       "    </tr>\n",
       "    <tr>\n",
       "      <th>1</th>\n",
       "      <td>25500</td>\n",
       "      <td>2011-01-01</td>\n",
       "      <td>ford f-150</td>\n",
       "      <td>2</td>\n",
       "      <td>6</td>\n",
       "      <td>gas</td>\n",
       "      <td>88705.000000</td>\n",
       "      <td>automatic</td>\n",
       "      <td>pickup</td>\n",
       "      <td>white</td>\n",
       "      <td>1</td>\n",
       "      <td>2018-10-19</td>\n",
       "      <td>50</td>\n",
       "      <td>2018-12-08</td>\n",
       "      <td>7</td>\n",
       "      <td>12672.142857</td>\n",
       "    </tr>\n",
       "    <tr>\n",
       "      <th>2</th>\n",
       "      <td>5500</td>\n",
       "      <td>2013-01-01</td>\n",
       "      <td>hyundai sonata</td>\n",
       "      <td>4</td>\n",
       "      <td>4</td>\n",
       "      <td>gas</td>\n",
       "      <td>110000.000000</td>\n",
       "      <td>automatic</td>\n",
       "      <td>sedan</td>\n",
       "      <td>red</td>\n",
       "      <td>0</td>\n",
       "      <td>2019-02-07</td>\n",
       "      <td>79</td>\n",
       "      <td>2019-04-27</td>\n",
       "      <td>6</td>\n",
       "      <td>18333.333333</td>\n",
       "    </tr>\n",
       "    <tr>\n",
       "      <th>3</th>\n",
       "      <td>1500</td>\n",
       "      <td>2003-01-01</td>\n",
       "      <td>ford f-150</td>\n",
       "      <td>1</td>\n",
       "      <td>8</td>\n",
       "      <td>gas</td>\n",
       "      <td>162071.751024</td>\n",
       "      <td>automatic</td>\n",
       "      <td>pickup</td>\n",
       "      <td>Other</td>\n",
       "      <td>0</td>\n",
       "      <td>2019-03-22</td>\n",
       "      <td>9</td>\n",
       "      <td>2019-03-31</td>\n",
       "      <td>16</td>\n",
       "      <td>10129.484439</td>\n",
       "    </tr>\n",
       "    <tr>\n",
       "      <th>4</th>\n",
       "      <td>14900</td>\n",
       "      <td>2017-01-01</td>\n",
       "      <td>chrysler 200</td>\n",
       "      <td>3</td>\n",
       "      <td>4</td>\n",
       "      <td>gas</td>\n",
       "      <td>80903.000000</td>\n",
       "      <td>automatic</td>\n",
       "      <td>sedan</td>\n",
       "      <td>black</td>\n",
       "      <td>0</td>\n",
       "      <td>2019-04-02</td>\n",
       "      <td>28</td>\n",
       "      <td>2019-04-30</td>\n",
       "      <td>2</td>\n",
       "      <td>40451.500000</td>\n",
       "    </tr>\n",
       "  </tbody>\n",
       "</table>\n",
       "</div>"
      ],
      "text/plain": [
       "   price model_year           model  condition  cylinders fuel       odometer  \\\n",
       "0   9400 2011-01-01          bmw x5          2          6  gas  145000.000000   \n",
       "1  25500 2011-01-01      ford f-150          2          6  gas   88705.000000   \n",
       "2   5500 2013-01-01  hyundai sonata          4          4  gas  110000.000000   \n",
       "3   1500 2003-01-01      ford f-150          1          8  gas  162071.751024   \n",
       "4  14900 2017-01-01    chrysler 200          3          4  gas   80903.000000   \n",
       "\n",
       "  transmission    type paint_color  is_4wd date_posted  days_listed  \\\n",
       "0    automatic     SUV       Other       1  2018-06-23           19   \n",
       "1    automatic  pickup       white       1  2018-10-19           50   \n",
       "2    automatic   sedan         red       0  2019-02-07           79   \n",
       "3    automatic  pickup       Other       0  2019-03-22            9   \n",
       "4    automatic   sedan       black       0  2019-04-02           28   \n",
       "\n",
       "  date_end_posted  model_year_posted  odometerforyear  \n",
       "0      2018-07-12                  7     20714.285714  \n",
       "1      2018-12-08                  7     12672.142857  \n",
       "2      2019-04-27                  6     18333.333333  \n",
       "3      2019-03-31                 16     10129.484439  \n",
       "4      2019-04-30                  2     40451.500000  "
      ]
     },
     "execution_count": 42,
     "metadata": {},
     "output_type": "execute_result"
    }
   ],
   "source": [
    "# imprimir una muestra de datos\n",
    "df.head()"
   ]
  },
  {
   "cell_type": "markdown",
   "id": "c1e9f34e",
   "metadata": {},
   "source": [
    "## Estudiar parámetros principales\n",
    "\n",
    "Los parámetros son:\n",
    "- Precio\n",
    "- Los años del vehículo cuando el anuncio se colocó\n",
    "- Millaje\n",
    "- Número de cilindros\n",
    "- Estado"
   ]
  },
  {
   "cell_type": "code",
   "execution_count": 43,
   "id": "b50c3925",
   "metadata": {
    "scrolled": false
   },
   "outputs": [
    {
     "data": {
      "image/png": "[encoded data removed]",
      "text/plain": [
       "<Figure size 432x288 with 1 Axes>"
      ]
     },
     "metadata": {
      "needs_background": "light"
     },
     "output_type": "display_data"
    },
    {
     "data": {
      "image/png": "[encoded data removed]",
      "text/plain": [
       "<Figure size 432x288 with 1 Axes>"
      ]
     },
     "metadata": {
      "needs_background": "light"
     },
     "output_type": "display_data"
    },
    {
     "name": "stdout",
     "output_type": "stream",
     "text": [
      "limite superior = 34597.5\n"
     ]
    }
   ],
   "source": [
    "df.boxplot('price')\n",
    "df.hist('price', bins = 200)\n",
    "plt.show()\n",
    "Q1_price = df['price'].quantile(0.25)\n",
    "Q3_price = df['price'].quantile(0.75)\n",
    "IQR_price = Q3_price - Q1_price\n",
    "lim_sup_price = Q3_price+1.5*IQR_price\n",
    "print('limite superior =', lim_sup_price)"
   ]
  },
  {
   "cell_type": "markdown",
   "id": "4322d286",
   "metadata": {},
   "source": [
    "- En el diagrama podemos ver que hay precios arriba de 350000 y precios en cero, estos son valores atipicos, recortaremos los valores que no esten entre el 5000 hasta 34597.5"
   ]
  },
  {
   "cell_type": "code",
   "execution_count": 44,
   "id": "2dd8648b",
   "metadata": {
    "scrolled": false
   },
   "outputs": [
    {
     "data": {
      "image/png": "[encoded data removed]",
      "text/plain": [
       "<Figure size 432x288 with 1 Axes>"
      ]
     },
     "metadata": {
      "needs_background": "light"
     },
     "output_type": "display_data"
    },
    {
     "data": {
      "image/png": "[encoded data removed]",
      "text/plain": [
       "<Figure size 432x288 with 1 Axes>"
      ]
     },
     "metadata": {
      "needs_background": "light"
     },
     "output_type": "display_data"
    },
    {
     "name": "stdout",
     "output_type": "stream",
     "text": [
      "limite superior = 24.0\n"
     ]
    }
   ],
   "source": [
    "df.boxplot('model_year_posted')\n",
    "df.hist('model_year_posted', bins = 80)\n",
    "plt.show()\n",
    "Q1_model_year_posted = df['model_year_posted'].quantile(0.25)\n",
    "Q3_model_year_posted = df['model_year_posted'].quantile(0.75)\n",
    "IQR_model_year_posted = Q3_model_year_posted - Q1_model_year_posted\n",
    "lim_sup_model_year_posted = Q3_model_year_posted+1.5*IQR_model_year_posted\n",
    "print('limite superior =', lim_sup_model_year_posted)"
   ]
  },
  {
   "cell_type": "markdown",
   "id": "c6b3aaa3",
   "metadata": {},
   "source": [
    "Ya que los autos se pueden vender en condiciones de nuevo, eliminaremos los valores atipicos mayores de 24 años"
   ]
  },
  {
   "cell_type": "code",
   "execution_count": 45,
   "id": "b7923f17",
   "metadata": {},
   "outputs": [
    {
     "data": {
      "image/png": "[encoded data removed]",
      "text/plain": [
       "<Figure size 432x288 with 1 Axes>"
      ]
     },
     "metadata": {
      "needs_background": "light"
     },
     "output_type": "display_data"
    },
    {
     "data": {
      "image/png": "[encoded data removed]",
      "text/plain": [
       "<Figure size 432x288 with 1 Axes>"
      ]
     },
     "metadata": {
      "needs_background": "light"
     },
     "output_type": "display_data"
    },
    {
     "name": "stdout",
     "output_type": "stream",
     "text": [
      "limite superior = 269779.2978173464\n"
     ]
    }
   ],
   "source": [
    "df.boxplot('odometer')\n",
    "df.hist('odometer', bins = 80)\n",
    "plt.show()\n",
    "Q1_odometer = df['odometer'].quantile(0.25)\n",
    "Q3_odometer = df['odometer'].quantile(0.75)\n",
    "IQR_odometer = Q3_odometer - Q1_odometer\n",
    "lim_sup_odometer = Q3_odometer+1.5*IQR_odometer\n",
    "print('limite superior =', lim_sup_odometer)"
   ]
  },
  {
   "cell_type": "markdown",
   "id": "8c091ed4",
   "metadata": {},
   "source": [
    "Podemos observar que los valores atipicos en nuestros datos son los millajes arriba del 269779.2978173464"
   ]
  },
  {
   "cell_type": "code",
   "execution_count": 46,
   "id": "739875ca",
   "metadata": {},
   "outputs": [
    {
     "data": {
      "image/png": "[encoded data removed]",
      "text/plain": [
       "<Figure size 432x288 with 1 Axes>"
      ]
     },
     "metadata": {
      "needs_background": "light"
     },
     "output_type": "display_data"
    },
    {
     "data": {
      "image/png": "[encoded data removed]",
      "text/plain": [
       "<Figure size 432x288 with 1 Axes>"
      ]
     },
     "metadata": {
      "needs_background": "light"
     },
     "output_type": "display_data"
    },
    {
     "data": {
      "text/plain": [
       "count    51525.000000\n",
       "mean         6.121067\n",
       "std          1.657457\n",
       "min          3.000000\n",
       "25%          4.000000\n",
       "50%          6.000000\n",
       "75%          8.000000\n",
       "max         12.000000\n",
       "Name: cylinders, dtype: float64"
      ]
     },
     "execution_count": 46,
     "metadata": {},
     "output_type": "execute_result"
    }
   ],
   "source": [
    "df.boxplot('cylinders')\n",
    "df.hist('cylinders', bins = 80)\n",
    "plt.show()\n",
    "df['cylinders'].describe()"
   ]
  },
  {
   "cell_type": "markdown",
   "id": "f14ab462",
   "metadata": {},
   "source": [
    "Ya que el numero de cilindros es un valor estandar del auto y no presenta valores atipicos no los eliminaremos"
   ]
  },
  {
   "cell_type": "code",
   "execution_count": 47,
   "id": "2d0f1554",
   "metadata": {},
   "outputs": [
    {
     "data": {
      "image/png": "[encoded data removed]",
      "text/plain": [
       "<Figure size 432x288 with 1 Axes>"
      ]
     },
     "metadata": {
      "needs_background": "light"
     },
     "output_type": "display_data"
    },
    {
     "data": {
      "image/png": "[encoded data removed]",
      "text/plain": [
       "<Figure size 432x288 with 1 Axes>"
      ]
     },
     "metadata": {
      "needs_background": "light"
     },
     "output_type": "display_data"
    },
    {
     "data": {
      "text/plain": [
       "count    51525.000000\n",
       "mean         2.637535\n",
       "std          0.712447\n",
       "min          0.000000\n",
       "25%          2.000000\n",
       "50%          3.000000\n",
       "75%          3.000000\n",
       "max          5.000000\n",
       "Name: condition, dtype: float64"
      ]
     },
     "execution_count": 47,
     "metadata": {},
     "output_type": "execute_result"
    }
   ],
   "source": [
    "df.boxplot('condition')\n",
    "df.hist('condition', bins = 80)\n",
    "plt.show()\n",
    "df['condition'].describe()"
   ]
  },
  {
   "cell_type": "markdown",
   "id": "7259398b",
   "metadata": {},
   "source": [
    "Ya que el estado del auto es un valor estandar y no presenta valores atipicos no los eliminaremos"
   ]
  },
  {
   "cell_type": "markdown",
   "id": "4ccb3033",
   "metadata": {},
   "source": [
    "## Estudiar y tratar valores atípicos"
   ]
  },
  {
   "cell_type": "code",
   "execution_count": 48,
   "id": "73bfcae8",
   "metadata": {},
   "outputs": [],
   "source": [
    "# Determinar los límites inferiores para valores atípicos\n",
    "min_price = 500"
   ]
  },
  {
   "cell_type": "code",
   "execution_count": 49,
   "id": "7960c7f4",
   "metadata": {},
   "outputs": [],
   "source": [
    "# Determina los límites superiores para valores atípicos\n",
    "max_price = 34597.5\n",
    "max_model_year_posted = 24\n",
    "max_odometer = 269779.2978173464"
   ]
  },
  {
   "cell_type": "code",
   "execution_count": 50,
   "id": "abde5dfb",
   "metadata": {},
   "outputs": [
    {
     "name": "stdout",
     "output_type": "stream",
     "text": [
      "<class 'pandas.core.frame.DataFrame'>\n",
      "Int64Index: 47242 entries, 0 to 51524\n",
      "Data columns (total 16 columns):\n",
      " #   Column             Non-Null Count  Dtype         \n",
      "---  ------             --------------  -----         \n",
      " 0   price              47242 non-null  int64         \n",
      " 1   model_year         47242 non-null  datetime64[ns]\n",
      " 2   model              47242 non-null  object        \n",
      " 3   condition          47242 non-null  int64         \n",
      " 4   cylinders          47242 non-null  int64         \n",
      " 5   fuel               47242 non-null  object        \n",
      " 6   odometer           47242 non-null  float64       \n",
      " 7   transmission       47242 non-null  object        \n",
      " 8   type               47242 non-null  object        \n",
      " 9   paint_color        47242 non-null  object        \n",
      " 10  is_4wd             47242 non-null  int64         \n",
      " 11  date_posted        47242 non-null  datetime64[ns]\n",
      " 12  days_listed        47242 non-null  int64         \n",
      " 13  date_end_posted    47242 non-null  datetime64[ns]\n",
      " 14  model_year_posted  47242 non-null  int64         \n",
      " 15  odometerforyear    47241 non-null  float64       \n",
      "dtypes: datetime64[ns](3), float64(2), int64(6), object(5)\n",
      "memory usage: 6.1+ MB\n"
     ]
    }
   ],
   "source": [
    "# Almacena los datos sin valores atípicos en un DataFrame separado\n",
    "data_whitaout= df.query('@min_price<price<@max_price & model_year_posted<@max_model_year_posted & odometer<@max_odometer')\n",
    "data_whitaout.info()"
   ]
  },
  {
   "cell_type": "code",
   "execution_count": 51,
   "id": "11af8b43",
   "metadata": {},
   "outputs": [
    {
     "data": {
      "image/png": "[encoded data removed]",
      "text/plain": [
       "<Figure size 432x288 with 1 Axes>"
      ]
     },
     "metadata": {
      "needs_background": "light"
     },
     "output_type": "display_data"
    },
    {
     "data": {
      "image/png": "[encoded data removed]",
      "text/plain": [
       "<Figure size 432x288 with 1 Axes>"
      ]
     },
     "metadata": {
      "needs_background": "light"
     },
     "output_type": "display_data"
    }
   ],
   "source": [
    "df.hist('price', bins = 20)\n",
    "data_whitaout.hist('price', bins = 20)\n",
    "plt.show()"
   ]
  },
  {
   "cell_type": "markdown",
   "id": "ee8b2a57",
   "metadata": {},
   "source": [
    "Podemos observar una mejor distribucion de los precion en el DataFrame sin valores atipicos, y con esta informaciòn podemos observar que hay dos picos 4000, 6000 y 8000"
   ]
  },
  {
   "cell_type": "code",
   "execution_count": 52,
   "id": "ab9a7190",
   "metadata": {
    "scrolled": false
   },
   "outputs": [
    {
     "data": {
      "image/png": "[encoded data removed]",
      "text/plain": [
       "<Figure size 432x288 with 1 Axes>"
      ]
     },
     "metadata": {
      "needs_background": "light"
     },
     "output_type": "display_data"
    },
    {
     "data": {
      "image/png": "[encoded data removed]",
      "text/plain": [
       "<Figure size 432x288 with 1 Axes>"
      ]
     },
     "metadata": {
      "needs_background": "light"
     },
     "output_type": "display_data"
    }
   ],
   "source": [
    "df.hist('model_year_posted', bins = 20)\n",
    "data_whitaout.hist('model_year_posted', bins = 20)\n",
    "plt.show()"
   ]
  },
  {
   "cell_type": "markdown",
   "id": "84e606f9",
   "metadata": {},
   "source": [
    "podemos observar picos en 4, 10 y 12 años que no se logran observar en el histograma con los datos atipicos"
   ]
  },
  {
   "cell_type": "code",
   "execution_count": 53,
   "id": "c10e1695",
   "metadata": {},
   "outputs": [
    {
     "data": {
      "image/png": "[encoded data removed]",
      "text/plain": [
       "<Figure size 432x288 with 1 Axes>"
      ]
     },
     "metadata": {
      "needs_background": "light"
     },
     "output_type": "display_data"
    },
    {
     "data": {
      "image/png": "[encoded data removed]",
      "text/plain": [
       "<Figure size 432x288 with 1 Axes>"
      ]
     },
     "metadata": {
      "needs_background": "light"
     },
     "output_type": "display_data"
    }
   ],
   "source": [
    "df.hist('odometer', bins = 30)\n",
    "data_whitaout.hist('odometer', bins = 30)\n",
    "plt.show()"
   ]
  },
  {
   "cell_type": "markdown",
   "id": "ddb66809",
   "metadata": {},
   "source": [
    "Podemos observar un pico entre los valores de 100000 y 15000 millas"
   ]
  },
  {
   "cell_type": "markdown",
   "id": "13af5eba",
   "metadata": {},
   "source": [
    "## Periodo de colocación de los anuncios"
   ]
  },
  {
   "cell_type": "code",
   "execution_count": 54,
   "id": "84febf6e",
   "metadata": {},
   "outputs": [
    {
     "name": "stdout",
     "output_type": "stream",
     "text": [
      "count    47242.000000\n",
      "mean        39.555311\n",
      "std         28.222771\n",
      "min          0.000000\n",
      "25%         19.000000\n",
      "50%         33.000000\n",
      "75%         53.000000\n",
      "max        271.000000\n",
      "Name: days_listed, dtype: float64\n"
     ]
    },
    {
     "data": {
      "image/png": "[encoded data removed]",
      "text/plain": [
       "<Figure size 432x288 with 1 Axes>"
      ]
     },
     "metadata": {
      "needs_background": "light"
     },
     "output_type": "display_data"
    },
    {
     "data": {
      "image/png": "[encoded data removed]",
      "text/plain": [
       "<Figure size 432x288 with 1 Axes>"
      ]
     },
     "metadata": {
      "needs_background": "light"
     },
     "output_type": "display_data"
    }
   ],
   "source": [
    "print(data_whitaout['days_listed'].describe())\n",
    "data_whitaout.boxplot('days_listed')\n",
    "data_whitaout.hist('days_listed', bins = 30)\n",
    "plt.show()"
   ]
  },
  {
   "cell_type": "markdown",
   "id": "db4e87fd",
   "metadata": {},
   "source": [
    "Ell tiempo promedio de los dias anunciados es de 40 días, el anuncio mas rapido en eliminarce no duro ni un dia, y el mas prolongado fue de 271 días"
   ]
  },
  {
   "cell_type": "markdown",
   "id": "072ad194",
   "metadata": {},
   "source": [
    "## Precio promedio por cada tipo de vehículo"
   ]
  },
  {
   "cell_type": "code",
   "execution_count": 55,
   "id": "6b29d9d3",
   "metadata": {},
   "outputs": [
    {
     "data": {
      "text/html": [
       "<div>\n",
       "<style scoped>\n",
       "    .dataframe tbody tr th:only-of-type {\n",
       "        vertical-align: middle;\n",
       "    }\n",
       "\n",
       "    .dataframe tbody tr th {\n",
       "        vertical-align: top;\n",
       "    }\n",
       "\n",
       "    .dataframe thead th {\n",
       "        text-align: right;\n",
       "    }\n",
       "</style>\n",
       "<table border=\"1\" class=\"dataframe\">\n",
       "  <thead>\n",
       "    <tr style=\"text-align: right;\">\n",
       "      <th></th>\n",
       "      <th>price_avg</th>\n",
       "      <th>anuncios</th>\n",
       "    </tr>\n",
       "    <tr>\n",
       "      <th>type</th>\n",
       "      <th></th>\n",
       "      <th></th>\n",
       "    </tr>\n",
       "  </thead>\n",
       "  <tbody>\n",
       "    <tr>\n",
       "      <th>SUV</th>\n",
       "      <td>10732.969647</td>\n",
       "      <td>11597</td>\n",
       "    </tr>\n",
       "    <tr>\n",
       "      <th>bus</th>\n",
       "      <td>18107.428571</td>\n",
       "      <td>21</td>\n",
       "    </tr>\n",
       "    <tr>\n",
       "      <th>convertible</th>\n",
       "      <td>13481.421212</td>\n",
       "      <td>330</td>\n",
       "    </tr>\n",
       "    <tr>\n",
       "      <th>coupe</th>\n",
       "      <td>14101.644410</td>\n",
       "      <td>1932</td>\n",
       "    </tr>\n",
       "    <tr>\n",
       "      <th>hatchback</th>\n",
       "      <td>7014.893769</td>\n",
       "      <td>979</td>\n",
       "    </tr>\n",
       "    <tr>\n",
       "      <th>mini-van</th>\n",
       "      <td>8072.160245</td>\n",
       "      <td>1142</td>\n",
       "    </tr>\n",
       "    <tr>\n",
       "      <th>offroad</th>\n",
       "      <td>14503.261111</td>\n",
       "      <td>180</td>\n",
       "    </tr>\n",
       "    <tr>\n",
       "      <th>other</th>\n",
       "      <td>10587.573276</td>\n",
       "      <td>232</td>\n",
       "    </tr>\n",
       "    <tr>\n",
       "      <th>pickup</th>\n",
       "      <td>15104.438038</td>\n",
       "      <td>6278</td>\n",
       "    </tr>\n",
       "    <tr>\n",
       "      <th>sedan</th>\n",
       "      <td>7157.280676</td>\n",
       "      <td>11711</td>\n",
       "    </tr>\n",
       "    <tr>\n",
       "      <th>truck</th>\n",
       "      <td>15581.897331</td>\n",
       "      <td>10792</td>\n",
       "    </tr>\n",
       "    <tr>\n",
       "      <th>van</th>\n",
       "      <td>9175.655971</td>\n",
       "      <td>561</td>\n",
       "    </tr>\n",
       "    <tr>\n",
       "      <th>wagon</th>\n",
       "      <td>9086.334902</td>\n",
       "      <td>1487</td>\n",
       "    </tr>\n",
       "  </tbody>\n",
       "</table>\n",
       "</div>"
      ],
      "text/plain": [
       "                price_avg  anuncios\n",
       "type                               \n",
       "SUV          10732.969647     11597\n",
       "bus          18107.428571        21\n",
       "convertible  13481.421212       330\n",
       "coupe        14101.644410      1932\n",
       "hatchback     7014.893769       979\n",
       "mini-van      8072.160245      1142\n",
       "offroad      14503.261111       180\n",
       "other        10587.573276       232\n",
       "pickup       15104.438038      6278\n",
       "sedan         7157.280676     11711\n",
       "truck        15581.897331     10792\n",
       "van           9175.655971       561\n",
       "wagon         9086.334902      1487"
      ]
     },
     "execution_count": 55,
     "metadata": {},
     "output_type": "execute_result"
    }
   ],
   "source": [
    "table_type = data_whitaout.pivot_table(index = 'type', values = 'price', aggfunc = ['mean', 'count'])\n",
    "table_type.columns = ['price_avg', 'anuncios']\n",
    "table_type"
   ]
  },
  {
   "cell_type": "code",
   "execution_count": 56,
   "id": "b5ffd837",
   "metadata": {},
   "outputs": [
    {
     "data": {
      "image/png": "[encoded data removed]",
      "text/plain": [
       "<Figure size 1296x504 with 1 Axes>"
      ]
     },
     "metadata": {
      "needs_background": "light"
     },
     "output_type": "display_data"
    }
   ],
   "source": [
    "table_type.plot(style = 'o-', figsize = (18, 7), grid = True) \n",
    "plt.show()"
   ]
  },
  {
   "cell_type": "markdown",
   "id": "f804dc90",
   "metadata": {},
   "source": [
    "Podemos observar en el grafico que los tipos de autos con mas anuncios son 'suv' y 'sedan', de igual forma podemos observar el tipo 'Suv' tiene una correlacion mas priesio-anuncio"
   ]
  },
  {
   "cell_type": "markdown",
   "id": "6db5c5b8",
   "metadata": {},
   "source": [
    "## Factores de precio"
   ]
  },
  {
   "cell_type": "code",
   "execution_count": 57,
   "id": "52286918",
   "metadata": {},
   "outputs": [
    {
     "data": {
      "image/png": "[encoded data removed]",
      "text/plain": [
       "<Figure size 576x576 with 1 Axes>"
      ]
     },
     "metadata": {},
     "output_type": "display_data"
    }
   ],
   "source": [
    "table_type.plot(x = 'type' ,y = 'anuncios', kind = 'pie', figsize = (8, 8))\n",
    "plt.show()"
   ]
  },
  {
   "cell_type": "markdown",
   "id": "edbec040",
   "metadata": {},
   "source": [
    "Como podemos observar en el diagrama, los vehiculos con mayor numero de anuncios son SUV, Sedan, solo analizaremos estos tipos de vehiculos"
   ]
  },
  {
   "cell_type": "code",
   "execution_count": 58,
   "id": "edc1bf56",
   "metadata": {},
   "outputs": [
    {
     "data": {
      "text/html": [
       "<div>\n",
       "<style scoped>\n",
       "    .dataframe tbody tr th:only-of-type {\n",
       "        vertical-align: middle;\n",
       "    }\n",
       "\n",
       "    .dataframe tbody tr th {\n",
       "        vertical-align: top;\n",
       "    }\n",
       "\n",
       "    .dataframe thead th {\n",
       "        text-align: right;\n",
       "    }\n",
       "</style>\n",
       "<table border=\"1\" class=\"dataframe\">\n",
       "  <thead>\n",
       "    <tr style=\"text-align: right;\">\n",
       "      <th></th>\n",
       "      <th>price_avg</th>\n",
       "      <th>anuncios</th>\n",
       "    </tr>\n",
       "    <tr>\n",
       "      <th>type</th>\n",
       "      <th></th>\n",
       "      <th></th>\n",
       "    </tr>\n",
       "  </thead>\n",
       "  <tbody>\n",
       "    <tr>\n",
       "      <th>SUV</th>\n",
       "      <td>10732.969647</td>\n",
       "      <td>11597</td>\n",
       "    </tr>\n",
       "    <tr>\n",
       "      <th>sedan</th>\n",
       "      <td>7157.280676</td>\n",
       "      <td>11711</td>\n",
       "    </tr>\n",
       "  </tbody>\n",
       "</table>\n",
       "</div>"
      ],
      "text/plain": [
       "          price_avg  anuncios\n",
       "type                         \n",
       "SUV    10732.969647     11597\n",
       "sedan   7157.280676     11711"
      ]
     },
     "execution_count": 58,
     "metadata": {},
     "output_type": "execute_result"
    }
   ],
   "source": [
    "min_anuncios = table_type.query('anuncios > 11400')\n",
    "min_anuncios"
   ]
  },
  {
   "cell_type": "code",
   "execution_count": 59,
   "id": "238f10d3",
   "metadata": {
    "scrolled": false
   },
   "outputs": [
    {
     "data": {
      "text/html": [
       "<div>\n",
       "<style scoped>\n",
       "    .dataframe tbody tr th:only-of-type {\n",
       "        vertical-align: middle;\n",
       "    }\n",
       "\n",
       "    .dataframe tbody tr th {\n",
       "        vertical-align: top;\n",
       "    }\n",
       "\n",
       "    .dataframe thead th {\n",
       "        text-align: right;\n",
       "    }\n",
       "</style>\n",
       "<table border=\"1\" class=\"dataframe\">\n",
       "  <thead>\n",
       "    <tr style=\"text-align: right;\">\n",
       "      <th></th>\n",
       "      <th>price</th>\n",
       "      <th>model_year</th>\n",
       "      <th>model</th>\n",
       "      <th>condition</th>\n",
       "      <th>cylinders</th>\n",
       "      <th>fuel</th>\n",
       "      <th>odometer</th>\n",
       "      <th>transmission</th>\n",
       "      <th>type</th>\n",
       "      <th>paint_color</th>\n",
       "      <th>is_4wd</th>\n",
       "      <th>date_posted</th>\n",
       "      <th>days_listed</th>\n",
       "      <th>date_end_posted</th>\n",
       "      <th>model_year_posted</th>\n",
       "      <th>odometerforyear</th>\n",
       "    </tr>\n",
       "  </thead>\n",
       "  <tbody>\n",
       "    <tr>\n",
       "      <th>0</th>\n",
       "      <td>9400</td>\n",
       "      <td>2011-01-01</td>\n",
       "      <td>bmw x5</td>\n",
       "      <td>2</td>\n",
       "      <td>6</td>\n",
       "      <td>gas</td>\n",
       "      <td>145000.000000</td>\n",
       "      <td>automatic</td>\n",
       "      <td>SUV</td>\n",
       "      <td>Other</td>\n",
       "      <td>1</td>\n",
       "      <td>2018-06-23</td>\n",
       "      <td>19</td>\n",
       "      <td>2018-07-12</td>\n",
       "      <td>7</td>\n",
       "      <td>20714.285714</td>\n",
       "    </tr>\n",
       "    <tr>\n",
       "      <th>2</th>\n",
       "      <td>5500</td>\n",
       "      <td>2013-01-01</td>\n",
       "      <td>hyundai sonata</td>\n",
       "      <td>4</td>\n",
       "      <td>4</td>\n",
       "      <td>gas</td>\n",
       "      <td>110000.000000</td>\n",
       "      <td>automatic</td>\n",
       "      <td>sedan</td>\n",
       "      <td>red</td>\n",
       "      <td>0</td>\n",
       "      <td>2019-02-07</td>\n",
       "      <td>79</td>\n",
       "      <td>2019-04-27</td>\n",
       "      <td>6</td>\n",
       "      <td>18333.333333</td>\n",
       "    </tr>\n",
       "    <tr>\n",
       "      <th>4</th>\n",
       "      <td>14900</td>\n",
       "      <td>2017-01-01</td>\n",
       "      <td>chrysler 200</td>\n",
       "      <td>3</td>\n",
       "      <td>4</td>\n",
       "      <td>gas</td>\n",
       "      <td>80903.000000</td>\n",
       "      <td>automatic</td>\n",
       "      <td>sedan</td>\n",
       "      <td>black</td>\n",
       "      <td>0</td>\n",
       "      <td>2019-04-02</td>\n",
       "      <td>28</td>\n",
       "      <td>2019-04-30</td>\n",
       "      <td>2</td>\n",
       "      <td>40451.500000</td>\n",
       "    </tr>\n",
       "    <tr>\n",
       "      <th>5</th>\n",
       "      <td>14990</td>\n",
       "      <td>2014-01-01</td>\n",
       "      <td>chrysler 300</td>\n",
       "      <td>3</td>\n",
       "      <td>6</td>\n",
       "      <td>gas</td>\n",
       "      <td>57954.000000</td>\n",
       "      <td>automatic</td>\n",
       "      <td>sedan</td>\n",
       "      <td>black</td>\n",
       "      <td>1</td>\n",
       "      <td>2018-06-20</td>\n",
       "      <td>15</td>\n",
       "      <td>2018-07-05</td>\n",
       "      <td>4</td>\n",
       "      <td>14488.500000</td>\n",
       "    </tr>\n",
       "    <tr>\n",
       "      <th>6</th>\n",
       "      <td>12990</td>\n",
       "      <td>2015-01-01</td>\n",
       "      <td>toyota camry</td>\n",
       "      <td>3</td>\n",
       "      <td>4</td>\n",
       "      <td>gas</td>\n",
       "      <td>79212.000000</td>\n",
       "      <td>automatic</td>\n",
       "      <td>sedan</td>\n",
       "      <td>white</td>\n",
       "      <td>0</td>\n",
       "      <td>2018-12-27</td>\n",
       "      <td>73</td>\n",
       "      <td>2019-03-10</td>\n",
       "      <td>3</td>\n",
       "      <td>26404.000000</td>\n",
       "    </tr>\n",
       "    <tr>\n",
       "      <th>...</th>\n",
       "      <td>...</td>\n",
       "      <td>...</td>\n",
       "      <td>...</td>\n",
       "      <td>...</td>\n",
       "      <td>...</td>\n",
       "      <td>...</td>\n",
       "      <td>...</td>\n",
       "      <td>...</td>\n",
       "      <td>...</td>\n",
       "      <td>...</td>\n",
       "      <td>...</td>\n",
       "      <td>...</td>\n",
       "      <td>...</td>\n",
       "      <td>...</td>\n",
       "      <td>...</td>\n",
       "      <td>...</td>\n",
       "    </tr>\n",
       "    <tr>\n",
       "      <th>51520</th>\n",
       "      <td>9249</td>\n",
       "      <td>2013-01-01</td>\n",
       "      <td>nissan maxima</td>\n",
       "      <td>4</td>\n",
       "      <td>6</td>\n",
       "      <td>gas</td>\n",
       "      <td>88136.000000</td>\n",
       "      <td>automatic</td>\n",
       "      <td>sedan</td>\n",
       "      <td>black</td>\n",
       "      <td>0</td>\n",
       "      <td>2018-10-03</td>\n",
       "      <td>37</td>\n",
       "      <td>2018-11-09</td>\n",
       "      <td>5</td>\n",
       "      <td>17627.200000</td>\n",
       "    </tr>\n",
       "    <tr>\n",
       "      <th>51521</th>\n",
       "      <td>2700</td>\n",
       "      <td>2002-01-01</td>\n",
       "      <td>honda civic</td>\n",
       "      <td>0</td>\n",
       "      <td>4</td>\n",
       "      <td>gas</td>\n",
       "      <td>181500.000000</td>\n",
       "      <td>automatic</td>\n",
       "      <td>sedan</td>\n",
       "      <td>white</td>\n",
       "      <td>0</td>\n",
       "      <td>2018-11-14</td>\n",
       "      <td>22</td>\n",
       "      <td>2018-12-06</td>\n",
       "      <td>16</td>\n",
       "      <td>11343.750000</td>\n",
       "    </tr>\n",
       "    <tr>\n",
       "      <th>51522</th>\n",
       "      <td>3950</td>\n",
       "      <td>2009-01-01</td>\n",
       "      <td>hyundai sonata</td>\n",
       "      <td>3</td>\n",
       "      <td>4</td>\n",
       "      <td>gas</td>\n",
       "      <td>128000.000000</td>\n",
       "      <td>automatic</td>\n",
       "      <td>sedan</td>\n",
       "      <td>blue</td>\n",
       "      <td>0</td>\n",
       "      <td>2018-11-15</td>\n",
       "      <td>32</td>\n",
       "      <td>2018-12-17</td>\n",
       "      <td>9</td>\n",
       "      <td>14222.222222</td>\n",
       "    </tr>\n",
       "    <tr>\n",
       "      <th>51523</th>\n",
       "      <td>7455</td>\n",
       "      <td>2013-01-01</td>\n",
       "      <td>toyota corolla</td>\n",
       "      <td>2</td>\n",
       "      <td>4</td>\n",
       "      <td>gas</td>\n",
       "      <td>139573.000000</td>\n",
       "      <td>automatic</td>\n",
       "      <td>sedan</td>\n",
       "      <td>black</td>\n",
       "      <td>0</td>\n",
       "      <td>2018-07-02</td>\n",
       "      <td>71</td>\n",
       "      <td>2018-09-11</td>\n",
       "      <td>5</td>\n",
       "      <td>27914.600000</td>\n",
       "    </tr>\n",
       "    <tr>\n",
       "      <th>51524</th>\n",
       "      <td>6300</td>\n",
       "      <td>2014-01-01</td>\n",
       "      <td>nissan altima</td>\n",
       "      <td>2</td>\n",
       "      <td>4</td>\n",
       "      <td>gas</td>\n",
       "      <td>93648.703319</td>\n",
       "      <td>automatic</td>\n",
       "      <td>sedan</td>\n",
       "      <td>Other</td>\n",
       "      <td>0</td>\n",
       "      <td>2018-06-05</td>\n",
       "      <td>10</td>\n",
       "      <td>2018-06-15</td>\n",
       "      <td>4</td>\n",
       "      <td>23412.175830</td>\n",
       "    </tr>\n",
       "  </tbody>\n",
       "</table>\n",
       "<p>23308 rows × 16 columns</p>\n",
       "</div>"
      ],
      "text/plain": [
       "       price model_year           model  condition  cylinders fuel  \\\n",
       "0       9400 2011-01-01          bmw x5          2          6  gas   \n",
       "2       5500 2013-01-01  hyundai sonata          4          4  gas   \n",
       "4      14900 2017-01-01    chrysler 200          3          4  gas   \n",
       "5      14990 2014-01-01    chrysler 300          3          6  gas   \n",
       "6      12990 2015-01-01    toyota camry          3          4  gas   \n",
       "...      ...        ...             ...        ...        ...  ...   \n",
       "51520   9249 2013-01-01   nissan maxima          4          6  gas   \n",
       "51521   2700 2002-01-01     honda civic          0          4  gas   \n",
       "51522   3950 2009-01-01  hyundai sonata          3          4  gas   \n",
       "51523   7455 2013-01-01  toyota corolla          2          4  gas   \n",
       "51524   6300 2014-01-01   nissan altima          2          4  gas   \n",
       "\n",
       "            odometer transmission   type paint_color  is_4wd date_posted  \\\n",
       "0      145000.000000    automatic    SUV       Other       1  2018-06-23   \n",
       "2      110000.000000    automatic  sedan         red       0  2019-02-07   \n",
       "4       80903.000000    automatic  sedan       black       0  2019-04-02   \n",
       "5       57954.000000    automatic  sedan       black       1  2018-06-20   \n",
       "6       79212.000000    automatic  sedan       white       0  2018-12-27   \n",
       "...              ...          ...    ...         ...     ...         ...   \n",
       "51520   88136.000000    automatic  sedan       black       0  2018-10-03   \n",
       "51521  181500.000000    automatic  sedan       white       0  2018-11-14   \n",
       "51522  128000.000000    automatic  sedan        blue       0  2018-11-15   \n",
       "51523  139573.000000    automatic  sedan       black       0  2018-07-02   \n",
       "51524   93648.703319    automatic  sedan       Other       0  2018-06-05   \n",
       "\n",
       "       days_listed date_end_posted  model_year_posted  odometerforyear  \n",
       "0               19      2018-07-12                  7     20714.285714  \n",
       "2               79      2019-04-27                  6     18333.333333  \n",
       "4               28      2019-04-30                  2     40451.500000  \n",
       "5               15      2018-07-05                  4     14488.500000  \n",
       "6               73      2019-03-10                  3     26404.000000  \n",
       "...            ...             ...                ...              ...  \n",
       "51520           37      2018-11-09                  5     17627.200000  \n",
       "51521           22      2018-12-06                 16     11343.750000  \n",
       "51522           32      2018-12-17                  9     14222.222222  \n",
       "51523           71      2018-09-11                  5     27914.600000  \n",
       "51524           10      2018-06-15                  4     23412.175830  \n",
       "\n",
       "[23308 rows x 16 columns]"
      ]
     },
     "execution_count": 59,
     "metadata": {},
     "output_type": "execute_result"
    }
   ],
   "source": [
    "data_whitaout_type = data_whitaout.query('type == (\"SUV\", \"sedan\")')\n",
    "data_whitaout_type"
   ]
  },
  {
   "cell_type": "code",
   "execution_count": 60,
   "id": "4fea54bb",
   "metadata": {},
   "outputs": [
    {
     "data": {
      "text/plain": [
       "sedan    11711\n",
       "SUV      11597\n",
       "Name: type, dtype: int64"
      ]
     },
     "execution_count": 60,
     "metadata": {},
     "output_type": "execute_result"
    }
   ],
   "source": [
    "data_whitaout_type['type'].value_counts()"
   ]
  },
  {
   "cell_type": "markdown",
   "id": "c5867fa2",
   "metadata": {},
   "source": [
    "Ya que los valores de anuncios son parecidos trabajemos con la relación entre cada uno de ellos con edad, millaje, condición, tipo de transmisión y color."
   ]
  },
  {
   "cell_type": "code",
   "execution_count": 61,
   "id": "577421a8",
   "metadata": {
    "scrolled": false
   },
   "outputs": [
    {
     "data": {
      "text/html": [
       "<div>\n",
       "<style scoped>\n",
       "    .dataframe tbody tr th:only-of-type {\n",
       "        vertical-align: middle;\n",
       "    }\n",
       "\n",
       "    .dataframe tbody tr th {\n",
       "        vertical-align: top;\n",
       "    }\n",
       "\n",
       "    .dataframe thead th {\n",
       "        text-align: right;\n",
       "    }\n",
       "</style>\n",
       "<table border=\"1\" class=\"dataframe\">\n",
       "  <thead>\n",
       "    <tr style=\"text-align: right;\">\n",
       "      <th></th>\n",
       "      <th>price</th>\n",
       "      <th>condition</th>\n",
       "      <th>cylinders</th>\n",
       "      <th>odometer</th>\n",
       "      <th>is_4wd</th>\n",
       "      <th>days_listed</th>\n",
       "      <th>model_year_posted</th>\n",
       "      <th>odometerforyear</th>\n",
       "    </tr>\n",
       "  </thead>\n",
       "  <tbody>\n",
       "    <tr>\n",
       "      <th>price</th>\n",
       "      <td>1.000000</td>\n",
       "      <td>0.277951</td>\n",
       "      <td>0.161262</td>\n",
       "      <td>-0.535192</td>\n",
       "      <td>0.287214</td>\n",
       "      <td>-0.010629</td>\n",
       "      <td>-0.578375</td>\n",
       "      <td>0.257407</td>\n",
       "    </tr>\n",
       "    <tr>\n",
       "      <th>condition</th>\n",
       "      <td>0.277951</td>\n",
       "      <td>1.000000</td>\n",
       "      <td>-0.085296</td>\n",
       "      <td>-0.309846</td>\n",
       "      <td>-0.015825</td>\n",
       "      <td>-0.011332</td>\n",
       "      <td>-0.291642</td>\n",
       "      <td>0.066953</td>\n",
       "    </tr>\n",
       "    <tr>\n",
       "      <th>cylinders</th>\n",
       "      <td>0.161262</td>\n",
       "      <td>-0.085296</td>\n",
       "      <td>1.000000</td>\n",
       "      <td>0.249123</td>\n",
       "      <td>0.410896</td>\n",
       "      <td>0.010865</td>\n",
       "      <td>0.287634</td>\n",
       "      <td>-0.126785</td>\n",
       "    </tr>\n",
       "    <tr>\n",
       "      <th>odometer</th>\n",
       "      <td>-0.535192</td>\n",
       "      <td>-0.309846</td>\n",
       "      <td>0.249123</td>\n",
       "      <td>1.000000</td>\n",
       "      <td>0.099977</td>\n",
       "      <td>0.010558</td>\n",
       "      <td>0.619822</td>\n",
       "      <td>0.019335</td>\n",
       "    </tr>\n",
       "    <tr>\n",
       "      <th>is_4wd</th>\n",
       "      <td>0.287214</td>\n",
       "      <td>-0.015825</td>\n",
       "      <td>0.410896</td>\n",
       "      <td>0.099977</td>\n",
       "      <td>1.000000</td>\n",
       "      <td>0.002033</td>\n",
       "      <td>0.118260</td>\n",
       "      <td>-0.037134</td>\n",
       "    </tr>\n",
       "    <tr>\n",
       "      <th>days_listed</th>\n",
       "      <td>-0.010629</td>\n",
       "      <td>-0.011332</td>\n",
       "      <td>0.010865</td>\n",
       "      <td>0.010558</td>\n",
       "      <td>0.002033</td>\n",
       "      <td>1.000000</td>\n",
       "      <td>0.010039</td>\n",
       "      <td>-0.008091</td>\n",
       "    </tr>\n",
       "    <tr>\n",
       "      <th>model_year_posted</th>\n",
       "      <td>-0.578375</td>\n",
       "      <td>-0.291642</td>\n",
       "      <td>0.287634</td>\n",
       "      <td>0.619822</td>\n",
       "      <td>0.118260</td>\n",
       "      <td>0.010039</td>\n",
       "      <td>1.000000</td>\n",
       "      <td>-0.564590</td>\n",
       "    </tr>\n",
       "    <tr>\n",
       "      <th>odometerforyear</th>\n",
       "      <td>0.257407</td>\n",
       "      <td>0.066953</td>\n",
       "      <td>-0.126785</td>\n",
       "      <td>0.019335</td>\n",
       "      <td>-0.037134</td>\n",
       "      <td>-0.008091</td>\n",
       "      <td>-0.564590</td>\n",
       "      <td>1.000000</td>\n",
       "    </tr>\n",
       "  </tbody>\n",
       "</table>\n",
       "</div>"
      ],
      "text/plain": [
       "                      price  condition  cylinders  odometer    is_4wd  \\\n",
       "price              1.000000   0.277951   0.161262 -0.535192  0.287214   \n",
       "condition          0.277951   1.000000  -0.085296 -0.309846 -0.015825   \n",
       "cylinders          0.161262  -0.085296   1.000000  0.249123  0.410896   \n",
       "odometer          -0.535192  -0.309846   0.249123  1.000000  0.099977   \n",
       "is_4wd             0.287214  -0.015825   0.410896  0.099977  1.000000   \n",
       "days_listed       -0.010629  -0.011332   0.010865  0.010558  0.002033   \n",
       "model_year_posted -0.578375  -0.291642   0.287634  0.619822  0.118260   \n",
       "odometerforyear    0.257407   0.066953  -0.126785  0.019335 -0.037134   \n",
       "\n",
       "                   days_listed  model_year_posted  odometerforyear  \n",
       "price                -0.010629          -0.578375         0.257407  \n",
       "condition            -0.011332          -0.291642         0.066953  \n",
       "cylinders             0.010865           0.287634        -0.126785  \n",
       "odometer              0.010558           0.619822         0.019335  \n",
       "is_4wd                0.002033           0.118260        -0.037134  \n",
       "days_listed           1.000000           0.010039        -0.008091  \n",
       "model_year_posted     0.010039           1.000000        -0.564590  \n",
       "odometerforyear      -0.008091          -0.564590         1.000000  "
      ]
     },
     "execution_count": 61,
     "metadata": {},
     "output_type": "execute_result"
    },
    {
     "data": {
      "image/png": "[encoded data removed]",
      "text/plain": [
       "<Figure size 576x432 with 2 Axes>"
      ]
     },
     "metadata": {
      "needs_background": "light"
     },
     "output_type": "display_data"
    },
    {
     "data": {
      "image/png": "[encoded data removed]",
      "text/plain": [
       "<Figure size 576x432 with 2 Axes>"
      ]
     },
     "metadata": {
      "needs_background": "light"
     },
     "output_type": "display_data"
    },
    {
     "data": {
      "image/png": "[encoded data removed]",
      "text/plain": [
       "<Figure size 576x432 with 2 Axes>"
      ]
     },
     "metadata": {
      "needs_background": "light"
     },
     "output_type": "display_data"
    },
    {
     "data": {
      "image/png": "[encoded data removed]",
      "text/plain": [
       "<Figure size 576x432 with 2 Axes>"
      ]
     },
     "metadata": {
      "needs_background": "light"
     },
     "output_type": "display_data"
    }
   ],
   "source": [
    "data_whitaout_type.plot(x='model_year_posted', y='price', kind='hexbin', gridsize=20, figsize=(8, 6), sharex=False, grid = True) \n",
    "data_whitaout_type.plot(x='odometer', y='price', kind='hexbin', gridsize=20, figsize=(8, 6), sharex=False, grid = True)\n",
    "data_whitaout_type.plot(x='odometerforyear', y='price', kind='hexbin', gridsize=20, figsize=(8, 6), sharex=False, grid = True)\n",
    "data_whitaout_type.plot(x='condition', y='price', kind='hexbin', gridsize=20, figsize=(8, 6), sharex=False, grid = True)\n",
    "plt.show\n",
    "data_whitaout_type.corr()"
   ]
  },
  {
   "cell_type": "markdown",
   "id": "0150278d",
   "metadata": {},
   "source": [
    "- Podemos observar que la correlación entre precio y edad del vehiculo es -0.57, esto es muy lejano a uno, esto quiere decir que no hay relación, ya que si la edad del vehiculo aumenta, el precio del vehiculo disminuye\n",
    "- Podemos observar que la correlación entre precio y millaje del vehiculo es -0.53 esto muy lejano a uno, esto quiere decir que no hay relación, esto quiere decir que entre mayor millaje, el precio disminuye\n",
    "- Podemos observar que la correlación entre precio y condición del vehiculo es 0.27 mas cercano a uno, esto quiere decir que hay relación, y la condición del vehiculo si afecta el precio del mismo\n",
    "- Podemos observar que la correlación entre precio y millaje por año del vehiculo es 0.25 mas cercano a uno, esto quiere decir que hay relación, el millaje del vehiculo si afecta el precio del mismo, entre menor millaje por año, menor es el precio"
   ]
  },
  {
   "cell_type": "markdown",
   "id": "ce08a3da",
   "metadata": {},
   "source": [
    "### Para la relación de color y tipo de transmisión, usaremos diagramas de cajas con bigote"
   ]
  },
  {
   "cell_type": "code",
   "execution_count": 62,
   "id": "6f16d4fd",
   "metadata": {},
   "outputs": [
    {
     "data": {
      "text/html": [
       "<div>\n",
       "<style scoped>\n",
       "    .dataframe tbody tr th:only-of-type {\n",
       "        vertical-align: middle;\n",
       "    }\n",
       "\n",
       "    .dataframe tbody tr th {\n",
       "        vertical-align: top;\n",
       "    }\n",
       "\n",
       "    .dataframe thead th {\n",
       "        text-align: right;\n",
       "    }\n",
       "</style>\n",
       "<table border=\"1\" class=\"dataframe\">\n",
       "  <thead>\n",
       "    <tr style=\"text-align: right;\">\n",
       "      <th></th>\n",
       "      <th>anuncios</th>\n",
       "    </tr>\n",
       "    <tr>\n",
       "      <th>transmission</th>\n",
       "      <th></th>\n",
       "    </tr>\n",
       "  </thead>\n",
       "  <tbody>\n",
       "    <tr>\n",
       "      <th>automatic</th>\n",
       "      <td>22119</td>\n",
       "    </tr>\n",
       "    <tr>\n",
       "      <th>manual</th>\n",
       "      <td>1022</td>\n",
       "    </tr>\n",
       "    <tr>\n",
       "      <th>other</th>\n",
       "      <td>167</td>\n",
       "    </tr>\n",
       "  </tbody>\n",
       "</table>\n",
       "</div>"
      ],
      "text/plain": [
       "              anuncios\n",
       "transmission          \n",
       "automatic        22119\n",
       "manual            1022\n",
       "other              167"
      ]
     },
     "execution_count": 62,
     "metadata": {},
     "output_type": "execute_result"
    }
   ],
   "source": [
    "table_transmission = data_whitaout_type.pivot_table(index = 'transmission', values = 'type', aggfunc = 'count')\n",
    "table_transmission.columns = ['anuncios']\n",
    "table_transmission"
   ]
  },
  {
   "cell_type": "code",
   "execution_count": 63,
   "id": "4855e193",
   "metadata": {
    "scrolled": false
   },
   "outputs": [
    {
     "data": {
      "image/png": "[encoded data removed]",
      "text/plain": [
       "<Figure size 432x288 with 1 Axes>"
      ]
     },
     "metadata": {
      "needs_background": "light"
     },
     "output_type": "display_data"
    }
   ],
   "source": [
    "data_whitaout_type.boxplot(column = 'price', by = 'transmission')\n",
    "plt.show()"
   ]
  },
  {
   "cell_type": "markdown",
   "id": "9c41097f",
   "metadata": {},
   "source": [
    "- Ya que las tres tipos de transmisión tienen mas de 50 anuncios, se incluyen en el estudio\n",
    "- En la el diagrama de cajas, podemos observar en el limite superior de los precios no varian demaciado entre el tipo de transmición"
   ]
  },
  {
   "cell_type": "code",
   "execution_count": 64,
   "id": "d0715c52",
   "metadata": {
    "scrolled": false
   },
   "outputs": [
    {
     "data": {
      "text/html": [
       "<div>\n",
       "<style scoped>\n",
       "    .dataframe tbody tr th:only-of-type {\n",
       "        vertical-align: middle;\n",
       "    }\n",
       "\n",
       "    .dataframe tbody tr th {\n",
       "        vertical-align: top;\n",
       "    }\n",
       "\n",
       "    .dataframe thead th {\n",
       "        text-align: right;\n",
       "    }\n",
       "</style>\n",
       "<table border=\"1\" class=\"dataframe\">\n",
       "  <thead>\n",
       "    <tr style=\"text-align: right;\">\n",
       "      <th></th>\n",
       "      <th>anuncios</th>\n",
       "    </tr>\n",
       "    <tr>\n",
       "      <th>paint_color</th>\n",
       "      <th></th>\n",
       "    </tr>\n",
       "  </thead>\n",
       "  <tbody>\n",
       "    <tr>\n",
       "      <th>Other</th>\n",
       "      <td>4177</td>\n",
       "    </tr>\n",
       "    <tr>\n",
       "      <th>black</th>\n",
       "      <td>3734</td>\n",
       "    </tr>\n",
       "    <tr>\n",
       "      <th>blue</th>\n",
       "      <td>2185</td>\n",
       "    </tr>\n",
       "    <tr>\n",
       "      <th>brown</th>\n",
       "      <td>605</td>\n",
       "    </tr>\n",
       "    <tr>\n",
       "      <th>custom</th>\n",
       "      <td>540</td>\n",
       "    </tr>\n",
       "    <tr>\n",
       "      <th>green</th>\n",
       "      <td>607</td>\n",
       "    </tr>\n",
       "    <tr>\n",
       "      <th>grey</th>\n",
       "      <td>2722</td>\n",
       "    </tr>\n",
       "    <tr>\n",
       "      <th>orange</th>\n",
       "      <td>90</td>\n",
       "    </tr>\n",
       "    <tr>\n",
       "      <th>purple</th>\n",
       "      <td>62</td>\n",
       "    </tr>\n",
       "    <tr>\n",
       "      <th>red</th>\n",
       "      <td>1757</td>\n",
       "    </tr>\n",
       "    <tr>\n",
       "      <th>silver</th>\n",
       "      <td>3492</td>\n",
       "    </tr>\n",
       "    <tr>\n",
       "      <th>white</th>\n",
       "      <td>3274</td>\n",
       "    </tr>\n",
       "    <tr>\n",
       "      <th>yellow</th>\n",
       "      <td>63</td>\n",
       "    </tr>\n",
       "  </tbody>\n",
       "</table>\n",
       "</div>"
      ],
      "text/plain": [
       "             anuncios\n",
       "paint_color          \n",
       "Other            4177\n",
       "black            3734\n",
       "blue             2185\n",
       "brown             605\n",
       "custom            540\n",
       "green             607\n",
       "grey             2722\n",
       "orange             90\n",
       "purple             62\n",
       "red              1757\n",
       "silver           3492\n",
       "white            3274\n",
       "yellow             63"
      ]
     },
     "execution_count": 64,
     "metadata": {},
     "output_type": "execute_result"
    }
   ],
   "source": [
    "table_paint_color = data_whitaout_type.pivot_table(index = 'paint_color', values = 'type', aggfunc = 'count')\n",
    "table_paint_color.columns = ['anuncios']\n",
    "table_paint_color"
   ]
  },
  {
   "cell_type": "markdown",
   "id": "ed47091a",
   "metadata": {},
   "source": [
    "Ya que todos los colores tienen mas de 50 anuncios, se incluyen en el estudio"
   ]
  },
  {
   "cell_type": "code",
   "execution_count": 65,
   "id": "80db9045",
   "metadata": {},
   "outputs": [
    {
     "data": {
      "image/png": "[encoded data removed]",
      "text/plain": [
       "<Figure size 720x360 with 1 Axes>"
      ]
     },
     "metadata": {
      "needs_background": "light"
     },
     "output_type": "display_data"
    }
   ],
   "source": [
    "data_whitaout_type.boxplot(column = 'price', by = 'paint_color', figsize = (10, 5))\n",
    "plt.show()"
   ]
  },
  {
   "cell_type": "markdown",
   "id": "9ff66877",
   "metadata": {},
   "source": [
    "- En el diagrama de caja, podemos observar que el valor aumenta cuando el auto es color negro, naranja, y amarillo"
   ]
  }
 ],
 "metadata": {
  "ExecuteTimeLog": [
   {
    "duration": 677,
    "start_time": "2022-08-16T23:42:21.382Z"
   },
   {
    "duration": 280,
    "start_time": "2022-08-16T23:42:22.061Z"
   },
   {
    "duration": 24,
    "start_time": "2022-08-16T23:42:22.343Z"
   },
   {
    "duration": 21,
    "start_time": "2022-08-16T23:42:22.369Z"
   },
   {
    "duration": 30,
    "start_time": "2022-08-16T23:42:22.392Z"
   },
   {
    "duration": 6,
    "start_time": "2022-08-16T23:42:22.423Z"
   },
   {
    "duration": 28,
    "start_time": "2022-08-16T23:42:22.431Z"
   },
   {
    "duration": 53,
    "start_time": "2022-08-16T23:42:22.461Z"
   },
   {
    "duration": 8,
    "start_time": "2022-08-16T23:42:22.515Z"
   },
   {
    "duration": 50,
    "start_time": "2022-08-16T23:42:22.525Z"
   },
   {
    "duration": 3,
    "start_time": "2022-08-16T23:42:22.577Z"
   },
   {
    "duration": 21,
    "start_time": "2022-08-16T23:42:22.581Z"
   },
   {
    "duration": 446,
    "start_time": "2022-08-16T23:42:22.604Z"
   },
   {
    "duration": 25,
    "start_time": "2022-08-16T23:42:23.053Z"
   },
   {
    "duration": 6,
    "start_time": "2022-08-16T23:42:23.080Z"
   },
   {
    "duration": 58,
    "start_time": "2022-08-16T23:42:23.087Z"
   },
   {
    "duration": 3,
    "start_time": "2022-08-16T23:42:23.147Z"
   },
   {
    "duration": 8,
    "start_time": "2022-08-16T23:42:23.151Z"
   },
   {
    "duration": 468,
    "start_time": "2022-08-16T23:42:23.161Z"
   },
   {
    "duration": 26,
    "start_time": "2022-08-16T23:42:23.630Z"
   },
   {
    "duration": 13,
    "start_time": "2022-08-16T23:42:23.657Z"
   },
   {
    "duration": 225,
    "start_time": "2022-08-16T23:42:23.672Z"
   },
   {
    "duration": 14,
    "start_time": "2022-08-16T23:42:23.908Z"
   },
   {
    "duration": 7,
    "start_time": "2022-08-16T23:42:23.923Z"
   },
   {
    "duration": 7,
    "start_time": "2022-08-16T23:42:23.931Z"
   },
   {
    "duration": 8,
    "start_time": "2022-08-16T23:42:23.940Z"
   },
   {
    "duration": 618,
    "start_time": "2022-08-16T23:42:23.949Z"
   },
   {
    "duration": 14,
    "start_time": "2022-08-16T23:42:24.569Z"
   },
   {
    "duration": 52,
    "start_time": "2022-08-16T23:42:24.584Z"
   },
   {
    "duration": 11,
    "start_time": "2022-08-16T23:42:24.637Z"
   },
   {
    "duration": 17,
    "start_time": "2022-08-16T23:42:24.649Z"
   },
   {
    "duration": 27,
    "start_time": "2022-08-16T23:42:24.668Z"
   },
   {
    "duration": 15,
    "start_time": "2022-08-16T23:42:24.708Z"
   },
   {
    "duration": 36,
    "start_time": "2022-08-16T23:42:24.724Z"
   },
   {
    "duration": 13,
    "start_time": "2022-08-16T23:42:24.762Z"
   },
   {
    "duration": 45,
    "start_time": "2022-08-16T23:42:24.777Z"
   },
   {
    "duration": 23,
    "start_time": "2022-08-16T23:42:24.824Z"
   },
   {
    "duration": 8,
    "start_time": "2022-08-16T23:42:24.848Z"
   },
   {
    "duration": 28,
    "start_time": "2022-08-16T23:42:24.857Z"
   },
   {
    "duration": 26,
    "start_time": "2022-08-16T23:42:24.886Z"
   },
   {
    "duration": 21,
    "start_time": "2022-08-16T23:42:24.915Z"
   },
   {
    "duration": 12,
    "start_time": "2022-08-16T23:42:24.938Z"
   },
   {
    "duration": 543,
    "start_time": "2022-08-16T23:42:24.952Z"
   },
   {
    "duration": 340,
    "start_time": "2022-08-16T23:42:25.496Z"
   },
   {
    "duration": 358,
    "start_time": "2022-08-16T23:42:25.838Z"
   },
   {
    "duration": 318,
    "start_time": "2022-08-16T23:42:26.198Z"
   },
   {
    "duration": 309,
    "start_time": "2022-08-16T23:42:26.518Z"
   },
   {
    "duration": 2,
    "start_time": "2022-08-16T23:42:26.829Z"
   },
   {
    "duration": 6,
    "start_time": "2022-08-16T23:42:26.833Z"
   },
   {
    "duration": 35,
    "start_time": "2022-08-16T23:42:26.840Z"
   },
   {
    "duration": 330,
    "start_time": "2022-08-16T23:42:26.876Z"
   },
   {
    "duration": 396,
    "start_time": "2022-08-16T23:42:27.208Z"
   },
   {
    "duration": 303,
    "start_time": "2022-08-16T23:42:27.608Z"
   },
   {
    "duration": 129,
    "start_time": "2022-08-16T23:42:27.912Z"
   },
   {
    "duration": 87,
    "start_time": "2022-08-16T23:42:28.043Z"
   },
   {
    "duration": 0,
    "start_time": "2022-08-16T23:42:28.132Z"
   },
   {
    "duration": 0,
    "start_time": "2022-08-16T23:42:28.133Z"
   },
   {
    "duration": 0,
    "start_time": "2022-08-16T23:42:28.134Z"
   },
   {
    "duration": 0,
    "start_time": "2022-08-16T23:42:28.136Z"
   },
   {
    "duration": 0,
    "start_time": "2022-08-16T23:42:28.138Z"
   },
   {
    "duration": 0,
    "start_time": "2022-08-16T23:42:28.139Z"
   },
   {
    "duration": 1,
    "start_time": "2022-08-16T23:42:28.140Z"
   },
   {
    "duration": 0,
    "start_time": "2022-08-16T23:42:28.142Z"
   },
   {
    "duration": 871,
    "start_time": "2022-08-17T16:28:57.490Z"
   },
   {
    "duration": 225,
    "start_time": "2022-08-17T16:28:58.364Z"
   },
   {
    "duration": 34,
    "start_time": "2022-08-17T16:28:58.591Z"
   },
   {
    "duration": 21,
    "start_time": "2022-08-17T16:28:58.627Z"
   },
   {
    "duration": 20,
    "start_time": "2022-08-17T16:28:58.651Z"
   },
   {
    "duration": 7,
    "start_time": "2022-08-17T16:28:58.673Z"
   },
   {
    "duration": 26,
    "start_time": "2022-08-17T16:28:58.707Z"
   },
   {
    "duration": 32,
    "start_time": "2022-08-17T16:28:58.736Z"
   },
   {
    "duration": 11,
    "start_time": "2022-08-17T16:28:58.770Z"
   },
   {
    "duration": 55,
    "start_time": "2022-08-17T16:28:58.808Z"
   },
   {
    "duration": 4,
    "start_time": "2022-08-17T16:28:58.865Z"
   },
   {
    "duration": 17,
    "start_time": "2022-08-17T16:28:58.871Z"
   },
   {
    "duration": 626,
    "start_time": "2022-08-17T16:28:58.890Z"
   },
   {
    "duration": 28,
    "start_time": "2022-08-17T16:28:59.521Z"
   },
   {
    "duration": 8,
    "start_time": "2022-08-17T16:28:59.551Z"
   },
   {
    "duration": 64,
    "start_time": "2022-08-17T16:28:59.562Z"
   },
   {
    "duration": 4,
    "start_time": "2022-08-17T16:28:59.628Z"
   },
   {
    "duration": 7,
    "start_time": "2022-08-17T16:28:59.634Z"
   },
   {
    "duration": 594,
    "start_time": "2022-08-17T16:28:59.642Z"
   },
   {
    "duration": 26,
    "start_time": "2022-08-17T16:29:00.238Z"
   },
   {
    "duration": 29,
    "start_time": "2022-08-17T16:29:00.266Z"
   },
   {
    "duration": 268,
    "start_time": "2022-08-17T16:29:00.303Z"
   },
   {
    "duration": 17,
    "start_time": "2022-08-17T16:29:00.572Z"
   },
   {
    "duration": 12,
    "start_time": "2022-08-17T16:29:00.603Z"
   },
   {
    "duration": 19,
    "start_time": "2022-08-17T16:29:00.618Z"
   },
   {
    "duration": 21,
    "start_time": "2022-08-17T16:29:00.639Z"
   },
   {
    "duration": 717,
    "start_time": "2022-08-17T16:29:00.662Z"
   },
   {
    "duration": 16,
    "start_time": "2022-08-17T16:29:01.381Z"
   },
   {
    "duration": 43,
    "start_time": "2022-08-17T16:29:01.403Z"
   },
   {
    "duration": 13,
    "start_time": "2022-08-17T16:29:01.448Z"
   },
   {
    "duration": 21,
    "start_time": "2022-08-17T16:29:01.463Z"
   },
   {
    "duration": 45,
    "start_time": "2022-08-17T16:29:01.486Z"
   },
   {
    "duration": 36,
    "start_time": "2022-08-17T16:29:01.533Z"
   },
   {
    "duration": 44,
    "start_time": "2022-08-17T16:29:01.571Z"
   },
   {
    "duration": 19,
    "start_time": "2022-08-17T16:29:01.616Z"
   },
   {
    "duration": 25,
    "start_time": "2022-08-17T16:29:01.637Z"
   },
   {
    "duration": 59,
    "start_time": "2022-08-17T16:29:01.663Z"
   },
   {
    "duration": 9,
    "start_time": "2022-08-17T16:29:01.723Z"
   },
   {
    "duration": 37,
    "start_time": "2022-08-17T16:29:01.733Z"
   },
   {
    "duration": 5,
    "start_time": "2022-08-17T16:29:01.774Z"
   },
   {
    "duration": 43,
    "start_time": "2022-08-17T16:29:01.780Z"
   },
   {
    "duration": 39,
    "start_time": "2022-08-17T16:29:01.825Z"
   },
   {
    "duration": 668,
    "start_time": "2022-08-17T16:29:01.865Z"
   },
   {
    "duration": 459,
    "start_time": "2022-08-17T16:29:02.535Z"
   },
   {
    "duration": 397,
    "start_time": "2022-08-17T16:29:02.996Z"
   },
   {
    "duration": 372,
    "start_time": "2022-08-17T16:29:03.395Z"
   },
   {
    "duration": 385,
    "start_time": "2022-08-17T16:29:03.768Z"
   },
   {
    "duration": 3,
    "start_time": "2022-08-17T16:29:04.154Z"
   },
   {
    "duration": 7,
    "start_time": "2022-08-17T16:29:04.158Z"
   },
   {
    "duration": 54,
    "start_time": "2022-08-17T16:29:04.167Z"
   },
   {
    "duration": 365,
    "start_time": "2022-08-17T16:29:04.223Z"
   },
   {
    "duration": 449,
    "start_time": "2022-08-17T16:29:04.590Z"
   },
   {
    "duration": 380,
    "start_time": "2022-08-17T16:29:05.040Z"
   },
   {
    "duration": 138,
    "start_time": "2022-08-17T16:29:05.422Z"
   },
   {
    "duration": 85,
    "start_time": "2022-08-17T16:29:05.561Z"
   },
   {
    "duration": 0,
    "start_time": "2022-08-17T16:29:05.648Z"
   },
   {
    "duration": 0,
    "start_time": "2022-08-17T16:29:05.650Z"
   },
   {
    "duration": 0,
    "start_time": "2022-08-17T16:29:05.651Z"
   },
   {
    "duration": 0,
    "start_time": "2022-08-17T16:29:05.652Z"
   },
   {
    "duration": 0,
    "start_time": "2022-08-17T16:29:05.652Z"
   },
   {
    "duration": 0,
    "start_time": "2022-08-17T16:29:05.654Z"
   },
   {
    "duration": 0,
    "start_time": "2022-08-17T16:29:05.655Z"
   },
   {
    "duration": 0,
    "start_time": "2022-08-17T16:29:05.656Z"
   },
   {
    "duration": 2,
    "start_time": "2022-08-17T17:11:25.721Z"
   },
   {
    "duration": 160,
    "start_time": "2022-08-17T17:11:25.737Z"
   },
   {
    "duration": 25,
    "start_time": "2022-08-17T17:11:25.899Z"
   },
   {
    "duration": 17,
    "start_time": "2022-08-17T17:11:25.925Z"
   },
   {
    "duration": 19,
    "start_time": "2022-08-17T17:11:26.073Z"
   },
   {
    "duration": 8,
    "start_time": "2022-08-17T17:11:26.094Z"
   },
   {
    "duration": 22,
    "start_time": "2022-08-17T17:11:26.947Z"
   },
   {
    "duration": 34,
    "start_time": "2022-08-17T17:11:26.971Z"
   },
   {
    "duration": 10,
    "start_time": "2022-08-17T17:11:27.007Z"
   },
   {
    "duration": 41,
    "start_time": "2022-08-17T17:11:27.018Z"
   },
   {
    "duration": 4,
    "start_time": "2022-08-17T17:11:27.061Z"
   },
   {
    "duration": 6,
    "start_time": "2022-08-17T17:11:27.067Z"
   },
   {
    "duration": 532,
    "start_time": "2022-08-17T17:11:27.075Z"
   },
   {
    "duration": 26,
    "start_time": "2022-08-17T17:11:27.609Z"
   },
   {
    "duration": 7,
    "start_time": "2022-08-17T17:11:27.636Z"
   },
   {
    "duration": 63,
    "start_time": "2022-08-17T17:11:27.645Z"
   },
   {
    "duration": 3,
    "start_time": "2022-08-17T17:11:27.709Z"
   },
   {
    "duration": 11,
    "start_time": "2022-08-17T17:11:27.715Z"
   },
   {
    "duration": 530,
    "start_time": "2022-08-17T17:11:27.728Z"
   },
   {
    "duration": 30,
    "start_time": "2022-08-17T17:11:28.260Z"
   },
   {
    "duration": 23,
    "start_time": "2022-08-17T17:11:28.291Z"
   },
   {
    "duration": 240,
    "start_time": "2022-08-17T17:11:28.315Z"
   },
   {
    "duration": 16,
    "start_time": "2022-08-17T17:11:28.556Z"
   },
   {
    "duration": 3,
    "start_time": "2022-08-17T17:11:28.573Z"
   },
   {
    "duration": 25,
    "start_time": "2022-08-17T17:11:28.578Z"
   },
   {
    "duration": 13,
    "start_time": "2022-08-17T17:11:28.605Z"
   },
   {
    "duration": 2,
    "start_time": "2022-08-17T17:19:46.929Z"
   },
   {
    "duration": 141,
    "start_time": "2022-08-17T17:19:46.934Z"
   },
   {
    "duration": 33,
    "start_time": "2022-08-17T17:19:47.077Z"
   },
   {
    "duration": 17,
    "start_time": "2022-08-17T17:19:47.166Z"
   },
   {
    "duration": 23,
    "start_time": "2022-08-17T17:19:47.185Z"
   },
   {
    "duration": 7,
    "start_time": "2022-08-17T17:19:47.210Z"
   },
   {
    "duration": 23,
    "start_time": "2022-08-17T17:19:47.219Z"
   },
   {
    "duration": 35,
    "start_time": "2022-08-17T17:19:47.244Z"
   },
   {
    "duration": 10,
    "start_time": "2022-08-17T17:19:47.303Z"
   },
   {
    "duration": 47,
    "start_time": "2022-08-17T17:19:47.427Z"
   },
   {
    "duration": 3,
    "start_time": "2022-08-17T17:19:47.477Z"
   },
   {
    "duration": 14,
    "start_time": "2022-08-17T17:19:47.481Z"
   },
   {
    "duration": 545,
    "start_time": "2022-08-17T17:19:47.496Z"
   },
   {
    "duration": 27,
    "start_time": "2022-08-17T17:19:48.043Z"
   },
   {
    "duration": 7,
    "start_time": "2022-08-17T17:19:48.247Z"
   },
   {
    "duration": 47,
    "start_time": "2022-08-17T17:19:48.256Z"
   },
   {
    "duration": 3,
    "start_time": "2022-08-17T17:19:48.305Z"
   },
   {
    "duration": 26,
    "start_time": "2022-08-17T17:19:48.310Z"
   },
   {
    "duration": 556,
    "start_time": "2022-08-17T17:19:48.339Z"
   },
   {
    "duration": 37,
    "start_time": "2022-08-17T17:19:48.898Z"
   },
   {
    "duration": 32,
    "start_time": "2022-08-17T17:19:48.938Z"
   },
   {
    "duration": 266,
    "start_time": "2022-08-17T17:19:48.972Z"
   },
   {
    "duration": 17,
    "start_time": "2022-08-17T17:19:49.240Z"
   },
   {
    "duration": 3,
    "start_time": "2022-08-17T17:19:49.258Z"
   },
   {
    "duration": 8,
    "start_time": "2022-08-17T17:19:49.264Z"
   },
   {
    "duration": 30,
    "start_time": "2022-08-17T17:19:49.274Z"
   },
   {
    "duration": 659,
    "start_time": "2022-08-17T17:19:49.306Z"
   },
   {
    "duration": 15,
    "start_time": "2022-08-17T17:19:49.967Z"
   },
   {
    "duration": 39,
    "start_time": "2022-08-17T17:19:49.984Z"
   },
   {
    "duration": 12,
    "start_time": "2022-08-17T17:19:50.025Z"
   },
   {
    "duration": 14,
    "start_time": "2022-08-17T17:19:50.039Z"
   },
   {
    "duration": 52,
    "start_time": "2022-08-17T17:19:50.055Z"
   },
   {
    "duration": 102,
    "start_time": "2022-08-17T17:19:50.109Z"
   },
   {
    "duration": 41,
    "start_time": "2022-08-17T17:19:50.213Z"
   },
   {
    "duration": 16,
    "start_time": "2022-08-17T17:19:50.255Z"
   },
   {
    "duration": 48,
    "start_time": "2022-08-17T17:19:50.273Z"
   },
   {
    "duration": 26,
    "start_time": "2022-08-17T17:19:50.322Z"
   },
   {
    "duration": 2,
    "start_time": "2022-08-17T17:25:20.746Z"
   },
   {
    "duration": 150,
    "start_time": "2022-08-17T17:25:20.750Z"
   },
   {
    "duration": 24,
    "start_time": "2022-08-17T17:25:20.902Z"
   },
   {
    "duration": 17,
    "start_time": "2022-08-17T17:25:20.928Z"
   },
   {
    "duration": 20,
    "start_time": "2022-08-17T17:25:20.947Z"
   },
   {
    "duration": 7,
    "start_time": "2022-08-17T17:25:20.969Z"
   },
   {
    "duration": 23,
    "start_time": "2022-08-17T17:25:21.004Z"
   },
   {
    "duration": 34,
    "start_time": "2022-08-17T17:25:21.029Z"
   },
   {
    "duration": 10,
    "start_time": "2022-08-17T17:25:21.065Z"
   },
   {
    "duration": 43,
    "start_time": "2022-08-17T17:25:21.634Z"
   },
   {
    "duration": 3,
    "start_time": "2022-08-17T17:25:21.679Z"
   },
   {
    "duration": 15,
    "start_time": "2022-08-17T17:25:21.684Z"
   },
   {
    "duration": 509,
    "start_time": "2022-08-17T17:25:21.878Z"
   },
   {
    "duration": 29,
    "start_time": "2022-08-17T17:25:22.389Z"
   },
   {
    "duration": 8,
    "start_time": "2022-08-17T17:25:22.420Z"
   },
   {
    "duration": 51,
    "start_time": "2022-08-17T17:25:22.430Z"
   },
   {
    "duration": 3,
    "start_time": "2022-08-17T17:25:22.502Z"
   },
   {
    "duration": 13,
    "start_time": "2022-08-17T17:25:22.507Z"
   },
   {
    "duration": 501,
    "start_time": "2022-08-17T17:25:22.522Z"
   },
   {
    "duration": 26,
    "start_time": "2022-08-17T17:25:23.024Z"
   },
   {
    "duration": 19,
    "start_time": "2022-08-17T17:25:23.052Z"
   },
   {
    "duration": 246,
    "start_time": "2022-08-17T17:25:23.073Z"
   },
   {
    "duration": 16,
    "start_time": "2022-08-17T17:25:23.320Z"
   },
   {
    "duration": 3,
    "start_time": "2022-08-17T17:25:23.338Z"
   },
   {
    "duration": 7,
    "start_time": "2022-08-17T17:25:23.343Z"
   },
   {
    "duration": 4,
    "start_time": "2022-08-17T17:25:23.353Z"
   },
   {
    "duration": 653,
    "start_time": "2022-08-17T17:25:23.358Z"
   },
   {
    "duration": 15,
    "start_time": "2022-08-17T17:25:24.013Z"
   },
   {
    "duration": 34,
    "start_time": "2022-08-17T17:25:24.030Z"
   },
   {
    "duration": 15,
    "start_time": "2022-08-17T17:25:24.066Z"
   },
   {
    "duration": 27,
    "start_time": "2022-08-17T17:25:24.083Z"
   },
   {
    "duration": 30,
    "start_time": "2022-08-17T17:25:24.111Z"
   },
   {
    "duration": 16,
    "start_time": "2022-08-17T17:25:24.143Z"
   },
   {
    "duration": 66,
    "start_time": "2022-08-17T17:25:24.161Z"
   },
   {
    "duration": 17,
    "start_time": "2022-08-17T17:25:24.228Z"
   },
   {
    "duration": 25,
    "start_time": "2022-08-17T17:25:24.246Z"
   },
   {
    "duration": 55,
    "start_time": "2022-08-17T17:25:24.272Z"
   },
   {
    "duration": 30,
    "start_time": "2022-08-17T17:25:24.329Z"
   },
   {
    "duration": 2,
    "start_time": "2022-08-17T17:59:42.120Z"
   },
   {
    "duration": 151,
    "start_time": "2022-08-17T17:59:42.125Z"
   },
   {
    "duration": 23,
    "start_time": "2022-08-17T17:59:42.368Z"
   },
   {
    "duration": 26,
    "start_time": "2022-08-17T17:59:42.393Z"
   },
   {
    "duration": 33,
    "start_time": "2022-08-17T17:59:42.421Z"
   },
   {
    "duration": 6,
    "start_time": "2022-08-17T17:59:42.456Z"
   },
   {
    "duration": 28,
    "start_time": "2022-08-17T17:59:42.464Z"
   },
   {
    "duration": 34,
    "start_time": "2022-08-17T17:59:42.846Z"
   },
   {
    "duration": 10,
    "start_time": "2022-08-17T17:59:42.882Z"
   },
   {
    "duration": 44,
    "start_time": "2022-08-17T17:59:42.894Z"
   },
   {
    "duration": 4,
    "start_time": "2022-08-17T17:59:42.941Z"
   },
   {
    "duration": 9,
    "start_time": "2022-08-17T17:59:42.947Z"
   },
   {
    "duration": 559,
    "start_time": "2022-08-17T17:59:42.958Z"
   },
   {
    "duration": 24,
    "start_time": "2022-08-17T17:59:43.519Z"
   },
   {
    "duration": 7,
    "start_time": "2022-08-17T17:59:43.545Z"
   },
   {
    "duration": 68,
    "start_time": "2022-08-17T17:59:43.554Z"
   },
   {
    "duration": 4,
    "start_time": "2022-08-17T17:59:43.624Z"
   },
   {
    "duration": 23,
    "start_time": "2022-08-17T17:59:43.630Z"
   },
   {
    "duration": 559,
    "start_time": "2022-08-17T17:59:43.655Z"
   },
   {
    "duration": 29,
    "start_time": "2022-08-17T17:59:44.217Z"
   },
   {
    "duration": 22,
    "start_time": "2022-08-17T17:59:44.248Z"
   },
   {
    "duration": 266,
    "start_time": "2022-08-17T17:59:44.274Z"
   },
   {
    "duration": 18,
    "start_time": "2022-08-17T17:59:44.542Z"
   },
   {
    "duration": 3,
    "start_time": "2022-08-17T17:59:44.562Z"
   },
   {
    "duration": 18,
    "start_time": "2022-08-17T17:59:44.567Z"
   },
   {
    "duration": 19,
    "start_time": "2022-08-17T17:59:44.587Z"
   },
   {
    "duration": 669,
    "start_time": "2022-08-17T17:59:44.608Z"
   },
   {
    "duration": 28,
    "start_time": "2022-08-17T17:59:45.279Z"
   },
   {
    "duration": 43,
    "start_time": "2022-08-17T17:59:45.309Z"
   },
   {
    "duration": 11,
    "start_time": "2022-08-17T17:59:45.354Z"
   },
   {
    "duration": 25,
    "start_time": "2022-08-17T17:59:45.366Z"
   },
   {
    "duration": 65,
    "start_time": "2022-08-17T17:59:45.393Z"
   },
   {
    "duration": 18,
    "start_time": "2022-08-17T17:59:45.459Z"
   },
   {
    "duration": 47,
    "start_time": "2022-08-17T17:59:45.479Z"
   },
   {
    "duration": 18,
    "start_time": "2022-08-17T17:59:45.529Z"
   },
   {
    "duration": 24,
    "start_time": "2022-08-17T17:59:45.548Z"
   },
   {
    "duration": 49,
    "start_time": "2022-08-17T17:59:45.574Z"
   },
   {
    "duration": 9,
    "start_time": "2022-08-17T17:59:45.626Z"
   },
   {
    "duration": 29,
    "start_time": "2022-08-17T17:59:45.637Z"
   },
   {
    "duration": 6,
    "start_time": "2022-08-17T17:59:45.668Z"
   },
   {
    "duration": 46,
    "start_time": "2022-08-17T17:59:45.675Z"
   },
   {
    "duration": 16,
    "start_time": "2022-08-17T17:59:45.724Z"
   },
   {
    "duration": 596,
    "start_time": "2022-08-17T17:59:45.744Z"
   },
   {
    "duration": 414,
    "start_time": "2022-08-17T17:59:46.342Z"
   },
   {
    "duration": 8,
    "start_time": "2022-08-17T17:59:46.758Z"
   },
   {
    "duration": 8,
    "start_time": "2022-08-17T17:59:53.038Z"
   },
   {
    "duration": 3,
    "start_time": "2022-08-17T18:19:32.035Z"
   },
   {
    "duration": 148,
    "start_time": "2022-08-17T18:19:32.042Z"
   },
   {
    "duration": 24,
    "start_time": "2022-08-17T18:19:32.192Z"
   },
   {
    "duration": 19,
    "start_time": "2022-08-17T18:19:32.775Z"
   },
   {
    "duration": 26,
    "start_time": "2022-08-17T18:19:32.796Z"
   },
   {
    "duration": 7,
    "start_time": "2022-08-17T18:19:32.824Z"
   },
   {
    "duration": 24,
    "start_time": "2022-08-17T18:19:32.833Z"
   },
   {
    "duration": 35,
    "start_time": "2022-08-17T18:19:33.056Z"
   },
   {
    "duration": 11,
    "start_time": "2022-08-17T18:19:33.093Z"
   },
   {
    "duration": 43,
    "start_time": "2022-08-17T18:19:33.106Z"
   },
   {
    "duration": 4,
    "start_time": "2022-08-17T18:19:33.151Z"
   },
   {
    "duration": 8,
    "start_time": "2022-08-17T18:19:33.157Z"
   },
   {
    "duration": 522,
    "start_time": "2022-08-17T18:19:33.166Z"
   },
   {
    "duration": 33,
    "start_time": "2022-08-17T18:19:33.690Z"
   },
   {
    "duration": 7,
    "start_time": "2022-08-17T18:19:33.727Z"
   },
   {
    "duration": 44,
    "start_time": "2022-08-17T18:19:33.735Z"
   },
   {
    "duration": 4,
    "start_time": "2022-08-17T18:19:33.802Z"
   },
   {
    "duration": 7,
    "start_time": "2022-08-17T18:19:33.808Z"
   },
   {
    "duration": 533,
    "start_time": "2022-08-17T18:19:33.817Z"
   },
   {
    "duration": 26,
    "start_time": "2022-08-17T18:19:34.352Z"
   },
   {
    "duration": 36,
    "start_time": "2022-08-17T18:19:34.380Z"
   },
   {
    "duration": 226,
    "start_time": "2022-08-17T18:19:34.419Z"
   },
   {
    "duration": 16,
    "start_time": "2022-08-17T18:19:34.647Z"
   },
   {
    "duration": 4,
    "start_time": "2022-08-17T18:19:34.665Z"
   },
   {
    "duration": 14,
    "start_time": "2022-08-17T18:19:34.670Z"
   },
   {
    "duration": 17,
    "start_time": "2022-08-17T18:19:34.686Z"
   },
   {
    "duration": 622,
    "start_time": "2022-08-17T18:19:34.705Z"
   },
   {
    "duration": 15,
    "start_time": "2022-08-17T18:19:35.329Z"
   },
   {
    "duration": 36,
    "start_time": "2022-08-17T18:19:35.347Z"
   },
   {
    "duration": 27,
    "start_time": "2022-08-17T18:19:35.386Z"
   },
   {
    "duration": 17,
    "start_time": "2022-08-17T18:19:35.416Z"
   },
   {
    "duration": 26,
    "start_time": "2022-08-17T18:19:35.435Z"
   },
   {
    "duration": 40,
    "start_time": "2022-08-17T18:19:35.463Z"
   },
   {
    "duration": 41,
    "start_time": "2022-08-17T18:19:35.505Z"
   },
   {
    "duration": 16,
    "start_time": "2022-08-17T18:19:35.548Z"
   },
   {
    "duration": 48,
    "start_time": "2022-08-17T18:19:35.566Z"
   },
   {
    "duration": 27,
    "start_time": "2022-08-17T18:19:35.616Z"
   },
   {
    "duration": 9,
    "start_time": "2022-08-17T18:19:35.644Z"
   },
   {
    "duration": 48,
    "start_time": "2022-08-17T18:19:35.655Z"
   },
   {
    "duration": 6,
    "start_time": "2022-08-17T18:19:35.704Z"
   },
   {
    "duration": 21,
    "start_time": "2022-08-17T18:19:35.712Z"
   },
   {
    "duration": 15,
    "start_time": "2022-08-17T18:19:35.735Z"
   },
   {
    "duration": 558,
    "start_time": "2022-08-17T18:19:35.754Z"
   },
   {
    "duration": 694,
    "start_time": "2022-08-17T18:19:36.314Z"
   },
   {
    "duration": 403,
    "start_time": "2022-08-17T18:19:37.010Z"
   },
   {
    "duration": 358,
    "start_time": "2022-08-17T18:19:37.414Z"
   },
   {
    "duration": 358,
    "start_time": "2022-08-17T18:19:37.774Z"
   },
   {
    "duration": 3,
    "start_time": "2022-08-17T18:19:38.133Z"
   },
   {
    "duration": 19,
    "start_time": "2022-08-17T18:19:38.138Z"
   },
   {
    "duration": 644,
    "start_time": "2022-08-17T18:30:40.437Z"
   },
   {
    "duration": 152,
    "start_time": "2022-08-17T18:30:41.083Z"
   },
   {
    "duration": 27,
    "start_time": "2022-08-17T18:30:41.238Z"
   },
   {
    "duration": 36,
    "start_time": "2022-08-17T18:30:41.266Z"
   },
   {
    "duration": 22,
    "start_time": "2022-08-17T18:30:41.305Z"
   },
   {
    "duration": 14,
    "start_time": "2022-08-17T18:30:41.329Z"
   },
   {
    "duration": 43,
    "start_time": "2022-08-17T18:30:41.344Z"
   },
   {
    "duration": 33,
    "start_time": "2022-08-17T18:30:41.389Z"
   },
   {
    "duration": 17,
    "start_time": "2022-08-17T18:30:41.424Z"
   },
   {
    "duration": 51,
    "start_time": "2022-08-17T18:30:41.443Z"
   },
   {
    "duration": 3,
    "start_time": "2022-08-17T18:30:41.503Z"
   },
   {
    "duration": 19,
    "start_time": "2022-08-17T18:30:41.508Z"
   },
   {
    "duration": 520,
    "start_time": "2022-08-17T18:30:41.529Z"
   },
   {
    "duration": 27,
    "start_time": "2022-08-17T18:30:42.052Z"
   },
   {
    "duration": 23,
    "start_time": "2022-08-17T18:30:42.081Z"
   },
   {
    "duration": 43,
    "start_time": "2022-08-17T18:30:42.105Z"
   },
   {
    "duration": 3,
    "start_time": "2022-08-17T18:30:42.149Z"
   },
   {
    "duration": 10,
    "start_time": "2022-08-17T18:30:42.153Z"
   },
   {
    "duration": 537,
    "start_time": "2022-08-17T18:30:42.165Z"
   },
   {
    "duration": 27,
    "start_time": "2022-08-17T18:30:42.704Z"
   },
   {
    "duration": 16,
    "start_time": "2022-08-17T18:30:42.732Z"
   },
   {
    "duration": 256,
    "start_time": "2022-08-17T18:30:42.750Z"
   },
   {
    "duration": 17,
    "start_time": "2022-08-17T18:30:43.008Z"
   },
   {
    "duration": 3,
    "start_time": "2022-08-17T18:30:43.027Z"
   },
   {
    "duration": 7,
    "start_time": "2022-08-17T18:30:43.032Z"
   },
   {
    "duration": 7,
    "start_time": "2022-08-17T18:30:43.041Z"
   },
   {
    "duration": 629,
    "start_time": "2022-08-17T18:30:43.050Z"
   },
   {
    "duration": 24,
    "start_time": "2022-08-17T18:30:43.681Z"
   },
   {
    "duration": 27,
    "start_time": "2022-08-17T18:30:43.708Z"
   },
   {
    "duration": 12,
    "start_time": "2022-08-17T18:30:43.737Z"
   },
   {
    "duration": 13,
    "start_time": "2022-08-17T18:30:43.751Z"
   },
   {
    "duration": 58,
    "start_time": "2022-08-17T18:30:43.766Z"
   },
   {
    "duration": 18,
    "start_time": "2022-08-17T18:30:43.826Z"
   },
   {
    "duration": 61,
    "start_time": "2022-08-17T18:30:43.846Z"
   },
   {
    "duration": 17,
    "start_time": "2022-08-17T18:30:43.909Z"
   },
   {
    "duration": 24,
    "start_time": "2022-08-17T18:30:43.928Z"
   },
   {
    "duration": 53,
    "start_time": "2022-08-17T18:30:43.954Z"
   },
   {
    "duration": 10,
    "start_time": "2022-08-17T18:30:44.009Z"
   },
   {
    "duration": 40,
    "start_time": "2022-08-17T18:30:44.027Z"
   },
   {
    "duration": 6,
    "start_time": "2022-08-17T18:30:44.069Z"
   },
   {
    "duration": 34,
    "start_time": "2022-08-17T18:30:44.080Z"
   },
   {
    "duration": 16,
    "start_time": "2022-08-17T18:30:44.116Z"
   },
   {
    "duration": 632,
    "start_time": "2022-08-17T18:30:44.134Z"
   },
   {
    "duration": 373,
    "start_time": "2022-08-17T18:30:44.768Z"
   },
   {
    "duration": 378,
    "start_time": "2022-08-17T18:30:45.143Z"
   },
   {
    "duration": 379,
    "start_time": "2022-08-17T18:30:45.523Z"
   },
   {
    "duration": 371,
    "start_time": "2022-08-17T18:30:45.904Z"
   },
   {
    "duration": 3,
    "start_time": "2022-08-17T18:30:46.276Z"
   },
   {
    "duration": 6,
    "start_time": "2022-08-17T18:30:46.281Z"
   },
   {
    "duration": 42,
    "start_time": "2022-08-17T18:30:46.289Z"
   },
   {
    "duration": 376,
    "start_time": "2022-08-17T18:30:46.332Z"
   },
   {
    "duration": 424,
    "start_time": "2022-08-17T18:30:46.709Z"
   },
   {
    "duration": 354,
    "start_time": "2022-08-17T18:30:47.135Z"
   },
   {
    "duration": 140,
    "start_time": "2022-08-17T18:30:47.491Z"
   },
   {
    "duration": 84,
    "start_time": "2022-08-17T18:30:47.633Z"
   },
   {
    "duration": 0,
    "start_time": "2022-08-17T18:30:47.719Z"
   },
   {
    "duration": 0,
    "start_time": "2022-08-17T18:30:47.721Z"
   },
   {
    "duration": 0,
    "start_time": "2022-08-17T18:30:47.721Z"
   },
   {
    "duration": 0,
    "start_time": "2022-08-17T18:30:47.722Z"
   },
   {
    "duration": 0,
    "start_time": "2022-08-17T18:30:47.723Z"
   },
   {
    "duration": 0,
    "start_time": "2022-08-17T18:30:47.724Z"
   },
   {
    "duration": 0,
    "start_time": "2022-08-17T18:30:47.725Z"
   },
   {
    "duration": 0,
    "start_time": "2022-08-17T18:30:47.726Z"
   },
   {
    "duration": 27,
    "start_time": "2022-08-17T18:31:26.065Z"
   },
   {
    "duration": 212,
    "start_time": "2022-08-17T18:31:26.094Z"
   },
   {
    "duration": 368,
    "start_time": "2022-08-17T18:31:26.308Z"
   },
   {
    "duration": 10,
    "start_time": "2022-08-17T18:31:26.678Z"
   },
   {
    "duration": 40,
    "start_time": "2022-08-17T18:31:26.690Z"
   },
   {
    "duration": 8,
    "start_time": "2022-08-17T18:31:26.732Z"
   },
   {
    "duration": 806,
    "start_time": "2022-08-17T18:31:26.742Z"
   },
   {
    "duration": 180,
    "start_time": "2022-08-17T18:31:27.549Z"
   },
   {
    "duration": 398,
    "start_time": "2022-08-17T18:31:27.730Z"
   },
   {
    "duration": 13,
    "start_time": "2022-08-17T18:54:01.165Z"
   },
   {
    "duration": 722,
    "start_time": "2022-08-17T18:54:16.114Z"
   },
   {
    "duration": 157,
    "start_time": "2022-08-17T18:54:16.839Z"
   },
   {
    "duration": 24,
    "start_time": "2022-08-17T18:54:16.998Z"
   },
   {
    "duration": 22,
    "start_time": "2022-08-17T18:54:17.024Z"
   },
   {
    "duration": 22,
    "start_time": "2022-08-17T18:54:17.050Z"
   },
   {
    "duration": 30,
    "start_time": "2022-08-17T18:54:17.074Z"
   },
   {
    "duration": 25,
    "start_time": "2022-08-17T18:54:17.106Z"
   },
   {
    "duration": 34,
    "start_time": "2022-08-17T18:54:17.133Z"
   },
   {
    "duration": 37,
    "start_time": "2022-08-17T18:54:17.169Z"
   },
   {
    "duration": 46,
    "start_time": "2022-08-17T18:54:17.208Z"
   },
   {
    "duration": 3,
    "start_time": "2022-08-17T18:54:17.257Z"
   },
   {
    "duration": 8,
    "start_time": "2022-08-17T18:54:17.262Z"
   },
   {
    "duration": 580,
    "start_time": "2022-08-17T18:54:17.271Z"
   },
   {
    "duration": 30,
    "start_time": "2022-08-17T18:54:17.855Z"
   },
   {
    "duration": 11,
    "start_time": "2022-08-17T18:54:17.904Z"
   },
   {
    "duration": 59,
    "start_time": "2022-08-17T18:54:17.917Z"
   },
   {
    "duration": 4,
    "start_time": "2022-08-17T18:54:17.979Z"
   },
   {
    "duration": 28,
    "start_time": "2022-08-17T18:54:17.986Z"
   },
   {
    "duration": 578,
    "start_time": "2022-08-17T18:54:18.016Z"
   },
   {
    "duration": 30,
    "start_time": "2022-08-17T18:54:18.596Z"
   },
   {
    "duration": 17,
    "start_time": "2022-08-17T18:54:18.628Z"
   },
   {
    "duration": 275,
    "start_time": "2022-08-17T18:54:18.647Z"
   },
   {
    "duration": 21,
    "start_time": "2022-08-17T18:54:18.925Z"
   },
   {
    "duration": 15,
    "start_time": "2022-08-17T18:54:18.949Z"
   },
   {
    "duration": 12,
    "start_time": "2022-08-17T18:54:18.966Z"
   },
   {
    "duration": 27,
    "start_time": "2022-08-17T18:54:18.980Z"
   },
   {
    "duration": 714,
    "start_time": "2022-08-17T18:54:19.010Z"
   },
   {
    "duration": 16,
    "start_time": "2022-08-17T18:54:19.726Z"
   },
   {
    "duration": 55,
    "start_time": "2022-08-17T18:54:19.744Z"
   },
   {
    "duration": 21,
    "start_time": "2022-08-17T18:54:19.801Z"
   },
   {
    "duration": 33,
    "start_time": "2022-08-17T18:54:19.824Z"
   },
   {
    "duration": 48,
    "start_time": "2022-08-17T18:54:19.858Z"
   },
   {
    "duration": 19,
    "start_time": "2022-08-17T18:54:19.907Z"
   },
   {
    "duration": 52,
    "start_time": "2022-08-17T18:54:19.927Z"
   },
   {
    "duration": 31,
    "start_time": "2022-08-17T18:54:19.981Z"
   },
   {
    "duration": 28,
    "start_time": "2022-08-17T18:54:20.014Z"
   },
   {
    "duration": 28,
    "start_time": "2022-08-17T18:54:20.044Z"
   },
   {
    "duration": 29,
    "start_time": "2022-08-17T18:54:20.074Z"
   },
   {
    "duration": 32,
    "start_time": "2022-08-17T18:54:20.105Z"
   },
   {
    "duration": 6,
    "start_time": "2022-08-17T18:54:20.139Z"
   },
   {
    "duration": 47,
    "start_time": "2022-08-17T18:54:20.150Z"
   },
   {
    "duration": 25,
    "start_time": "2022-08-17T18:54:20.199Z"
   },
   {
    "duration": 648,
    "start_time": "2022-08-17T18:54:20.226Z"
   },
   {
    "duration": 419,
    "start_time": "2022-08-17T18:54:20.877Z"
   },
   {
    "duration": 395,
    "start_time": "2022-08-17T18:54:21.298Z"
   },
   {
    "duration": 386,
    "start_time": "2022-08-17T18:54:21.696Z"
   },
   {
    "duration": 357,
    "start_time": "2022-08-17T18:54:22.084Z"
   },
   {
    "duration": 3,
    "start_time": "2022-08-17T18:54:22.444Z"
   },
   {
    "duration": 12,
    "start_time": "2022-08-17T18:54:22.449Z"
   },
   {
    "duration": 44,
    "start_time": "2022-08-17T18:54:22.463Z"
   },
   {
    "duration": 340,
    "start_time": "2022-08-17T18:54:22.510Z"
   },
   {
    "duration": 420,
    "start_time": "2022-08-17T18:54:22.852Z"
   },
   {
    "duration": 359,
    "start_time": "2022-08-17T18:54:23.273Z"
   },
   {
    "duration": 141,
    "start_time": "2022-08-17T18:54:23.633Z"
   },
   {
    "duration": 85,
    "start_time": "2022-08-17T18:54:23.776Z"
   },
   {
    "duration": 0,
    "start_time": "2022-08-17T18:54:23.864Z"
   },
   {
    "duration": 0,
    "start_time": "2022-08-17T18:54:23.865Z"
   },
   {
    "duration": 0,
    "start_time": "2022-08-17T18:54:23.867Z"
   },
   {
    "duration": 0,
    "start_time": "2022-08-17T18:54:23.869Z"
   },
   {
    "duration": 0,
    "start_time": "2022-08-17T18:54:23.870Z"
   },
   {
    "duration": 0,
    "start_time": "2022-08-17T18:54:23.872Z"
   },
   {
    "duration": 0,
    "start_time": "2022-08-17T18:54:23.873Z"
   },
   {
    "duration": 0,
    "start_time": "2022-08-17T18:54:23.874Z"
   },
   {
    "duration": 697,
    "start_time": "2022-08-24T00:50:54.118Z"
   },
   {
    "duration": 201,
    "start_time": "2022-08-24T00:50:54.817Z"
   },
   {
    "duration": 28,
    "start_time": "2022-08-24T00:50:55.020Z"
   },
   {
    "duration": 23,
    "start_time": "2022-08-24T00:50:55.049Z"
   },
   {
    "duration": 24,
    "start_time": "2022-08-24T00:50:55.091Z"
   },
   {
    "duration": 6,
    "start_time": "2022-08-24T00:50:55.117Z"
   },
   {
    "duration": 29,
    "start_time": "2022-08-24T00:50:55.125Z"
   },
   {
    "duration": 65,
    "start_time": "2022-08-24T00:50:55.156Z"
   },
   {
    "duration": 10,
    "start_time": "2022-08-24T00:50:55.222Z"
   },
   {
    "duration": 69,
    "start_time": "2022-08-24T00:50:55.234Z"
   },
   {
    "duration": 4,
    "start_time": "2022-08-24T00:50:55.304Z"
   },
   {
    "duration": 11,
    "start_time": "2022-08-24T00:50:55.309Z"
   },
   {
    "duration": 546,
    "start_time": "2022-08-24T00:50:55.322Z"
   },
   {
    "duration": 34,
    "start_time": "2022-08-24T00:50:55.871Z"
   },
   {
    "duration": 8,
    "start_time": "2022-08-24T00:50:55.907Z"
   },
   {
    "duration": 52,
    "start_time": "2022-08-24T00:50:55.917Z"
   },
   {
    "duration": 4,
    "start_time": "2022-08-24T00:50:55.992Z"
   },
   {
    "duration": 11,
    "start_time": "2022-08-24T00:50:55.998Z"
   },
   {
    "duration": 551,
    "start_time": "2022-08-24T00:50:56.011Z"
   },
   {
    "duration": 37,
    "start_time": "2022-08-24T00:50:56.564Z"
   },
   {
    "duration": 19,
    "start_time": "2022-08-24T00:50:56.603Z"
   },
   {
    "duration": 275,
    "start_time": "2022-08-24T00:50:56.624Z"
   },
   {
    "duration": 18,
    "start_time": "2022-08-24T00:50:56.901Z"
   },
   {
    "duration": 4,
    "start_time": "2022-08-24T00:50:56.921Z"
   },
   {
    "duration": 9,
    "start_time": "2022-08-24T00:50:56.928Z"
   },
   {
    "duration": 8,
    "start_time": "2022-08-24T00:50:56.939Z"
   },
   {
    "duration": 645,
    "start_time": "2022-08-24T00:50:56.949Z"
   },
   {
    "duration": 16,
    "start_time": "2022-08-24T00:50:57.596Z"
   },
   {
    "duration": 32,
    "start_time": "2022-08-24T00:50:57.615Z"
   },
   {
    "duration": 16,
    "start_time": "2022-08-24T00:50:57.649Z"
   },
   {
    "duration": 16,
    "start_time": "2022-08-24T00:50:57.693Z"
   },
   {
    "duration": 30,
    "start_time": "2022-08-24T00:50:57.711Z"
   },
   {
    "duration": 19,
    "start_time": "2022-08-24T00:50:57.743Z"
   },
   {
    "duration": 42,
    "start_time": "2022-08-24T00:50:57.792Z"
   },
   {
    "duration": 17,
    "start_time": "2022-08-24T00:50:57.836Z"
   },
   {
    "duration": 50,
    "start_time": "2022-08-24T00:50:57.855Z"
   },
   {
    "duration": 28,
    "start_time": "2022-08-24T00:50:57.907Z"
   },
   {
    "duration": 10,
    "start_time": "2022-08-24T00:50:57.937Z"
   },
   {
    "duration": 62,
    "start_time": "2022-08-24T00:50:57.949Z"
   },
   {
    "duration": 7,
    "start_time": "2022-08-24T00:50:58.013Z"
   },
   {
    "duration": 26,
    "start_time": "2022-08-24T00:50:58.025Z"
   },
   {
    "duration": 40,
    "start_time": "2022-08-24T00:50:58.053Z"
   },
   {
    "duration": 616,
    "start_time": "2022-08-24T00:50:58.095Z"
   },
   {
    "duration": 382,
    "start_time": "2022-08-24T00:50:58.713Z"
   },
   {
    "duration": 397,
    "start_time": "2022-08-24T00:50:59.097Z"
   },
   {
    "duration": 352,
    "start_time": "2022-08-24T00:50:59.497Z"
   },
   {
    "duration": 378,
    "start_time": "2022-08-24T00:50:59.851Z"
   },
   {
    "duration": 3,
    "start_time": "2022-08-24T00:51:00.231Z"
   },
   {
    "duration": 9,
    "start_time": "2022-08-24T00:51:00.235Z"
   },
   {
    "duration": 57,
    "start_time": "2022-08-24T00:51:00.246Z"
   },
   {
    "duration": 343,
    "start_time": "2022-08-24T00:51:00.305Z"
   },
   {
    "duration": 435,
    "start_time": "2022-08-24T00:51:00.650Z"
   },
   {
    "duration": 351,
    "start_time": "2022-08-24T00:51:01.091Z"
   },
   {
    "duration": 316,
    "start_time": "2022-08-24T00:51:01.444Z"
   },
   {
    "duration": 44,
    "start_time": "2022-08-24T00:51:01.762Z"
   },
   {
    "duration": 260,
    "start_time": "2022-08-24T00:51:01.808Z"
   },
   {
    "duration": 351,
    "start_time": "2022-08-24T00:51:02.069Z"
   },
   {
    "duration": 9,
    "start_time": "2022-08-24T00:51:02.422Z"
   },
   {
    "duration": 45,
    "start_time": "2022-08-24T00:51:02.432Z"
   },
   {
    "duration": 13,
    "start_time": "2022-08-24T00:51:02.478Z"
   },
   {
    "duration": 979,
    "start_time": "2022-08-24T00:51:02.494Z"
   },
   {
    "duration": 23,
    "start_time": "2022-08-24T00:51:03.476Z"
   },
   {
    "duration": 273,
    "start_time": "2022-08-24T00:51:03.501Z"
   },
   {
    "duration": 27,
    "start_time": "2022-08-24T00:51:03.776Z"
   },
   {
    "duration": 308,
    "start_time": "2022-08-24T00:51:03.804Z"
   },
   {
    "duration": 27,
    "start_time": "2022-08-24T00:52:32.656Z"
   },
   {
    "duration": 786,
    "start_time": "2022-08-25T01:06:42.702Z"
   },
   {
    "duration": 193,
    "start_time": "2022-08-25T01:06:43.490Z"
   },
   {
    "duration": 23,
    "start_time": "2022-08-25T01:06:43.685Z"
   },
   {
    "duration": 18,
    "start_time": "2022-08-25T01:06:43.710Z"
   },
   {
    "duration": 18,
    "start_time": "2022-08-25T01:06:43.729Z"
   },
   {
    "duration": 10,
    "start_time": "2022-08-25T01:06:43.748Z"
   },
   {
    "duration": 24,
    "start_time": "2022-08-25T01:06:43.759Z"
   },
   {
    "duration": 30,
    "start_time": "2022-08-25T01:06:43.799Z"
   },
   {
    "duration": 9,
    "start_time": "2022-08-25T01:06:43.830Z"
   },
   {
    "duration": 65,
    "start_time": "2022-08-25T01:06:43.842Z"
   },
   {
    "duration": 3,
    "start_time": "2022-08-25T01:06:43.909Z"
   },
   {
    "duration": 8,
    "start_time": "2022-08-25T01:06:43.913Z"
   },
   {
    "duration": 464,
    "start_time": "2022-08-25T01:06:43.923Z"
   },
   {
    "duration": 25,
    "start_time": "2022-08-25T01:06:44.389Z"
   },
   {
    "duration": 7,
    "start_time": "2022-08-25T01:06:44.415Z"
   },
   {
    "duration": 37,
    "start_time": "2022-08-25T01:06:44.423Z"
   },
   {
    "duration": 3,
    "start_time": "2022-08-25T01:06:44.461Z"
   },
   {
    "duration": 8,
    "start_time": "2022-08-25T01:06:44.465Z"
   },
   {
    "duration": 472,
    "start_time": "2022-08-25T01:06:44.474Z"
   },
   {
    "duration": 23,
    "start_time": "2022-08-25T01:06:44.948Z"
   },
   {
    "duration": 29,
    "start_time": "2022-08-25T01:06:44.972Z"
   },
   {
    "duration": 221,
    "start_time": "2022-08-25T01:06:45.003Z"
   },
   {
    "duration": 15,
    "start_time": "2022-08-25T01:06:45.225Z"
   },
   {
    "duration": 2,
    "start_time": "2022-08-25T01:06:45.242Z"
   },
   {
    "duration": 7,
    "start_time": "2022-08-25T01:06:45.246Z"
   },
   {
    "duration": 6,
    "start_time": "2022-08-25T01:06:45.255Z"
   },
   {
    "duration": 550,
    "start_time": "2022-08-25T01:06:45.263Z"
   },
   {
    "duration": 15,
    "start_time": "2022-08-25T01:06:45.817Z"
   },
   {
    "duration": 25,
    "start_time": "2022-08-25T01:06:45.833Z"
   },
   {
    "duration": 10,
    "start_time": "2022-08-25T01:06:45.860Z"
   },
   {
    "duration": 32,
    "start_time": "2022-08-25T01:06:45.871Z"
   },
   {
    "duration": 23,
    "start_time": "2022-08-25T01:06:45.905Z"
   },
   {
    "duration": 16,
    "start_time": "2022-08-25T01:06:45.929Z"
   },
   {
    "duration": 55,
    "start_time": "2022-08-25T01:06:45.946Z"
   },
   {
    "duration": 17,
    "start_time": "2022-08-25T01:06:46.002Z"
   },
   {
    "duration": 22,
    "start_time": "2022-08-25T01:06:46.020Z"
   },
   {
    "duration": 24,
    "start_time": "2022-08-25T01:06:46.043Z"
   },
   {
    "duration": 34,
    "start_time": "2022-08-25T01:06:46.069Z"
   },
   {
    "duration": 26,
    "start_time": "2022-08-25T01:06:46.105Z"
   },
   {
    "duration": 4,
    "start_time": "2022-08-25T01:06:46.133Z"
   },
   {
    "duration": 21,
    "start_time": "2022-08-25T01:06:46.138Z"
   },
   {
    "duration": 16,
    "start_time": "2022-08-25T01:06:46.161Z"
   },
   {
    "duration": 561,
    "start_time": "2022-08-25T01:06:46.200Z"
   },
   {
    "duration": 343,
    "start_time": "2022-08-25T01:06:46.763Z"
   },
   {
    "duration": 334,
    "start_time": "2022-08-25T01:06:47.108Z"
   },
   {
    "duration": 324,
    "start_time": "2022-08-25T01:06:47.443Z"
   },
   {
    "duration": 298,
    "start_time": "2022-08-25T01:06:47.768Z"
   },
   {
    "duration": 3,
    "start_time": "2022-08-25T01:06:48.067Z"
   },
   {
    "duration": 10,
    "start_time": "2022-08-25T01:06:48.071Z"
   },
   {
    "duration": 54,
    "start_time": "2022-08-25T01:06:48.082Z"
   },
   {
    "duration": 281,
    "start_time": "2022-08-25T01:06:48.138Z"
   },
   {
    "duration": 368,
    "start_time": "2022-08-25T01:06:48.421Z"
   },
   {
    "duration": 303,
    "start_time": "2022-08-25T01:06:48.791Z"
   },
   {
    "duration": 253,
    "start_time": "2022-08-25T01:06:49.100Z"
   },
   {
    "duration": 23,
    "start_time": "2022-08-25T01:06:49.355Z"
   },
   {
    "duration": 194,
    "start_time": "2022-08-25T01:06:49.380Z"
   },
   {
    "duration": 324,
    "start_time": "2022-08-25T01:06:49.576Z"
   },
   {
    "duration": 10,
    "start_time": "2022-08-25T01:06:49.902Z"
   },
   {
    "duration": 32,
    "start_time": "2022-08-25T01:06:49.913Z"
   },
   {
    "duration": 7,
    "start_time": "2022-08-25T01:06:49.947Z"
   },
   {
    "duration": 873,
    "start_time": "2022-08-25T01:06:49.955Z"
   },
   {
    "duration": 14,
    "start_time": "2022-08-25T01:06:50.830Z"
   },
   {
    "duration": 243,
    "start_time": "2022-08-25T01:06:50.846Z"
   },
   {
    "duration": 17,
    "start_time": "2022-08-25T01:06:51.091Z"
   },
   {
    "duration": 263,
    "start_time": "2022-08-25T01:06:51.110Z"
   }
  ],
  "kernelspec": {
   "display_name": "Python 3",
   "language": "python",
   "name": "python3"
  },
  "language_info": {
   "codemirror_mode": {
    "name": "ipython",
    "version": 3
   },
   "file_extension": ".py",
   "mimetype": "text/x-python",
   "name": "python",
   "nbconvert_exporter": "python",
   "pygments_lexer": "ipython3",
   "version": "3.9.12"
  },
  "toc": {
   "base_numbering": 1,
   "nav_menu": {},
   "number_sections": true,
   "sideBar": true,
   "skip_h1_title": true,
   "title_cell": "Table of Contents",
   "title_sidebar": "Contents",
   "toc_cell": false,
   "toc_position": {
    "height": "calc(100% - 180px)",
    "left": "10px",
    "top": "150px",
    "width": "272px"
   },
   "toc_section_display": true,
   "toc_window_display": false
  },
  "varInspector": {
   "cols": {
    "lenName": 16,
    "lenType": 16,
    "lenVar": 40
   },
   "kernels_config": {
    "python": {
     "delete_cmd_postfix": "",
     "delete_cmd_prefix": "del ",
     "library": "var_list.py",
     "varRefreshCmd": "print(var_dic_list())"
    },
    "r": {
     "delete_cmd_postfix": ") ",
     "delete_cmd_prefix": "rm(",
     "library": "var_list.r",
     "varRefreshCmd": "cat(var_dic_list()) "
    }
   },
   "types_to_exclude": [
    "module",
    "function",
    "builtin_function_or_method",
    "instance",
    "_Feature"
   ],
   "window_display": false
  }
 },
 "nbformat": 4,
 "nbformat_minor": 5
}
